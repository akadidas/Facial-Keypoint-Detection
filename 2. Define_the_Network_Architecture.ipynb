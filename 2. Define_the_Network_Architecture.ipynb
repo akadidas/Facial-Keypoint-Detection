{
  "nbformat": 4,
  "nbformat_minor": 0,
  "metadata": {
    "kernelspec": {
      "display_name": "Python [conda env:ai]",
      "language": "python",
      "name": "conda-env-ai-py"
    },
    "language_info": {
      "codemirror_mode": {
        "name": "ipython",
        "version": 3
      },
      "file_extension": ".py",
      "mimetype": "text/x-python",
      "name": "python",
      "nbconvert_exporter": "python",
      "pygments_lexer": "ipython3",
      "version": "3.5.4"
    },
    "colab": {
      "name": "Define the Network Architecture.ipynb",
      "provenance": [],
      "collapsed_sections": [],
      "toc_visible": true
    },
    "accelerator": "GPU"
  },
  "cells": [
    {
      "cell_type": "markdown",
      "metadata": {
        "id": "ARqsu3XuVLtx",
        "colab_type": "text"
      },
      "source": [
        "## Define the Convolutional Neural Network\n",
        "\n",
        "After you've looked at the data you're working with and, in this case, know the shapes of the images and of the keypoints, you are ready to define a convolutional neural network that can *learn* from this data.\n",
        "\n",
        "In this notebook and in `models.py`, you will:\n",
        "1. Define a CNN with images as input and keypoints as output\n",
        "2. Construct the transformed FaceKeypointsDataset, just as before\n",
        "3. Train the CNN on the training data, tracking loss\n",
        "4. See how the trained model performs on test data\n",
        "5. If necessary, modify the CNN structure and model hyperparameters, so that it performs *well* **\\***\n",
        "\n",
        "**\\*** What does *well* mean?\n",
        "\n",
        "\"Well\" means that the model's loss decreases during training **and**, when applied to test image data, the model produces keypoints that closely match the true keypoints of each face. And you'll see examples of this later in the notebook.\n",
        "\n",
        "---\n"
      ]
    },
    {
      "cell_type": "code",
      "metadata": {
        "id": "CYeEn0PvVUPA",
        "colab_type": "code",
        "colab": {
          "base_uri": "https://localhost:8080/",
          "height": 248
        },
        "outputId": "d083c5f5-d89f-4603-c2c0-7b1a0a50f43c"
      },
      "source": [
        "# load the data if you need to; if you have already loaded the data, you may comment this cell out\n",
        "# -- DO NOT CHANGE THIS CELL -- #\n",
        "!mkdir /data\n",
        "!wget -P /data/ https://s3.amazonaws.com/video.udacity-data.com/topher/2018/May/5aea1b91_train-test-data/train-test-data.zip\n",
        "!unzip -n /data/train-test-data.zip -d /data"
      ],
      "execution_count": 1,
      "outputs": [
        {
          "output_type": "stream",
          "text": [
            "mkdir: cannot create directory ‘/data’: File exists\n",
            "--2019-10-12 00:46:18--  https://s3.amazonaws.com/video.udacity-data.com/topher/2018/May/5aea1b91_train-test-data/train-test-data.zip\n",
            "Resolving s3.amazonaws.com (s3.amazonaws.com)... 52.216.96.69\n",
            "Connecting to s3.amazonaws.com (s3.amazonaws.com)|52.216.96.69|:443... connected.\n",
            "HTTP request sent, awaiting response... 200 OK\n",
            "Length: 338613624 (323M) [application/zip]\n",
            "Saving to: ‘/data/train-test-data.zip.3’\n",
            "\n",
            "train-test-data.zip 100%[===================>] 322.93M  16.7MB/s    in 21s     \n",
            "\n",
            "2019-10-12 00:46:40 (15.5 MB/s) - ‘/data/train-test-data.zip.3’ saved [338613624/338613624]\n",
            "\n",
            "Archive:  /data/train-test-data.zip\n"
          ],
          "name": "stdout"
        }
      ]
    },
    {
      "cell_type": "code",
      "metadata": {
        "id": "qljYs2y2Vlj8",
        "colab_type": "code",
        "colab": {
          "base_uri": "https://localhost:8080/",
          "height": 35
        },
        "outputId": "252a102e-d904-43f3-82f6-88bb5f8a6ca3"
      },
      "source": [
        "from google.colab import drive\n",
        "drive.mount('/content/drive')"
      ],
      "execution_count": 2,
      "outputs": [
        {
          "output_type": "stream",
          "text": [
            "Mounted at /content/drive\n"
          ],
          "name": "stdout"
        }
      ]
    },
    {
      "cell_type": "markdown",
      "metadata": {
        "id": "0EsYnHAkVLty",
        "colab_type": "text"
      },
      "source": [
        "## CNN Architecture\n",
        "\n",
        "Recall that CNN's are defined by a few types of layers:\n",
        "* Convolutional layers\n",
        "* Maxpooling layers\n",
        "* Fully-connected layers\n",
        "\n",
        "You are required to use the above layers and encouraged to add multiple convolutional layers and things like dropout layers that may prevent overfitting. You are also encouraged to look at literature on keypoint detection, such as [this paper](https://arxiv.org/pdf/1710.00977.pdf), to help you determine the structure of your network.\n",
        "\n",
        "\n",
        "### TODO: Define your model in the provided file `models.py` file\n",
        "\n",
        "This file is mostly empty but contains the expected name and some TODO's for creating your model.\n",
        "\n",
        "---"
      ]
    },
    {
      "cell_type": "markdown",
      "metadata": {
        "id": "MvnOsV2pVLtz",
        "colab_type": "text"
      },
      "source": [
        "## PyTorch Neural Nets\n",
        "\n",
        "To define a neural network in PyTorch, you define the layers of a model in the function `__init__` and define the feedforward behavior of a network that employs those initialized layers in the function `forward`, which takes in an input image tensor, `x`. The structure of this Net class is shown below and left for you to fill in.\n",
        "\n",
        "Note: During training, PyTorch will be able to perform backpropagation by keeping track of the network's feedforward behavior and using autograd to calculate the update to the weights in the network.\n",
        "\n",
        "#### Define the Layers in ` __init__`\n",
        "As a reminder, a conv/pool layer may be defined like this (in `__init__`):\n",
        "```\n",
        "# 1 input image channel (for grayscale images), 32 output channels/feature maps, 3x3 square convolution kernel\n",
        "self.conv1 = nn.Conv2d(1, 32, 3)\n",
        "\n",
        "# maxpool that uses a square window of kernel_size=2, stride=2\n",
        "self.pool = nn.MaxPool2d(2, 2)      \n",
        "```\n",
        "\n",
        "#### Refer to Layers in `forward`\n",
        "Then referred to in the `forward` function like this, in which the conv1 layer has a ReLu activation applied to it before maxpooling is applied:\n",
        "```\n",
        "x = self.pool(F.relu(self.conv1(x)))\n",
        "```\n",
        "\n",
        "Best practice is to place any layers whose weights will change during the training process in `__init__` and refer to them in the `forward` function; any layers or functions that always behave in the same way, such as a pre-defined activation function, should appear *only* in the `forward` function."
      ]
    },
    {
      "cell_type": "markdown",
      "metadata": {
        "id": "yyDQG562VLt0",
        "colab_type": "text"
      },
      "source": [
        "#### Why models.py\n",
        "\n",
        "You are tasked with defining the network in the `models.py` file so that any models you define can be saved and loaded by name in different notebooks in this project directory. For example, by defining a CNN class called `Net` in `models.py`, you can then create that same architecture in this and other notebooks by simply importing the class and instantiating a model:\n",
        "```\n",
        "    from models import Net\n",
        "    net = Net()\n",
        "```"
      ]
    },
    {
      "cell_type": "code",
      "metadata": {
        "id": "Vi-AaryxVLt0",
        "colab_type": "code",
        "colab": {}
      },
      "source": [
        "# import the usual resources\n",
        "import matplotlib.pyplot as plt\n",
        "import numpy as np\n",
        "\n",
        "# watch for any changes in model.py, if it changes, re-load it automatically\n",
        "%load_ext autoreload\n",
        "%autoreload 2"
      ],
      "execution_count": 0,
      "outputs": []
    },
    {
      "cell_type": "code",
      "metadata": {
        "id": "ebGcZhqeVhZq",
        "colab_type": "code",
        "colab": {}
      },
      "source": [
        ""
      ],
      "execution_count": 0,
      "outputs": []
    },
    {
      "cell_type": "code",
      "metadata": {
        "id": "VFyX-0ApVLt2",
        "colab_type": "code",
        "colab": {
          "base_uri": "https://localhost:8080/",
          "height": 301
        },
        "outputId": "3cb3b836-adec-41c1-d05e-001cd6537972"
      },
      "source": [
        "## TODO: Define the Net in models.py\n",
        "\n",
        "import torch\n",
        "import torch.nn as nn\n",
        "import torch.nn.functional as F\n",
        "\n",
        "class Net(nn.Module):\n",
        "\n",
        "    def __init__(self):\n",
        "        super(Net, self).__init__()\n",
        "        \n",
        "        ## TODO: Define all the layers of this CNN, the only requirements are:\n",
        "        ## 1. This network takes in a square (same width and height), grayscale image as input\n",
        "        ## 2. It ends with a linear layer that represents the keypoints\n",
        "        ## it's suggested that you make this last layer output 136 values, 2 for each of the 68 keypoint (x, y) pairs\n",
        "        \n",
        "        # As an example, you've been given a convolutional layer, which you may (but don't have to) change:\n",
        "        # 1 input image channel (grayscale), 32 output channels/feature maps, 5x5 square convolution kernel\n",
        "        \n",
        "        # convolutional layer (sees 224x224x1 image tensor)\n",
        "        self.conv1 = nn.Conv2d(1, 3, 5, padding=2)\n",
        "        # convolutional layer (sees 112x112x3 tensor)\n",
        "        self.conv2 = nn.Conv2d(3, 9, 5, padding=2)\n",
        "        # max pooling layer\n",
        "        self.pool = nn.MaxPool2d(2, 2)\n",
        "        # linear layer (9 * 56 * 56 -> 500)\n",
        "        self.fc1 = nn.Linear(9 * 56 * 56, 300)\n",
        "        # linear layer (300-> 136)\n",
        "        self.fc2 = nn.Linear(300, 136)\n",
        "        # dropout layer (p=0.20)\n",
        "        self.dropout = nn.Dropout(0.20)\n",
        "        ## Note that among the layers to add, consider including:\n",
        "        # maxpooling layers, multiple conv layers, fully-connected layers, and other layers (such as dropout or batch normalization) to avoid overfitting\n",
        "        \n",
        "\n",
        "        \n",
        "    def forward(self, x):\n",
        "        ## TODO: Define the feedforward behavior of this model\n",
        "        ## x is the input image and, as an example, here you may choose to include a pool/conv step:\n",
        "        ## x = self.pool(F.relu(self.conv1(x)))\n",
        "        \n",
        "         # add sequence of convolutional and max pooling layers\n",
        "        x = self.pool(F.relu(self.conv1(x)))\n",
        "        x = self.pool(F.relu(self.conv2(x)))\n",
        "        \n",
        "        # flatten image input\n",
        "        x = x.view(-1, 9 * 56 * 56)\n",
        "        # add dropout layer\n",
        "        x = self.dropout(x)\n",
        "        # add 1st hidden layer, with relu activation function\n",
        "        x = F.relu(self.fc1(x))\n",
        "        # add dropout layer\n",
        "        x = self.dropout(x)\n",
        "        # add 2nd hidden layer, with relu activation function\n",
        "        x = self.fc2(x)\n",
        "        \n",
        "\n",
        "        # a modified x, having gone through all the layers of your model, should be returned\n",
        "        return x\n",
        "\n",
        "\n",
        "## TODO: Once you've define the network, you can instantiate it\n",
        "# one example conv layer has been provided for you\n",
        "\n",
        "\n",
        "net = Net()\n",
        "print(net)\n",
        "net.cuda()"
      ],
      "execution_count": 4,
      "outputs": [
        {
          "output_type": "stream",
          "text": [
            "Net(\n",
            "  (conv1): Conv2d(1, 3, kernel_size=(5, 5), stride=(1, 1), padding=(2, 2))\n",
            "  (conv2): Conv2d(3, 9, kernel_size=(5, 5), stride=(1, 1), padding=(2, 2))\n",
            "  (pool): MaxPool2d(kernel_size=2, stride=2, padding=0, dilation=1, ceil_mode=False)\n",
            "  (fc1): Linear(in_features=28224, out_features=300, bias=True)\n",
            "  (fc2): Linear(in_features=300, out_features=136, bias=True)\n",
            "  (dropout): Dropout(p=0.2, inplace=False)\n",
            ")\n"
          ],
          "name": "stdout"
        },
        {
          "output_type": "execute_result",
          "data": {
            "text/plain": [
              "Net(\n",
              "  (conv1): Conv2d(1, 3, kernel_size=(5, 5), stride=(1, 1), padding=(2, 2))\n",
              "  (conv2): Conv2d(3, 9, kernel_size=(5, 5), stride=(1, 1), padding=(2, 2))\n",
              "  (pool): MaxPool2d(kernel_size=2, stride=2, padding=0, dilation=1, ceil_mode=False)\n",
              "  (fc1): Linear(in_features=28224, out_features=300, bias=True)\n",
              "  (fc2): Linear(in_features=300, out_features=136, bias=True)\n",
              "  (dropout): Dropout(p=0.2, inplace=False)\n",
              ")"
            ]
          },
          "metadata": {
            "tags": []
          },
          "execution_count": 4
        }
      ]
    },
    {
      "cell_type": "code",
      "metadata": {
        "id": "4z3haNRdXylf",
        "colab_type": "code",
        "colab": {}
      },
      "source": [
        "import glob\n",
        "import os\n",
        "import torch\n",
        "from torch.utils.data import Dataset, DataLoader\n",
        "import numpy as np\n",
        "import matplotlib.image as mpimg\n",
        "import pandas as pd\n",
        "import cv2\n",
        "\n",
        "\n",
        "class FacialKeypointsDataset(Dataset):\n",
        "    \"\"\"Face Landmarks dataset.\"\"\"\n",
        "\n",
        "    def __init__(self, csv_file, root_dir, transform=None):\n",
        "        \"\"\"\n",
        "        Args:\n",
        "            csv_file (string): Path to the csv file with annotations.\n",
        "            root_dir (string): Directory with all the images.\n",
        "            transform (callable, optional): Optional transform to be applied\n",
        "                on a sample.\n",
        "        \"\"\"\n",
        "        self.key_pts_frame = pd.read_csv(csv_file)\n",
        "        self.root_dir = root_dir\n",
        "        self.transform = transform\n",
        "\n",
        "    def __len__(self):\n",
        "        return len(self.key_pts_frame)\n",
        "\n",
        "    def __getitem__(self, idx):\n",
        "        image_name = os.path.join(self.root_dir,\n",
        "                                self.key_pts_frame.iloc[idx, 0])\n",
        "        \n",
        "        image = mpimg.imread(image_name)\n",
        "        \n",
        "        # if image has an alpha color channel, get rid of it\n",
        "        if(image.shape[2] == 4):\n",
        "            image = image[:,:,0:3]\n",
        "        \n",
        "        key_pts = self.key_pts_frame.iloc[idx, 1:].as_matrix()\n",
        "        key_pts = key_pts.astype('float').reshape(-1, 2)\n",
        "        sample = {'image': image, 'keypoints': key_pts}\n",
        "\n",
        "        if self.transform:\n",
        "            sample = self.transform(sample)\n",
        "\n",
        "        return sample\n",
        "    \n",
        "\n",
        "    \n",
        "# tranforms\n",
        "\n",
        "class Normalize(object):\n",
        "    \"\"\"Convert a color image to grayscale and normalize the color range to [0,1].\"\"\"        \n",
        "\n",
        "    def __call__(self, sample):\n",
        "        image, key_pts = sample['image'], sample['keypoints']\n",
        "        \n",
        "        image_copy = np.copy(image)\n",
        "        key_pts_copy = np.copy(key_pts)\n",
        "\n",
        "        # convert image to grayscale\n",
        "        image_copy = cv2.cvtColor(image, cv2.COLOR_RGB2GRAY)\n",
        "        \n",
        "        # scale color range from [0, 255] to [0, 1]\n",
        "        image_copy=  image_copy/255.0\n",
        "            \n",
        "        \n",
        "        # scale keypoints to be centered around 0 with a range of [-1, 1]\n",
        "        # mean = 100, sqrt = 50, so, pts should be (pts - 100)/50\n",
        "        key_pts_copy = (key_pts_copy - 100)/50.0\n",
        "\n",
        "\n",
        "        return {'image': image_copy, 'keypoints': key_pts_copy}\n",
        "\n",
        "\n",
        "class Rescale(object):\n",
        "    \"\"\"Rescale the image in a sample to a given size.\n",
        "\n",
        "    Args:\n",
        "        output_size (tuple or int): Desired output size. If tuple, output is\n",
        "            matched to output_size. If int, smaller of image edges is matched\n",
        "            to output_size keeping aspect ratio the same.\n",
        "    \"\"\"\n",
        "\n",
        "    def __init__(self, output_size):\n",
        "        assert isinstance(output_size, (int, tuple))\n",
        "        self.output_size = output_size\n",
        "\n",
        "    def __call__(self, sample):\n",
        "        image, key_pts = sample['image'], sample['keypoints']\n",
        "\n",
        "        h, w = image.shape[:2]\n",
        "        if isinstance(self.output_size, int):\n",
        "            if h > w:\n",
        "                new_h, new_w = self.output_size * h / w, self.output_size\n",
        "            else:\n",
        "                new_h, new_w = self.output_size, self.output_size * w / h\n",
        "        else:\n",
        "            new_h, new_w = self.output_size\n",
        "\n",
        "        new_h, new_w = int(new_h), int(new_w)\n",
        "\n",
        "        img = cv2.resize(image, (new_w, new_h))\n",
        "        \n",
        "        # scale the pts, too\n",
        "        key_pts = key_pts * [new_w / w, new_h / h]\n",
        "\n",
        "        return {'image': img, 'keypoints': key_pts}\n",
        "\n",
        "\n",
        "class RandomCrop(object):\n",
        "    \"\"\"Crop randomly the image in a sample.\n",
        "\n",
        "    Args:\n",
        "        output_size (tuple or int): Desired output size. If int, square crop\n",
        "            is made.\n",
        "    \"\"\"\n",
        "\n",
        "    def __init__(self, output_size):\n",
        "        assert isinstance(output_size, (int, tuple))\n",
        "        if isinstance(output_size, int):\n",
        "            self.output_size = (output_size, output_size)\n",
        "        else:\n",
        "            assert len(output_size) == 2\n",
        "            self.output_size = output_size\n",
        "\n",
        "    def __call__(self, sample):\n",
        "        image, key_pts = sample['image'], sample['keypoints']\n",
        "\n",
        "        h, w = image.shape[:2]\n",
        "        new_h, new_w = self.output_size\n",
        "\n",
        "        top = np.random.randint(0, h - new_h)\n",
        "        left = np.random.randint(0, w - new_w)\n",
        "\n",
        "        image = image[top: top + new_h,\n",
        "                      left: left + new_w]\n",
        "\n",
        "        key_pts = key_pts - [left, top]\n",
        "\n",
        "        return {'image': image, 'keypoints': key_pts}\n",
        "\n",
        "\n",
        "class ToTensor(object):\n",
        "    \"\"\"Convert ndarrays in sample to Tensors.\"\"\"\n",
        "\n",
        "    def __call__(self, sample):\n",
        "        image, key_pts = sample['image'], sample['keypoints']\n",
        "         \n",
        "        # if image has no grayscale color channel, add one\n",
        "        if(len(image.shape) == 2):\n",
        "            # add that third color dim\n",
        "            image = image.reshape(image.shape[0], image.shape[1], 1)\n",
        "            \n",
        "        # swap color axis because\n",
        "        # numpy image: H x W x C\n",
        "        # torch image: C X H X W\n",
        "        image = image.transpose((2, 0, 1))\n",
        "        \n",
        "        return {'image': torch.from_numpy(image),\n",
        "                'keypoints': torch.from_numpy(key_pts)}"
      ],
      "execution_count": 0,
      "outputs": []
    },
    {
      "cell_type": "markdown",
      "metadata": {
        "collapsed": true,
        "id": "v0uq2_KMVLt4",
        "colab_type": "text"
      },
      "source": [
        "## Transform the dataset \n",
        "\n",
        "To prepare for training, create a transformed dataset of images and keypoints.\n",
        "\n",
        "### TODO: Define a data transform\n",
        "\n",
        "In PyTorch, a convolutional neural network expects a torch image of a consistent size as input. For efficient training, and so your model's loss does not blow up during training, it is also suggested that you normalize the input images and keypoints. The necessary transforms have been defined in `data_load.py` and you **do not** need to modify these; take a look at this file (you'll see the same transforms that were defined and applied in Notebook 1).\n",
        "\n",
        "To define the data transform below, use a [composition](http://pytorch.org/tutorials/beginner/data_loading_tutorial.html#compose-transforms) of:\n",
        "1. Rescaling and/or cropping the data, such that you are left with a square image (the suggested size is 224x224px)\n",
        "2. Normalizing the images and keypoints; turning each RGB image into a grayscale image with a color range of [0, 1] and transforming the given keypoints into a range of [-1, 1]\n",
        "3. Turning these images and keypoints into Tensors\n",
        "\n",
        "These transformations have been defined in `data_load.py`, but it's up to you to call them and create a `data_transform` below. **This transform will be applied to the training data and, later, the test data**. It will change how you go about displaying these images and keypoints, but these steps are essential for efficient training.\n",
        "\n",
        "As a note, should you want to perform data augmentation (which is optional in this project), and randomly rotate or shift these images, a square image size will be useful; rotating a 224x224 image by 90 degrees will result in the same shape of output."
      ]
    },
    {
      "cell_type": "code",
      "metadata": {
        "id": "tONkx__1VLt5",
        "colab_type": "code",
        "colab": {}
      },
      "source": [
        "from torch.utils.data import Dataset, DataLoader\n",
        "from torchvision import transforms, utils\n",
        "\n",
        "# the dataset we created in Notebook 1 is copied in the helper file `data_load.py`\n",
        "#from data_load import FacialKeypointsDataset\n",
        "# the transforms we defined in Notebook 1 are in the helper file `data_load.py`\n",
        "#from data_load import Rescale, RandomCrop, Normalize, ToTensor\n",
        "\n",
        "\n",
        "## TODO: define the data_transform using transforms.Compose([all tx's, . , .])\n",
        "# order matters! i.e. rescaling should come before a smaller crop\n",
        "data_transform = transforms.Compose([Rescale(256),RandomCrop(224),Normalize(),ToTensor()])\n",
        "\n",
        "# testing that you've defined a transform\n",
        "assert(data_transform is not None), 'Define a data_transform'"
      ],
      "execution_count": 0,
      "outputs": []
    },
    {
      "cell_type": "code",
      "metadata": {
        "id": "rNAGHWkXVLt6",
        "colab_type": "code",
        "colab": {
          "base_uri": "https://localhost:8080/",
          "height": 124
        },
        "outputId": "29dab80f-71ca-4ab5-972c-9ed1590d6ed2"
      },
      "source": [
        "# create the transformed dataset\n",
        "transformed_dataset = FacialKeypointsDataset(csv_file='/content/drive/My Drive/P1_Facial_Keypoints-master/data/training_frames_keypoints.csv',\n",
        "                                             root_dir='/content/drive/My Drive/P1_Facial_Keypoints-master/data/training',\n",
        "                                             transform=data_transform)\n",
        "\n",
        "\n",
        "print('Number of images: ', len(transformed_dataset))\n",
        "\n",
        "# iterate through the transformed dataset and print some stats about the first few samples\n",
        "for i in range(4):\n",
        "    sample = transformed_dataset[i]\n",
        "    print(i, sample['image'].size(), sample['keypoints'].size())"
      ],
      "execution_count": 7,
      "outputs": [
        {
          "output_type": "stream",
          "text": [
            "Number of images:  3462\n",
            "0 torch.Size([1, 224, 224]) torch.Size([68, 2])\n",
            "1 torch.Size([1, 224, 224]) torch.Size([68, 2])\n",
            "2 torch.Size([1, 224, 224]) torch.Size([68, 2])\n",
            "3 torch.Size([1, 224, 224]) torch.Size([68, 2])\n"
          ],
          "name": "stdout"
        },
        {
          "output_type": "stream",
          "text": [
            "/usr/local/lib/python3.6/dist-packages/ipykernel_launcher.py:39: FutureWarning: Method .as_matrix will be removed in a future version. Use .values instead.\n"
          ],
          "name": "stderr"
        }
      ]
    },
    {
      "cell_type": "markdown",
      "metadata": {
        "id": "M2r3DIeYVLt8",
        "colab_type": "text"
      },
      "source": [
        "## Batching and loading data\n",
        "\n",
        "Next, having defined the transformed dataset, we can use PyTorch's DataLoader class to load the training data in batches of whatever size as well as to shuffle the data for training the model. You can read more about the parameters of the DataLoader, in [this documentation](http://pytorch.org/docs/master/data.html).\n",
        "\n",
        "#### Batch size\n",
        "Decide on a good batch size for training your model. Try both small and large batch sizes and note how the loss decreases as the model trains.\n",
        "\n",
        "**Note for Windows users**: Please change the `num_workers` to 0 or you may face some issues with your DataLoader failing."
      ]
    },
    {
      "cell_type": "code",
      "metadata": {
        "id": "NtCn6HCqVLt9",
        "colab_type": "code",
        "colab": {}
      },
      "source": [
        "# load training data in batches\n",
        "batch_size = 10\n",
        "\n",
        "train_loader = DataLoader(transformed_dataset, \n",
        "                          batch_size=batch_size,\n",
        "                          shuffle=True, \n",
        "                          num_workers=4)\n"
      ],
      "execution_count": 0,
      "outputs": []
    },
    {
      "cell_type": "markdown",
      "metadata": {
        "id": "5nBmU-wvVLt-",
        "colab_type": "text"
      },
      "source": [
        "## Before training\n",
        "\n",
        "Take a look at how this model performs before it trains. You should see that the keypoints it predicts start off in one spot and don't match the keypoints on a face at all! It's interesting to visualize this behavior so that you can compare it to the model after training and see how the model has improved.\n",
        "\n",
        "#### Load in the test dataset\n",
        "\n",
        "The test dataset is one that this model has *not* seen before, meaning it has not trained with these images. We'll load in this test data and before and after training, see how your model performs on this set!\n",
        "\n",
        "To visualize this test data, we have to go through some un-transformation steps to turn our images into python images from tensors and to turn our keypoints back into a recognizable range. "
      ]
    },
    {
      "cell_type": "code",
      "metadata": {
        "id": "nmNYAJKpVLt_",
        "colab_type": "code",
        "colab": {}
      },
      "source": [
        "# load in the test data, using the dataset class\n",
        "# AND apply the data_transform you defined above\n",
        "\n",
        "# create the test dataset\n",
        "test_dataset = FacialKeypointsDataset(csv_file='/content/drive/My Drive/P1_Facial_Keypoints-master/data/test_frames_keypoints.csv',\n",
        "                                             root_dir='/content/drive/My Drive/P1_Facial_Keypoints-master/data/test',\n",
        "                                             transform=data_transform)\n",
        "\n"
      ],
      "execution_count": 0,
      "outputs": []
    },
    {
      "cell_type": "code",
      "metadata": {
        "id": "YrMVpQyVVLuB",
        "colab_type": "code",
        "colab": {}
      },
      "source": [
        "# load test data in batches\n",
        "batch_size = 10\n",
        "\n",
        "test_loader = DataLoader(test_dataset, \n",
        "                          batch_size=batch_size,\n",
        "                          shuffle=True, \n",
        "                          num_workers=4)"
      ],
      "execution_count": 0,
      "outputs": []
    },
    {
      "cell_type": "markdown",
      "metadata": {
        "id": "dPUQ6114VLuD",
        "colab_type": "text"
      },
      "source": [
        "## Apply the model on a test sample\n",
        "\n",
        "To test the model on a test sample of data, you have to follow these steps:\n",
        "1. Extract the image and ground truth keypoints from a sample\n",
        "2. Make sure the image is a FloatTensor, which the model expects.\n",
        "3. Forward pass the image through the net to get the predicted, output keypoints.\n",
        "\n",
        "This function test how the network performs on the first batch of test data. It returns the images, the transformed images, the predicted keypoints (produced by the model), and the ground truth keypoints."
      ]
    },
    {
      "cell_type": "code",
      "metadata": {
        "id": "Px0fjueqVLuD",
        "colab_type": "code",
        "colab": {}
      },
      "source": [
        "# test the model on a batch of test images\n",
        "\n",
        "def net_sample_output():\n",
        "    \n",
        "    # iterate through the test dataset\n",
        "    for i, sample in enumerate(test_loader):\n",
        "        \n",
        "        # get sample data: images and ground truth keypoints\n",
        "        images = sample['image'].cuda()\n",
        "        image1= sample['image']\n",
        "        key_pts = sample['keypoints'].type(torch.FloatTensor).cuda()\n",
        "        key_pts1 = sample['keypoints'].type(torch.FloatTensor)\n",
        "        # convert images to FloatTensors\n",
        "        images = images.type(torch.FloatTensor).cuda()\n",
        "\n",
        "        # forward pass to get net output\n",
        "        output_pts = net(images)\n",
        "        \n",
        "        # reshape to batch_size x 68 x 2 pts\n",
        "        output_pts = output_pts.view(output_pts.size()[0], 68, -1)\n",
        "        \n",
        "        # break after first image is tested\n",
        "        if i == 0:\n",
        "           return image1, output_pts, key_pts1"
      ],
      "execution_count": 0,
      "outputs": []
    },
    {
      "cell_type": "markdown",
      "metadata": {
        "id": "jSZ1jDw2VLuF",
        "colab_type": "text"
      },
      "source": [
        "#### Debugging tips\n",
        "\n",
        "If you get a size or dimension error here, make sure that your network outputs the expected number of keypoints! Or if you get a Tensor type error, look into changing the above code that casts the data into float types: `images = images.type(torch.FloatTensor)`."
      ]
    },
    {
      "cell_type": "code",
      "metadata": {
        "id": "4dGm3UuQVLuF",
        "colab_type": "code",
        "colab": {
          "base_uri": "https://localhost:8080/",
          "height": 141
        },
        "outputId": "383fadb8-ca2a-45e9-947e-68fe6aad54fa"
      },
      "source": [
        "# call the above function\n",
        "# returns: test images, test predicted keypoints, test ground truth keypoints\n",
        "test_images, test_outputs, gt_pts = net_sample_output()\n",
        "\n",
        "# print out the dimensions of the data to see if they make sense\n",
        "print(test_images.data.size())\n",
        "print(test_outputs.data.size())\n",
        "print(gt_pts.size())"
      ],
      "execution_count": 12,
      "outputs": [
        {
          "output_type": "stream",
          "text": [
            "/usr/local/lib/python3.6/dist-packages/ipykernel_launcher.py:39: FutureWarning: Method .as_matrix will be removed in a future version. Use .values instead.\n",
            "/usr/local/lib/python3.6/dist-packages/ipykernel_launcher.py:39: FutureWarning: Method .as_matrix will be removed in a future version. Use .values instead.\n",
            "/usr/local/lib/python3.6/dist-packages/ipykernel_launcher.py:39: FutureWarning: Method .as_matrix will be removed in a future version. Use .values instead.\n",
            "/usr/local/lib/python3.6/dist-packages/ipykernel_launcher.py:39: FutureWarning: Method .as_matrix will be removed in a future version. Use .values instead.\n"
          ],
          "name": "stderr"
        },
        {
          "output_type": "stream",
          "text": [
            "torch.Size([10, 1, 224, 224])\n",
            "torch.Size([10, 68, 2])\n",
            "torch.Size([10, 68, 2])\n"
          ],
          "name": "stdout"
        }
      ]
    },
    {
      "cell_type": "markdown",
      "metadata": {
        "id": "382YNr14VLuH",
        "colab_type": "text"
      },
      "source": [
        "## Visualize the predicted keypoints\n",
        "\n",
        "Once we've had the model produce some predicted output keypoints, we can visualize these points in a way that's similar to how we've displayed this data before, only this time, we have to \"un-transform\" the image/keypoint data to display it.\n",
        "\n",
        "Note that I've defined a *new* function, `show_all_keypoints` that displays a grayscale image, its predicted keypoints and its ground truth keypoints (if provided)."
      ]
    },
    {
      "cell_type": "code",
      "metadata": {
        "id": "STBzCudiVLuH",
        "colab_type": "code",
        "colab": {}
      },
      "source": [
        "def show_all_keypoints(image, predicted_key_pts, gt_pts=None):\n",
        "    \"\"\"Show image with predicted keypoints\"\"\"\n",
        "    # image is grayscale\n",
        "    plt.imshow(image, cmap='gray')\n",
        "    plt.scatter(predicted_key_pts[:, 0], predicted_key_pts[:, 1], s=20, marker='.', c='m')\n",
        "    # plot ground truth points as green pts\n",
        "    if gt_pts is not None:\n",
        "        plt.scatter(gt_pts[:, 0], gt_pts[:, 1], s=20, marker='.', c='g')\n"
      ],
      "execution_count": 0,
      "outputs": []
    },
    {
      "cell_type": "markdown",
      "metadata": {
        "id": "FfkS29ysVLuJ",
        "colab_type": "text"
      },
      "source": [
        "#### Un-transformation\n",
        "\n",
        "Next, you'll see a helper function. `visualize_output` that takes in a batch of images, predicted keypoints, and ground truth keypoints and displays a set of those images and their true/predicted keypoints.\n",
        "\n",
        "This function's main role is to take batches of image and keypoint data (the input and output of your CNN), and transform them into numpy images and un-normalized keypoints (x, y) for normal display. The un-transformation process turns keypoints and images into numpy arrays from Tensors *and* it undoes the keypoint normalization done in the Normalize() transform; it's assumed that you applied these transformations when you loaded your test data."
      ]
    },
    {
      "cell_type": "code",
      "metadata": {
        "id": "zO88Z82LVLuJ",
        "colab_type": "code",
        "colab": {
          "base_uri": "https://localhost:8080/",
          "height": 1000
        },
        "outputId": "b3d7f920-5dc4-439c-e10b-1c0ac7149c62"
      },
      "source": [
        "# visualize the output\n",
        "# by default this shows a batch of 10 images\n",
        "def visualize_output(test_images, test_outputs, gt_pts=None, batch_size=10):\n",
        "\n",
        "    for i in range(batch_size):\n",
        "        plt.figure(figsize=(20,10))\n",
        "        ax = plt.subplot(1, batch_size, i+1)\n",
        "\n",
        "        # un-transform the image data\n",
        "        image = test_images[i].data.cpu()   # get the image from it's wrapper\n",
        "        image = image.numpy()   # convert to numpy array from a Tensor\n",
        "        image = np.transpose(image, (1, 2, 0))   # transpose to go from torch to numpy image\n",
        "\n",
        "        # un-transform the predicted key_pts data\n",
        "        predicted_key_pts = test_outputs[i].data.cpu()\n",
        "        predicted_key_pts = predicted_key_pts.numpy()\n",
        "        # undo normalization of keypoints  \n",
        "        predicted_key_pts = predicted_key_pts*50.0+100\n",
        "        \n",
        "        # plot ground truth points for comparison, if they exist\n",
        "        ground_truth_pts = None\n",
        "        if gt_pts is not None:\n",
        "            ground_truth_pts = gt_pts[i]         \n",
        "            ground_truth_pts = ground_truth_pts*50.0+100\n",
        "        \n",
        "        # call show_all_keypoints\n",
        "        show_all_keypoints(np.squeeze(image), predicted_key_pts, ground_truth_pts)\n",
        "            \n",
        "        plt.axis('off')\n",
        "\n",
        "    plt.show()\n",
        "    \n",
        "# call it\n",
        "visualize_output(test_images, test_outputs, gt_pts)"
      ],
      "execution_count": 14,
      "outputs": [
        {
          "output_type": "display_data",
          "data": {
            "image/png": "[encoded data removed]",
            "text/plain": [
              "<Figure size 1440x720 with 1 Axes>"
            ]
          },
          "metadata": {
            "tags": []
          }
        },
        {
          "output_type": "display_data",
          "data": {
            "image/png": "[encoded data removed]",
            "text/plain": [
              "<Figure size 1440x720 with 1 Axes>"
            ]
          },
          "metadata": {
            "tags": []
          }
        },
        {
          "output_type": "display_data",
          "data": {
            "image/png": "[encoded data removed]",
            "text/plain": [
              "<Figure size 1440x720 with 1 Axes>"
            ]
          },
          "metadata": {
            "tags": []
          }
        },
        {
          "output_type": "display_data",
          "data": {
            "image/png": "[encoded data removed]",
            "text/plain": [
              "<Figure size 1440x720 with 1 Axes>"
            ]
          },
          "metadata": {
            "tags": []
          }
        },
        {
          "output_type": "display_data",
          "data": {
            "image/png": "[encoded data removed]",
            "text/plain": [
              "<Figure size 1440x720 with 1 Axes>"
            ]
          },
          "metadata": {
            "tags": []
          }
        },
        {
          "output_type": "display_data",
          "data": {
            "image/png": "[encoded data removed]",
            "text/plain": [
              "<Figure size 1440x720 with 1 Axes>"
            ]
          },
          "metadata": {
            "tags": []
          }
        },
        {
          "output_type": "display_data",
          "data": {
            "image/png": "[encoded data removed]",
            "text/plain": [
              "<Figure size 1440x720 with 1 Axes>"
            ]
          },
          "metadata": {
            "tags": []
          }
        },
        {
          "output_type": "display_data",
          "data": {
            "image/png": "[encoded data removed]",
            "text/plain": [
              "<Figure size 1440x720 with 1 Axes>"
            ]
          },
          "metadata": {
            "tags": []
          }
        },
        {
          "output_type": "display_data",
          "data": {
            "image/png": "[encoded data removed]",
            "text/plain": [
              "<Figure size 1440x720 with 1 Axes>"
            ]
          },
          "metadata": {
            "tags": []
          }
        },
        {
          "output_type": "display_data",
          "data": {
            "image/png": "[encoded data removed]",
            "text/plain": [
              "<Figure size 1440x720 with 1 Axes>"
            ]
          },
          "metadata": {
            "tags": []
          }
        }
      ]
    },
    {
      "cell_type": "markdown",
      "metadata": {
        "id": "x9Gz83dwVLuL",
        "colab_type": "text"
      },
      "source": [
        "## Training\n",
        "\n",
        "#### Loss function\n",
        "Training a network to predict keypoints is different than training a network to predict a class; instead of outputting a distribution of classes and using cross entropy loss, you may want to choose a loss function that is suited for regression, which directly compares a predicted value and target value. Read about the various kinds of loss functions (like MSE or L1/SmoothL1 loss) in [this documentation](http://pytorch.org/docs/master/_modules/torch/nn/modules/loss.html).\n",
        "\n",
        "### TODO: Define the loss and optimization\n",
        "\n",
        "Next, you'll define how the model will train by deciding on the loss function and optimizer.\n",
        "\n",
        "---"
      ]
    },
    {
      "cell_type": "code",
      "metadata": {
        "id": "HrbXdAfEVLuM",
        "colab_type": "code",
        "colab": {}
      },
      "source": [
        "## TODO: Define the loss and optimization\n",
        "import torch.optim as optim\n",
        "\n",
        "\n",
        "\n",
        "criterion = nn.MSELoss()\n",
        "optimizer = optim.SGD(net.parameters(), lr=0.01)"
      ],
      "execution_count": 0,
      "outputs": []
    },
    {
      "cell_type": "markdown",
      "metadata": {
        "id": "lvvKf272VLuN",
        "colab_type": "text"
      },
      "source": [
        "## Training and Initial Observation\n",
        "\n",
        "Now, you'll train on your batched training data from `train_loader` for a number of epochs. \n",
        "\n",
        "To quickly observe how your model is training and decide on whether or not you should modify it's structure or hyperparameters, you're encouraged to start off with just one or two epochs at first. As you train, note how your the model's loss behaves over time: does it decrease quickly at first and then slow down? Does it take a while to decrease in the first place? What happens if you change the batch size of your training data or modify your loss function? etc. \n",
        "\n",
        "Use these initial observations to make changes to your model and decide on the best architecture before you train for many epochs and create a final model."
      ]
    },
    {
      "cell_type": "code",
      "metadata": {
        "id": "A3kA_CaVVLuO",
        "colab_type": "code",
        "colab": {}
      },
      "source": [
        "def train_net(n_epochs):\n",
        "\n",
        "    # prepare the net for training\n",
        "    net.train()\n",
        "\n",
        "    for epoch in range(n_epochs):  # loop over the dataset multiple times\n",
        "        \n",
        "        running_loss = 0.0\n",
        "\n",
        "        # train on batches of data, assumes you already have train_loader\n",
        "        for batch_i, data in enumerate(train_loader):\n",
        "            # get the input images and their corresponding labels\n",
        "            images = data['image']\n",
        "            key_pts = data['keypoints']\n",
        "\n",
        "            # flatten pts\n",
        "            key_pts = key_pts.view(key_pts.size(0), -1)\n",
        "\n",
        "            # convert variables to floats for regression loss\n",
        "            key_pts = key_pts.type(torch.FloatTensor).cuda()\n",
        "            images = images.type(torch.FloatTensor).cuda()\n",
        "\n",
        "            # forward pass to get outputs\n",
        "            output_pts = net(images)\n",
        "\n",
        "            # calculate the loss between predicted and target keypoints\n",
        "            loss = criterion(output_pts, key_pts)\n",
        "\n",
        "            # zero the parameter (weight) gradients\n",
        "            optimizer.zero_grad()\n",
        "            \n",
        "            # backward pass to calculate the weight gradients\n",
        "            loss.backward()\n",
        "\n",
        "            # update the weights\n",
        "            optimizer.step()\n",
        "\n",
        "            # print loss statistics\n",
        "            # to convert loss into a scalar and add it to the running_loss, use .item()\n",
        "            running_loss += loss.item()\n",
        "            if batch_i % 10 == 9:    # print every 10 batches\n",
        "                print('Epoch: {}, Batch: {}, Avg. Loss: {}'.format(epoch + 1, batch_i+1, running_loss/1000))\n",
        "                running_loss = 0.0\n",
        "\n",
        "    print('Finished Training')\n"
      ],
      "execution_count": 0,
      "outputs": []
    },
    {
      "cell_type": "code",
      "metadata": {
        "id": "izVY5Q7YVLuP",
        "colab_type": "code",
        "colab": {
          "base_uri": "https://localhost:8080/",
          "height": 1000
        },
        "outputId": "0f9c47f3-3127-470b-fa28-e9296988789d"
      },
      "source": [
        "# train your network\n",
        "n_epochs = 50 # start small, and increase when you've decided on your model structure and hyperparams\n",
        "\n",
        "train_net(n_epochs)"
      ],
      "execution_count": 23,
      "outputs": [
        {
          "output_type": "stream",
          "text": [
            "/usr/local/lib/python3.6/dist-packages/ipykernel_launcher.py:39: FutureWarning: Method .as_matrix will be removed in a future version. Use .values instead.\n",
            "/usr/local/lib/python3.6/dist-packages/ipykernel_launcher.py:39: FutureWarning: Method .as_matrix will be removed in a future version. Use .values instead.\n",
            "/usr/local/lib/python3.6/dist-packages/ipykernel_launcher.py:39: FutureWarning: Method .as_matrix will be removed in a future version. Use .values instead.\n",
            "/usr/local/lib/python3.6/dist-packages/ipykernel_launcher.py:39: FutureWarning: Method .as_matrix will be removed in a future version. Use .values instead.\n"
          ],
          "name": "stderr"
        },
        {
          "output_type": "stream",
          "text": [
            "Epoch: 1, Batch: 10, Avg. Loss: 0.0017308015301823617\n",
            "Epoch: 1, Batch: 20, Avg. Loss: 0.0015065937638282776\n",
            "Epoch: 1, Batch: 30, Avg. Loss: 0.0020471733808517458\n",
            "Epoch: 1, Batch: 40, Avg. Loss: 0.0010997366197407245\n",
            "Epoch: 1, Batch: 50, Avg. Loss: 0.0017465680241584777\n",
            "Epoch: 1, Batch: 60, Avg. Loss: 0.00144959869235754\n",
            "Epoch: 1, Batch: 70, Avg. Loss: 0.0013359481617808342\n",
            "Epoch: 1, Batch: 80, Avg. Loss: 0.0020270988941192628\n",
            "Epoch: 1, Batch: 90, Avg. Loss: 0.0018014531284570694\n",
            "Epoch: 1, Batch: 100, Avg. Loss: 0.001387465998530388\n",
            "Epoch: 1, Batch: 110, Avg. Loss: 0.0016859813928604126\n",
            "Epoch: 1, Batch: 120, Avg. Loss: 0.0012351114004850387\n",
            "Epoch: 1, Batch: 130, Avg. Loss: 0.0015938940048217773\n",
            "Epoch: 1, Batch: 140, Avg. Loss: 0.00145790583640337\n",
            "Epoch: 1, Batch: 150, Avg. Loss: 0.0015994064211845398\n",
            "Epoch: 1, Batch: 160, Avg. Loss: 0.0014447951689362526\n",
            "Epoch: 1, Batch: 170, Avg. Loss: 0.0018038657456636428\n",
            "Epoch: 1, Batch: 180, Avg. Loss: 0.0017193118408322333\n",
            "Epoch: 1, Batch: 190, Avg. Loss: 0.001411140739917755\n",
            "Epoch: 1, Batch: 200, Avg. Loss: 0.002133913956582546\n",
            "Epoch: 1, Batch: 210, Avg. Loss: 0.0012671120688319206\n",
            "Epoch: 1, Batch: 220, Avg. Loss: 0.0013242554739117621\n",
            "Epoch: 1, Batch: 230, Avg. Loss: 0.0018100143745541572\n",
            "Epoch: 1, Batch: 240, Avg. Loss: 0.0027402350902557375\n",
            "Epoch: 1, Batch: 250, Avg. Loss: 0.0011639215685427188\n",
            "Epoch: 1, Batch: 260, Avg. Loss: 0.0014239186942577363\n",
            "Epoch: 1, Batch: 270, Avg. Loss: 0.002183212265372276\n",
            "Epoch: 1, Batch: 280, Avg. Loss: 0.0019440125077962876\n",
            "Epoch: 1, Batch: 290, Avg. Loss: 0.0017887654602527618\n",
            "Epoch: 1, Batch: 300, Avg. Loss: 0.001487211748957634\n",
            "Epoch: 1, Batch: 310, Avg. Loss: 0.0015395775958895682\n",
            "Epoch: 1, Batch: 320, Avg. Loss: 0.0014808505922555924\n",
            "Epoch: 1, Batch: 330, Avg. Loss: 0.0014960220903158187\n",
            "Epoch: 1, Batch: 340, Avg. Loss: 0.001640312634408474\n"
          ],
          "name": "stdout"
        },
        {
          "output_type": "stream",
          "text": [
            "/usr/local/lib/python3.6/dist-packages/ipykernel_launcher.py:39: FutureWarning: Method .as_matrix will be removed in a future version. Use .values instead.\n",
            "/usr/local/lib/python3.6/dist-packages/ipykernel_launcher.py:39: FutureWarning: Method .as_matrix will be removed in a future version. Use .values instead.\n",
            "/usr/local/lib/python3.6/dist-packages/ipykernel_launcher.py:39: FutureWarning: Method .as_matrix will be removed in a future version. Use .values instead.\n",
            "/usr/local/lib/python3.6/dist-packages/ipykernel_launcher.py:39: FutureWarning: Method .as_matrix will be removed in a future version. Use .values instead.\n"
          ],
          "name": "stderr"
        },
        {
          "output_type": "stream",
          "text": [
            "Epoch: 2, Batch: 10, Avg. Loss: 0.0016495406478643417\n",
            "Epoch: 2, Batch: 20, Avg. Loss: 0.001187399696558714\n",
            "Epoch: 2, Batch: 30, Avg. Loss: 0.0014606204107403755\n",
            "Epoch: 2, Batch: 40, Avg. Loss: 0.0015929665118455886\n",
            "Epoch: 2, Batch: 50, Avg. Loss: 0.001948544878512621\n",
            "Epoch: 2, Batch: 60, Avg. Loss: 0.0016928695365786553\n",
            "Epoch: 2, Batch: 70, Avg. Loss: 0.001294888138771057\n",
            "Epoch: 2, Batch: 80, Avg. Loss: 0.0014352052584290505\n",
            "Epoch: 2, Batch: 90, Avg. Loss: 0.0018798286765813828\n",
            "Epoch: 2, Batch: 100, Avg. Loss: 0.0018785439059138297\n",
            "Epoch: 2, Batch: 110, Avg. Loss: 0.0016462851539254188\n",
            "Epoch: 2, Batch: 120, Avg. Loss: 0.0017209346368908883\n",
            "Epoch: 2, Batch: 130, Avg. Loss: 0.0014739900454878807\n",
            "Epoch: 2, Batch: 140, Avg. Loss: 0.0013651987463235856\n",
            "Epoch: 2, Batch: 150, Avg. Loss: 0.0015535514876246453\n",
            "Epoch: 2, Batch: 160, Avg. Loss: 0.0015887272208929062\n",
            "Epoch: 2, Batch: 170, Avg. Loss: 0.0017458182498812675\n",
            "Epoch: 2, Batch: 180, Avg. Loss: 0.0012029567882418633\n",
            "Epoch: 2, Batch: 190, Avg. Loss: 0.0015743013098835944\n",
            "Epoch: 2, Batch: 200, Avg. Loss: 0.0013115179315209388\n",
            "Epoch: 2, Batch: 210, Avg. Loss: 0.0013478288799524307\n",
            "Epoch: 2, Batch: 220, Avg. Loss: 0.0014472073204815387\n",
            "Epoch: 2, Batch: 230, Avg. Loss: 0.0013455845490098\n",
            "Epoch: 2, Batch: 240, Avg. Loss: 0.0019264662563800812\n",
            "Epoch: 2, Batch: 250, Avg. Loss: 0.0018660823479294778\n",
            "Epoch: 2, Batch: 260, Avg. Loss: 0.001579637948423624\n",
            "Epoch: 2, Batch: 270, Avg. Loss: 0.0015987970307469368\n",
            "Epoch: 2, Batch: 280, Avg. Loss: 0.001031263217329979\n",
            "Epoch: 2, Batch: 290, Avg. Loss: 0.0013681086599826812\n",
            "Epoch: 2, Batch: 300, Avg. Loss: 0.0016093745082616806\n",
            "Epoch: 2, Batch: 310, Avg. Loss: 0.0015157424584031104\n",
            "Epoch: 2, Batch: 320, Avg. Loss: 0.001255967751145363\n",
            "Epoch: 2, Batch: 330, Avg. Loss: 0.0015841496437788009\n",
            "Epoch: 2, Batch: 340, Avg. Loss: 0.0014328108057379723\n"
          ],
          "name": "stdout"
        },
        {
          "output_type": "stream",
          "text": [
            "/usr/local/lib/python3.6/dist-packages/ipykernel_launcher.py:39: FutureWarning: Method .as_matrix will be removed in a future version. Use .values instead.\n",
            "/usr/local/lib/python3.6/dist-packages/ipykernel_launcher.py:39: FutureWarning: Method .as_matrix will be removed in a future version. Use .values instead.\n",
            "/usr/local/lib/python3.6/dist-packages/ipykernel_launcher.py:39: FutureWarning: Method .as_matrix will be removed in a future version. Use .values instead.\n",
            "/usr/local/lib/python3.6/dist-packages/ipykernel_launcher.py:39: FutureWarning: Method .as_matrix will be removed in a future version. Use .values instead.\n"
          ],
          "name": "stderr"
        },
        {
          "output_type": "stream",
          "text": [
            "Epoch: 3, Batch: 10, Avg. Loss: 0.0012293423637747764\n",
            "Epoch: 3, Batch: 20, Avg. Loss: 0.0015428588315844537\n",
            "Epoch: 3, Batch: 30, Avg. Loss: 0.0017584163099527358\n",
            "Epoch: 3, Batch: 40, Avg. Loss: 0.0018266576901078224\n",
            "Epoch: 3, Batch: 50, Avg. Loss: 0.0017306729257106782\n",
            "Epoch: 3, Batch: 60, Avg. Loss: 0.0014071092531085015\n",
            "Epoch: 3, Batch: 70, Avg. Loss: 0.001079514443874359\n",
            "Epoch: 3, Batch: 80, Avg. Loss: 0.001877351075410843\n",
            "Epoch: 3, Batch: 90, Avg. Loss: 0.0014354661852121354\n",
            "Epoch: 3, Batch: 100, Avg. Loss: 0.001760844737291336\n",
            "Epoch: 3, Batch: 110, Avg. Loss: 0.0014072183072566986\n",
            "Epoch: 3, Batch: 120, Avg. Loss: 0.001517564482986927\n",
            "Epoch: 3, Batch: 130, Avg. Loss: 0.0016039212122559547\n",
            "Epoch: 3, Batch: 140, Avg. Loss: 0.0021886944472789766\n",
            "Epoch: 3, Batch: 150, Avg. Loss: 0.0015756057351827622\n",
            "Epoch: 3, Batch: 160, Avg. Loss: 0.001467658407986164\n",
            "Epoch: 3, Batch: 170, Avg. Loss: 0.00165739406645298\n",
            "Epoch: 3, Batch: 180, Avg. Loss: 0.0015799413919448853\n",
            "Epoch: 3, Batch: 190, Avg. Loss: 0.0014284696578979491\n",
            "Epoch: 3, Batch: 200, Avg. Loss: 0.0016038318723440171\n",
            "Epoch: 3, Batch: 210, Avg. Loss: 0.0017538404390215873\n",
            "Epoch: 3, Batch: 220, Avg. Loss: 0.0012202826663851739\n",
            "Epoch: 3, Batch: 230, Avg. Loss: 0.0015902917832136155\n",
            "Epoch: 3, Batch: 240, Avg. Loss: 0.0015308217033743858\n",
            "Epoch: 3, Batch: 250, Avg. Loss: 0.001695360966026783\n",
            "Epoch: 3, Batch: 260, Avg. Loss: 0.0015507512129843235\n",
            "Epoch: 3, Batch: 270, Avg. Loss: 0.001541079118847847\n",
            "Epoch: 3, Batch: 280, Avg. Loss: 0.0019302806928753853\n",
            "Epoch: 3, Batch: 290, Avg. Loss: 0.0016787481047213077\n",
            "Epoch: 3, Batch: 300, Avg. Loss: 0.001646574042737484\n",
            "Epoch: 3, Batch: 310, Avg. Loss: 0.0013624104633927344\n",
            "Epoch: 3, Batch: 320, Avg. Loss: 0.0014574475288391113\n",
            "Epoch: 3, Batch: 330, Avg. Loss: 0.0013567651882767677\n",
            "Epoch: 3, Batch: 340, Avg. Loss: 0.0014690157026052476\n"
          ],
          "name": "stdout"
        },
        {
          "output_type": "stream",
          "text": [
            "/usr/local/lib/python3.6/dist-packages/ipykernel_launcher.py:39: FutureWarning: Method .as_matrix will be removed in a future version. Use .values instead.\n",
            "/usr/local/lib/python3.6/dist-packages/ipykernel_launcher.py:39: FutureWarning: Method .as_matrix will be removed in a future version. Use .values instead.\n",
            "/usr/local/lib/python3.6/dist-packages/ipykernel_launcher.py:39: FutureWarning: Method .as_matrix will be removed in a future version. Use .values instead.\n",
            "/usr/local/lib/python3.6/dist-packages/ipykernel_launcher.py:39: FutureWarning: Method .as_matrix will be removed in a future version. Use .values instead.\n"
          ],
          "name": "stderr"
        },
        {
          "output_type": "stream",
          "text": [
            "Epoch: 4, Batch: 10, Avg. Loss: 0.0016257281601428986\n",
            "Epoch: 4, Batch: 20, Avg. Loss: 0.0014322628304362297\n",
            "Epoch: 4, Batch: 30, Avg. Loss: 0.00161636982858181\n",
            "Epoch: 4, Batch: 40, Avg. Loss: 0.0015986529663205146\n",
            "Epoch: 4, Batch: 50, Avg. Loss: 0.0018385528177022935\n",
            "Epoch: 4, Batch: 60, Avg. Loss: 0.0013421868607401848\n",
            "Epoch: 4, Batch: 70, Avg. Loss: 0.0014699724242091179\n",
            "Epoch: 4, Batch: 80, Avg. Loss: 0.001984090402722359\n",
            "Epoch: 4, Batch: 90, Avg. Loss: 0.001765545405447483\n",
            "Epoch: 4, Batch: 100, Avg. Loss: 0.00157709988206625\n",
            "Epoch: 4, Batch: 110, Avg. Loss: 0.001666400022804737\n",
            "Epoch: 4, Batch: 120, Avg. Loss: 0.0013188114613294601\n",
            "Epoch: 4, Batch: 130, Avg. Loss: 0.0014571768268942832\n",
            "Epoch: 4, Batch: 140, Avg. Loss: 0.0013322107791900635\n",
            "Epoch: 4, Batch: 150, Avg. Loss: 0.0022782231345772745\n",
            "Epoch: 4, Batch: 160, Avg. Loss: 0.001694834440946579\n",
            "Epoch: 4, Batch: 170, Avg. Loss: 0.0018003726676106453\n",
            "Epoch: 4, Batch: 180, Avg. Loss: 0.0018912862166762352\n",
            "Epoch: 4, Batch: 190, Avg. Loss: 0.002034728817641735\n",
            "Epoch: 4, Batch: 200, Avg. Loss: 0.0019081146717071533\n",
            "Epoch: 4, Batch: 210, Avg. Loss: 0.0016034639552235603\n",
            "Epoch: 4, Batch: 220, Avg. Loss: 0.0015875880792737007\n",
            "Epoch: 4, Batch: 230, Avg. Loss: 0.0014180897995829582\n",
            "Epoch: 4, Batch: 240, Avg. Loss: 0.00217532017827034\n",
            "Epoch: 4, Batch: 250, Avg. Loss: 0.0012122158408164978\n",
            "Epoch: 4, Batch: 260, Avg. Loss: 0.0018490308299660683\n",
            "Epoch: 4, Batch: 270, Avg. Loss: 0.001936487004160881\n",
            "Epoch: 4, Batch: 280, Avg. Loss: 0.002039801485836506\n",
            "Epoch: 4, Batch: 290, Avg. Loss: 0.001585236869752407\n",
            "Epoch: 4, Batch: 300, Avg. Loss: 0.0020119275525212286\n",
            "Epoch: 4, Batch: 310, Avg. Loss: 0.001580988347530365\n",
            "Epoch: 4, Batch: 320, Avg. Loss: 0.0012154893651604652\n",
            "Epoch: 4, Batch: 330, Avg. Loss: 0.001504138432443142\n",
            "Epoch: 4, Batch: 340, Avg. Loss: 0.0014289862290024758\n"
          ],
          "name": "stdout"
        },
        {
          "output_type": "stream",
          "text": [
            "/usr/local/lib/python3.6/dist-packages/ipykernel_launcher.py:39: FutureWarning: Method .as_matrix will be removed in a future version. Use .values instead.\n",
            "/usr/local/lib/python3.6/dist-packages/ipykernel_launcher.py:39: FutureWarning: Method .as_matrix will be removed in a future version. Use .values instead.\n",
            "/usr/local/lib/python3.6/dist-packages/ipykernel_launcher.py:39: FutureWarning: Method .as_matrix will be removed in a future version. Use .values instead.\n",
            "/usr/local/lib/python3.6/dist-packages/ipykernel_launcher.py:39: FutureWarning: Method .as_matrix will be removed in a future version. Use .values instead.\n"
          ],
          "name": "stderr"
        },
        {
          "output_type": "stream",
          "text": [
            "Epoch: 5, Batch: 10, Avg. Loss: 0.0017854303866624832\n",
            "Epoch: 5, Batch: 20, Avg. Loss: 0.0015268552526831627\n",
            "Epoch: 5, Batch: 30, Avg. Loss: 0.0012354603484272958\n",
            "Epoch: 5, Batch: 40, Avg. Loss: 0.0012898537144064902\n",
            "Epoch: 5, Batch: 50, Avg. Loss: 0.0017425719574093819\n",
            "Epoch: 5, Batch: 60, Avg. Loss: 0.0014263183474540711\n",
            "Epoch: 5, Batch: 70, Avg. Loss: 0.0013069643080234528\n",
            "Epoch: 5, Batch: 80, Avg. Loss: 0.0017714965119957923\n",
            "Epoch: 5, Batch: 90, Avg. Loss: 0.0018639060631394386\n",
            "Epoch: 5, Batch: 100, Avg. Loss: 0.0012299188785254956\n",
            "Epoch: 5, Batch: 110, Avg. Loss: 0.0017077510878443717\n",
            "Epoch: 5, Batch: 120, Avg. Loss: 0.0017059322595596314\n",
            "Epoch: 5, Batch: 130, Avg. Loss: 0.00153275203704834\n",
            "Epoch: 5, Batch: 140, Avg. Loss: 0.001601829320192337\n",
            "Epoch: 5, Batch: 150, Avg. Loss: 0.0015858505293726921\n",
            "Epoch: 5, Batch: 160, Avg. Loss: 0.0018644217625260354\n",
            "Epoch: 5, Batch: 170, Avg. Loss: 0.0014408503919839859\n",
            "Epoch: 5, Batch: 180, Avg. Loss: 0.0013421322107315063\n",
            "Epoch: 5, Batch: 190, Avg. Loss: 0.002126834787428379\n",
            "Epoch: 5, Batch: 200, Avg. Loss: 0.0012735699415206908\n",
            "Epoch: 5, Batch: 210, Avg. Loss: 0.0017171499952673911\n",
            "Epoch: 5, Batch: 220, Avg. Loss: 0.0017365744858980178\n",
            "Epoch: 5, Batch: 230, Avg. Loss: 0.0017231351137161255\n",
            "Epoch: 5, Batch: 240, Avg. Loss: 0.0017189601957798004\n",
            "Epoch: 5, Batch: 250, Avg. Loss: 0.0015670952871441842\n",
            "Epoch: 5, Batch: 260, Avg. Loss: 0.0012614075616002084\n",
            "Epoch: 5, Batch: 270, Avg. Loss: 0.0015657605454325676\n",
            "Epoch: 5, Batch: 280, Avg. Loss: 0.0018703194186091422\n",
            "Epoch: 5, Batch: 290, Avg. Loss: 0.00150131768733263\n",
            "Epoch: 5, Batch: 300, Avg. Loss: 0.0015344783887267113\n",
            "Epoch: 5, Batch: 310, Avg. Loss: 0.001717298872768879\n",
            "Epoch: 5, Batch: 320, Avg. Loss: 0.0019447868093848228\n",
            "Epoch: 5, Batch: 330, Avg. Loss: 0.0013327123001217842\n",
            "Epoch: 5, Batch: 340, Avg. Loss: 0.0017083423361182212\n"
          ],
          "name": "stdout"
        },
        {
          "output_type": "stream",
          "text": [
            "/usr/local/lib/python3.6/dist-packages/ipykernel_launcher.py:39: FutureWarning: Method .as_matrix will be removed in a future version. Use .values instead.\n",
            "/usr/local/lib/python3.6/dist-packages/ipykernel_launcher.py:39: FutureWarning: Method .as_matrix will be removed in a future version. Use .values instead.\n",
            "/usr/local/lib/python3.6/dist-packages/ipykernel_launcher.py:39: FutureWarning: Method .as_matrix will be removed in a future version. Use .values instead.\n",
            "/usr/local/lib/python3.6/dist-packages/ipykernel_launcher.py:39: FutureWarning: Method .as_matrix will be removed in a future version. Use .values instead.\n"
          ],
          "name": "stderr"
        },
        {
          "output_type": "stream",
          "text": [
            "Epoch: 6, Batch: 10, Avg. Loss: 0.001348155491054058\n",
            "Epoch: 6, Batch: 20, Avg. Loss: 0.001680609792470932\n",
            "Epoch: 6, Batch: 30, Avg. Loss: 0.0014350253418087958\n",
            "Epoch: 6, Batch: 40, Avg. Loss: 0.0012648432701826097\n",
            "Epoch: 6, Batch: 50, Avg. Loss: 0.0020144654512405397\n",
            "Epoch: 6, Batch: 60, Avg. Loss: 0.0012657029926776886\n",
            "Epoch: 6, Batch: 70, Avg. Loss: 0.0023355964049696924\n",
            "Epoch: 6, Batch: 80, Avg. Loss: 0.0012892691195011139\n",
            "Epoch: 6, Batch: 90, Avg. Loss: 0.0015888856798410415\n",
            "Epoch: 6, Batch: 100, Avg. Loss: 0.0014806673526763915\n",
            "Epoch: 6, Batch: 110, Avg. Loss: 0.00396107193082571\n",
            "Epoch: 6, Batch: 120, Avg. Loss: 0.0012921247854828836\n",
            "Epoch: 6, Batch: 130, Avg. Loss: 0.0015002971887588502\n",
            "Epoch: 6, Batch: 140, Avg. Loss: 0.0021964562088251116\n",
            "Epoch: 6, Batch: 150, Avg. Loss: 0.0014598464891314507\n",
            "Epoch: 6, Batch: 160, Avg. Loss: 0.0013783514872193336\n",
            "Epoch: 6, Batch: 170, Avg. Loss: 0.002031515635550022\n",
            "Epoch: 6, Batch: 180, Avg. Loss: 0.0017406297251582146\n",
            "Epoch: 6, Batch: 190, Avg. Loss: 0.0014599063023924828\n",
            "Epoch: 6, Batch: 200, Avg. Loss: 0.0016443614438176155\n",
            "Epoch: 6, Batch: 210, Avg. Loss: 0.0019006181359291076\n",
            "Epoch: 6, Batch: 220, Avg. Loss: 0.0014273476600646972\n",
            "Epoch: 6, Batch: 230, Avg. Loss: 0.0016006244197487832\n",
            "Epoch: 6, Batch: 240, Avg. Loss: 0.0013691109716892243\n",
            "Epoch: 6, Batch: 250, Avg. Loss: 0.0017871717512607575\n",
            "Epoch: 6, Batch: 260, Avg. Loss: 0.0013825510740280151\n",
            "Epoch: 6, Batch: 270, Avg. Loss: 0.001401150181889534\n",
            "Epoch: 6, Batch: 280, Avg. Loss: 0.0010182947739958764\n",
            "Epoch: 6, Batch: 290, Avg. Loss: 0.0015011104047298431\n",
            "Epoch: 6, Batch: 300, Avg. Loss: 0.0014150014594197272\n",
            "Epoch: 6, Batch: 310, Avg. Loss: 0.0015978353470563888\n",
            "Epoch: 6, Batch: 320, Avg. Loss: 0.0013661356642842293\n",
            "Epoch: 6, Batch: 330, Avg. Loss: 0.002664207123219967\n",
            "Epoch: 6, Batch: 340, Avg. Loss: 0.0017401998713612557\n"
          ],
          "name": "stdout"
        },
        {
          "output_type": "stream",
          "text": [
            "/usr/local/lib/python3.6/dist-packages/ipykernel_launcher.py:39: FutureWarning: Method .as_matrix will be removed in a future version. Use .values instead.\n",
            "/usr/local/lib/python3.6/dist-packages/ipykernel_launcher.py:39: FutureWarning: Method .as_matrix will be removed in a future version. Use .values instead.\n",
            "/usr/local/lib/python3.6/dist-packages/ipykernel_launcher.py:39: FutureWarning: Method .as_matrix will be removed in a future version. Use .values instead.\n",
            "/usr/local/lib/python3.6/dist-packages/ipykernel_launcher.py:39: FutureWarning: Method .as_matrix will be removed in a future version. Use .values instead.\n"
          ],
          "name": "stderr"
        },
        {
          "output_type": "stream",
          "text": [
            "Epoch: 7, Batch: 10, Avg. Loss: 0.002335539385676384\n",
            "Epoch: 7, Batch: 20, Avg. Loss: 0.0015346978604793549\n",
            "Epoch: 7, Batch: 30, Avg. Loss: 0.0017296886071562767\n",
            "Epoch: 7, Batch: 40, Avg. Loss: 0.0013613278344273567\n",
            "Epoch: 7, Batch: 50, Avg. Loss: 0.001814259335398674\n",
            "Epoch: 7, Batch: 60, Avg. Loss: 0.0015212090909481049\n",
            "Epoch: 7, Batch: 70, Avg. Loss: 0.0013062449693679809\n",
            "Epoch: 7, Batch: 80, Avg. Loss: 0.0012549999803304673\n",
            "Epoch: 7, Batch: 90, Avg. Loss: 0.001769941009581089\n",
            "Epoch: 7, Batch: 100, Avg. Loss: 0.0014263187348842622\n",
            "Epoch: 7, Batch: 110, Avg. Loss: 0.0013018004223704339\n",
            "Epoch: 7, Batch: 120, Avg. Loss: 0.0014885071665048598\n",
            "Epoch: 7, Batch: 130, Avg. Loss: 0.0014424107298254966\n",
            "Epoch: 7, Batch: 140, Avg. Loss: 0.0014615307971835136\n",
            "Epoch: 7, Batch: 150, Avg. Loss: 0.0015049406066536904\n",
            "Epoch: 7, Batch: 160, Avg. Loss: 0.0013098239377140998\n",
            "Epoch: 7, Batch: 170, Avg. Loss: 0.0014996654316782952\n",
            "Epoch: 7, Batch: 180, Avg. Loss: 0.001175854004919529\n",
            "Epoch: 7, Batch: 190, Avg. Loss: 0.001640951432287693\n",
            "Epoch: 7, Batch: 200, Avg. Loss: 0.001321126215159893\n",
            "Epoch: 7, Batch: 210, Avg. Loss: 0.0017164974585175514\n",
            "Epoch: 7, Batch: 220, Avg. Loss: 0.00132923424243927\n",
            "Epoch: 7, Batch: 230, Avg. Loss: 0.0012228145226836204\n",
            "Epoch: 7, Batch: 240, Avg. Loss: 0.0015071585774421691\n",
            "Epoch: 7, Batch: 250, Avg. Loss: 0.0014610236026346684\n",
            "Epoch: 7, Batch: 260, Avg. Loss: 0.0014705916792154311\n",
            "Epoch: 7, Batch: 270, Avg. Loss: 0.001523703269660473\n",
            "Epoch: 7, Batch: 280, Avg. Loss: 0.0013896817564964296\n",
            "Epoch: 7, Batch: 290, Avg. Loss: 0.0012738858461380006\n",
            "Epoch: 7, Batch: 300, Avg. Loss: 0.0017443185448646546\n",
            "Epoch: 7, Batch: 310, Avg. Loss: 0.0015634721592068673\n",
            "Epoch: 7, Batch: 320, Avg. Loss: 0.0015410421788692474\n",
            "Epoch: 7, Batch: 330, Avg. Loss: 0.0021838770657777785\n",
            "Epoch: 7, Batch: 340, Avg. Loss: 0.001619892157614231\n"
          ],
          "name": "stdout"
        },
        {
          "output_type": "stream",
          "text": [
            "/usr/local/lib/python3.6/dist-packages/ipykernel_launcher.py:39: FutureWarning: Method .as_matrix will be removed in a future version. Use .values instead.\n",
            "/usr/local/lib/python3.6/dist-packages/ipykernel_launcher.py:39: FutureWarning: Method .as_matrix will be removed in a future version. Use .values instead.\n",
            "/usr/local/lib/python3.6/dist-packages/ipykernel_launcher.py:39: FutureWarning: Method .as_matrix will be removed in a future version. Use .values instead.\n",
            "/usr/local/lib/python3.6/dist-packages/ipykernel_launcher.py:39: FutureWarning: Method .as_matrix will be removed in a future version. Use .values instead.\n"
          ],
          "name": "stderr"
        },
        {
          "output_type": "stream",
          "text": [
            "Epoch: 8, Batch: 10, Avg. Loss: 0.0013244014829397201\n",
            "Epoch: 8, Batch: 20, Avg. Loss: 0.0016853075549006463\n",
            "Epoch: 8, Batch: 30, Avg. Loss: 0.0015883908569812775\n",
            "Epoch: 8, Batch: 40, Avg. Loss: 0.002021604597568512\n",
            "Epoch: 8, Batch: 50, Avg. Loss: 0.0018993459567427636\n",
            "Epoch: 8, Batch: 60, Avg. Loss: 0.0019466968700289726\n",
            "Epoch: 8, Batch: 70, Avg. Loss: 0.001564119666814804\n",
            "Epoch: 8, Batch: 80, Avg. Loss: 0.0016693762540817261\n",
            "Epoch: 8, Batch: 90, Avg. Loss: 0.0018228339552879334\n",
            "Epoch: 8, Batch: 100, Avg. Loss: 0.0018821451291441917\n",
            "Epoch: 8, Batch: 110, Avg. Loss: 0.0013972960114479066\n",
            "Epoch: 8, Batch: 120, Avg. Loss: 0.0016125752478837966\n",
            "Epoch: 8, Batch: 130, Avg. Loss: 0.0013127874433994293\n",
            "Epoch: 8, Batch: 140, Avg. Loss: 0.0011838852502405644\n",
            "Epoch: 8, Batch: 150, Avg. Loss: 0.0014070715084671974\n",
            "Epoch: 8, Batch: 160, Avg. Loss: 0.0017975631207227706\n",
            "Epoch: 8, Batch: 170, Avg. Loss: 0.001310864210128784\n",
            "Epoch: 8, Batch: 180, Avg. Loss: 0.0014090989902615547\n",
            "Epoch: 8, Batch: 190, Avg. Loss: 0.0013713806867599488\n",
            "Epoch: 8, Batch: 200, Avg. Loss: 0.0011341314166784286\n",
            "Epoch: 8, Batch: 210, Avg. Loss: 0.0013921265751123428\n",
            "Epoch: 8, Batch: 220, Avg. Loss: 0.001367610715329647\n",
            "Epoch: 8, Batch: 230, Avg. Loss: 0.0013887768313288688\n",
            "Epoch: 8, Batch: 240, Avg. Loss: 0.0012752947360277177\n",
            "Epoch: 8, Batch: 250, Avg. Loss: 0.001210691213607788\n",
            "Epoch: 8, Batch: 260, Avg. Loss: 0.0013804508149623872\n",
            "Epoch: 8, Batch: 270, Avg. Loss: 0.0019242523834109306\n",
            "Epoch: 8, Batch: 280, Avg. Loss: 0.002838856302201748\n",
            "Epoch: 8, Batch: 290, Avg. Loss: 0.001339765302836895\n",
            "Epoch: 8, Batch: 300, Avg. Loss: 0.0014666421189904212\n",
            "Epoch: 8, Batch: 310, Avg. Loss: 0.0017342551052570343\n",
            "Epoch: 8, Batch: 320, Avg. Loss: 0.001415535420179367\n",
            "Epoch: 8, Batch: 330, Avg. Loss: 0.001825310070067644\n",
            "Epoch: 8, Batch: 340, Avg. Loss: 0.0015842625200748444\n"
          ],
          "name": "stdout"
        },
        {
          "output_type": "stream",
          "text": [
            "/usr/local/lib/python3.6/dist-packages/ipykernel_launcher.py:39: FutureWarning: Method .as_matrix will be removed in a future version. Use .values instead.\n",
            "/usr/local/lib/python3.6/dist-packages/ipykernel_launcher.py:39: FutureWarning: Method .as_matrix will be removed in a future version. Use .values instead.\n",
            "/usr/local/lib/python3.6/dist-packages/ipykernel_launcher.py:39: FutureWarning: Method .as_matrix will be removed in a future version. Use .values instead.\n",
            "/usr/local/lib/python3.6/dist-packages/ipykernel_launcher.py:39: FutureWarning: Method .as_matrix will be removed in a future version. Use .values instead.\n"
          ],
          "name": "stderr"
        },
        {
          "output_type": "stream",
          "text": [
            "Epoch: 9, Batch: 10, Avg. Loss: 0.001429766058921814\n",
            "Epoch: 9, Batch: 20, Avg. Loss: 0.0015921031050384045\n",
            "Epoch: 9, Batch: 30, Avg. Loss: 0.001399552822113037\n",
            "Epoch: 9, Batch: 40, Avg. Loss: 0.001413902185857296\n",
            "Epoch: 9, Batch: 50, Avg. Loss: 0.0022109186053276063\n",
            "Epoch: 9, Batch: 60, Avg. Loss: 0.0016213170364499092\n",
            "Epoch: 9, Batch: 70, Avg. Loss: 0.0013390682637691499\n",
            "Epoch: 9, Batch: 80, Avg. Loss: 0.002252287246286869\n",
            "Epoch: 9, Batch: 90, Avg. Loss: 0.0013438820764422417\n",
            "Epoch: 9, Batch: 100, Avg. Loss: 0.0020532472059130668\n",
            "Epoch: 9, Batch: 110, Avg. Loss: 0.001523266650736332\n",
            "Epoch: 9, Batch: 120, Avg. Loss: 0.0013782401606440545\n",
            "Epoch: 9, Batch: 130, Avg. Loss: 0.0015117038562893867\n",
            "Epoch: 9, Batch: 140, Avg. Loss: 0.0013551919907331467\n",
            "Epoch: 9, Batch: 150, Avg. Loss: 0.0018006400279700755\n",
            "Epoch: 9, Batch: 160, Avg. Loss: 0.001351699985563755\n",
            "Epoch: 9, Batch: 170, Avg. Loss: 0.0013111758008599282\n",
            "Epoch: 9, Batch: 180, Avg. Loss: 0.0014219157993793487\n",
            "Epoch: 9, Batch: 190, Avg. Loss: 0.0016933493092656136\n",
            "Epoch: 9, Batch: 200, Avg. Loss: 0.001558280900120735\n",
            "Epoch: 9, Batch: 210, Avg. Loss: 0.0017460780665278434\n",
            "Epoch: 9, Batch: 220, Avg. Loss: 0.0014961908459663392\n",
            "Epoch: 9, Batch: 230, Avg. Loss: 0.0016631173193454743\n",
            "Epoch: 9, Batch: 240, Avg. Loss: 0.0014278416782617569\n",
            "Epoch: 9, Batch: 250, Avg. Loss: 0.001525641731917858\n",
            "Epoch: 9, Batch: 260, Avg. Loss: 0.0015271299555897713\n",
            "Epoch: 9, Batch: 270, Avg. Loss: 0.0013012960627675056\n",
            "Epoch: 9, Batch: 280, Avg. Loss: 0.001689695604145527\n",
            "Epoch: 9, Batch: 290, Avg. Loss: 0.0018846831247210502\n",
            "Epoch: 9, Batch: 300, Avg. Loss: 0.0017330346331000327\n",
            "Epoch: 9, Batch: 310, Avg. Loss: 0.0012820388078689576\n",
            "Epoch: 9, Batch: 320, Avg. Loss: 0.001534826636314392\n",
            "Epoch: 9, Batch: 330, Avg. Loss: 0.0014332568049430848\n",
            "Epoch: 9, Batch: 340, Avg. Loss: 0.0012906689196825027\n"
          ],
          "name": "stdout"
        },
        {
          "output_type": "stream",
          "text": [
            "/usr/local/lib/python3.6/dist-packages/ipykernel_launcher.py:39: FutureWarning: Method .as_matrix will be removed in a future version. Use .values instead.\n",
            "/usr/local/lib/python3.6/dist-packages/ipykernel_launcher.py:39: FutureWarning: Method .as_matrix will be removed in a future version. Use .values instead.\n",
            "/usr/local/lib/python3.6/dist-packages/ipykernel_launcher.py:39: FutureWarning: Method .as_matrix will be removed in a future version. Use .values instead.\n",
            "/usr/local/lib/python3.6/dist-packages/ipykernel_launcher.py:39: FutureWarning: Method .as_matrix will be removed in a future version. Use .values instead.\n"
          ],
          "name": "stderr"
        },
        {
          "output_type": "stream",
          "text": [
            "Epoch: 10, Batch: 10, Avg. Loss: 0.0013128129169344901\n",
            "Epoch: 10, Batch: 20, Avg. Loss: 0.0015078475400805474\n",
            "Epoch: 10, Batch: 30, Avg. Loss: 0.0028808363378047945\n",
            "Epoch: 10, Batch: 40, Avg. Loss: 0.0017080614268779755\n",
            "Epoch: 10, Batch: 50, Avg. Loss: 0.0016687978208065034\n",
            "Epoch: 10, Batch: 60, Avg. Loss: 0.0013416663855314254\n",
            "Epoch: 10, Batch: 70, Avg. Loss: 0.0016206063255667686\n",
            "Epoch: 10, Batch: 80, Avg. Loss: 0.0013904637321829796\n",
            "Epoch: 10, Batch: 90, Avg. Loss: 0.0016668348237872123\n",
            "Epoch: 10, Batch: 100, Avg. Loss: 0.0015168876126408577\n",
            "Epoch: 10, Batch: 110, Avg. Loss: 0.0015314306393265724\n",
            "Epoch: 10, Batch: 120, Avg. Loss: 0.0014666365906596183\n",
            "Epoch: 10, Batch: 130, Avg. Loss: 0.0015171098783612251\n",
            "Epoch: 10, Batch: 140, Avg. Loss: 0.0011472970508038997\n",
            "Epoch: 10, Batch: 150, Avg. Loss: 0.0013639252930879593\n",
            "Epoch: 10, Batch: 160, Avg. Loss: 0.0012356600016355515\n",
            "Epoch: 10, Batch: 170, Avg. Loss: 0.0013386879935860633\n",
            "Epoch: 10, Batch: 180, Avg. Loss: 0.001599188543856144\n",
            "Epoch: 10, Batch: 190, Avg. Loss: 0.001879592701792717\n",
            "Epoch: 10, Batch: 200, Avg. Loss: 0.0013650612235069275\n",
            "Epoch: 10, Batch: 210, Avg. Loss: 0.0014233440458774566\n",
            "Epoch: 10, Batch: 220, Avg. Loss: 0.0011831430792808534\n",
            "Epoch: 10, Batch: 230, Avg. Loss: 0.0013491398617625236\n",
            "Epoch: 10, Batch: 240, Avg. Loss: 0.0012000003159046172\n",
            "Epoch: 10, Batch: 250, Avg. Loss: 0.0016214946582913399\n",
            "Epoch: 10, Batch: 260, Avg. Loss: 0.0012379587665200234\n",
            "Epoch: 10, Batch: 270, Avg. Loss: 0.001344509780406952\n",
            "Epoch: 10, Batch: 280, Avg. Loss: 0.0011787117868661881\n",
            "Epoch: 10, Batch: 290, Avg. Loss: 0.001611252635717392\n",
            "Epoch: 10, Batch: 300, Avg. Loss: 0.0019317635744810105\n",
            "Epoch: 10, Batch: 310, Avg. Loss: 0.0014497078135609627\n",
            "Epoch: 10, Batch: 320, Avg. Loss: 0.0013304653838276863\n",
            "Epoch: 10, Batch: 330, Avg. Loss: 0.0022255115583539008\n",
            "Epoch: 10, Batch: 340, Avg. Loss: 0.0018223497197031974\n"
          ],
          "name": "stdout"
        },
        {
          "output_type": "stream",
          "text": [
            "/usr/local/lib/python3.6/dist-packages/ipykernel_launcher.py:39: FutureWarning: Method .as_matrix will be removed in a future version. Use .values instead.\n",
            "/usr/local/lib/python3.6/dist-packages/ipykernel_launcher.py:39: FutureWarning: Method .as_matrix will be removed in a future version. Use .values instead.\n",
            "/usr/local/lib/python3.6/dist-packages/ipykernel_launcher.py:39: FutureWarning: Method .as_matrix will be removed in a future version. Use .values instead.\n",
            "/usr/local/lib/python3.6/dist-packages/ipykernel_launcher.py:39: FutureWarning: Method .as_matrix will be removed in a future version. Use .values instead.\n"
          ],
          "name": "stderr"
        },
        {
          "output_type": "stream",
          "text": [
            "Epoch: 11, Batch: 10, Avg. Loss: 0.001624479666352272\n",
            "Epoch: 11, Batch: 20, Avg. Loss: 0.0015252485349774361\n",
            "Epoch: 11, Batch: 30, Avg. Loss: 0.001421426422894001\n",
            "Epoch: 11, Batch: 40, Avg. Loss: 0.0012887356355786323\n",
            "Epoch: 11, Batch: 50, Avg. Loss: 0.002012947976589203\n",
            "Epoch: 11, Batch: 60, Avg. Loss: 0.0020840951427817346\n",
            "Epoch: 11, Batch: 70, Avg. Loss: 0.0017657039389014245\n",
            "Epoch: 11, Batch: 80, Avg. Loss: 0.0014780146256089212\n",
            "Epoch: 11, Batch: 90, Avg. Loss: 0.001343331314623356\n",
            "Epoch: 11, Batch: 100, Avg. Loss: 0.0014280438348650932\n",
            "Epoch: 11, Batch: 110, Avg. Loss: 0.0013489185348153113\n",
            "Epoch: 11, Batch: 120, Avg. Loss: 0.0013613154590129853\n",
            "Epoch: 11, Batch: 130, Avg. Loss: 0.0016908507123589516\n",
            "Epoch: 11, Batch: 140, Avg. Loss: 0.0014370570108294487\n",
            "Epoch: 11, Batch: 150, Avg. Loss: 0.0011830992847681045\n",
            "Epoch: 11, Batch: 160, Avg. Loss: 0.0015030628740787507\n",
            "Epoch: 11, Batch: 170, Avg. Loss: 0.001459561787545681\n",
            "Epoch: 11, Batch: 180, Avg. Loss: 0.001638480931520462\n",
            "Epoch: 11, Batch: 190, Avg. Loss: 0.0014919376447796822\n",
            "Epoch: 11, Batch: 200, Avg. Loss: 0.0013026192113757132\n",
            "Epoch: 11, Batch: 210, Avg. Loss: 0.0014481723457574844\n",
            "Epoch: 11, Batch: 220, Avg. Loss: 0.0010041697919368744\n",
            "Epoch: 11, Batch: 230, Avg. Loss: 0.001829186663031578\n",
            "Epoch: 11, Batch: 240, Avg. Loss: 0.0015752369165420532\n",
            "Epoch: 11, Batch: 250, Avg. Loss: 0.001558001883327961\n",
            "Epoch: 11, Batch: 260, Avg. Loss: 0.0012049239128828048\n",
            "Epoch: 11, Batch: 270, Avg. Loss: 0.0012361785396933556\n",
            "Epoch: 11, Batch: 280, Avg. Loss: 0.0013770250231027604\n",
            "Epoch: 11, Batch: 290, Avg. Loss: 0.0021103472039103507\n",
            "Epoch: 11, Batch: 300, Avg. Loss: 0.0018018251359462737\n",
            "Epoch: 11, Batch: 310, Avg. Loss: 0.0014661263599991799\n",
            "Epoch: 11, Batch: 320, Avg. Loss: 0.00119138515740633\n",
            "Epoch: 11, Batch: 330, Avg. Loss: 0.0017743418216705322\n",
            "Epoch: 11, Batch: 340, Avg. Loss: 0.002342199258506298\n"
          ],
          "name": "stdout"
        },
        {
          "output_type": "stream",
          "text": [
            "/usr/local/lib/python3.6/dist-packages/ipykernel_launcher.py:39: FutureWarning: Method .as_matrix will be removed in a future version. Use .values instead.\n",
            "/usr/local/lib/python3.6/dist-packages/ipykernel_launcher.py:39: FutureWarning: Method .as_matrix will be removed in a future version. Use .values instead.\n",
            "/usr/local/lib/python3.6/dist-packages/ipykernel_launcher.py:39: FutureWarning: Method .as_matrix will be removed in a future version. Use .values instead.\n",
            "/usr/local/lib/python3.6/dist-packages/ipykernel_launcher.py:39: FutureWarning: Method .as_matrix will be removed in a future version. Use .values instead.\n"
          ],
          "name": "stderr"
        },
        {
          "output_type": "stream",
          "text": [
            "Epoch: 12, Batch: 10, Avg. Loss: 0.001397863231599331\n",
            "Epoch: 12, Batch: 20, Avg. Loss: 0.0012823957726359368\n",
            "Epoch: 12, Batch: 30, Avg. Loss: 0.0014133637845516204\n",
            "Epoch: 12, Batch: 40, Avg. Loss: 0.0013804075643420218\n",
            "Epoch: 12, Batch: 50, Avg. Loss: 0.0011872363090515137\n",
            "Epoch: 12, Batch: 60, Avg. Loss: 0.002192025728523731\n",
            "Epoch: 12, Batch: 70, Avg. Loss: 0.001485149435698986\n",
            "Epoch: 12, Batch: 80, Avg. Loss: 0.0010939342528581619\n",
            "Epoch: 12, Batch: 90, Avg. Loss: 0.0014000011906027793\n",
            "Epoch: 12, Batch: 100, Avg. Loss: 0.0013124101758003235\n",
            "Epoch: 12, Batch: 110, Avg. Loss: 0.0017108442336320876\n",
            "Epoch: 12, Batch: 120, Avg. Loss: 0.0014784064814448356\n",
            "Epoch: 12, Batch: 130, Avg. Loss: 0.001893482431769371\n",
            "Epoch: 12, Batch: 140, Avg. Loss: 0.0014109792187809943\n",
            "Epoch: 12, Batch: 150, Avg. Loss: 0.0015229959040880202\n",
            "Epoch: 12, Batch: 160, Avg. Loss: 0.001977410025894642\n",
            "Epoch: 12, Batch: 170, Avg. Loss: 0.0017976943850517273\n",
            "Epoch: 12, Batch: 180, Avg. Loss: 0.0014307555258274078\n",
            "Epoch: 12, Batch: 190, Avg. Loss: 0.0014686243683099747\n",
            "Epoch: 12, Batch: 200, Avg. Loss: 0.0014962123036384581\n",
            "Epoch: 12, Batch: 210, Avg. Loss: 0.001984344519674778\n",
            "Epoch: 12, Batch: 220, Avg. Loss: 0.0013251478970050812\n",
            "Epoch: 12, Batch: 230, Avg. Loss: 0.0016778999194502831\n",
            "Epoch: 12, Batch: 240, Avg. Loss: 0.0035774761587381364\n",
            "Epoch: 12, Batch: 250, Avg. Loss: 0.001204203262925148\n",
            "Epoch: 12, Batch: 260, Avg. Loss: 0.0013210713267326356\n",
            "Epoch: 12, Batch: 270, Avg. Loss: 0.0014535783380270003\n",
            "Epoch: 12, Batch: 280, Avg. Loss: 0.0011885313615202903\n",
            "Epoch: 12, Batch: 290, Avg. Loss: 0.0016329906806349754\n",
            "Epoch: 12, Batch: 300, Avg. Loss: 0.0013149362429976464\n",
            "Epoch: 12, Batch: 310, Avg. Loss: 0.0014362037181854248\n",
            "Epoch: 12, Batch: 320, Avg. Loss: 0.0012793970480561257\n",
            "Epoch: 12, Batch: 330, Avg. Loss: 0.0015382233187556267\n",
            "Epoch: 12, Batch: 340, Avg. Loss: 0.0013913606330752373\n"
          ],
          "name": "stdout"
        },
        {
          "output_type": "stream",
          "text": [
            "/usr/local/lib/python3.6/dist-packages/ipykernel_launcher.py:39: FutureWarning: Method .as_matrix will be removed in a future version. Use .values instead.\n",
            "/usr/local/lib/python3.6/dist-packages/ipykernel_launcher.py:39: FutureWarning: Method .as_matrix will be removed in a future version. Use .values instead.\n",
            "/usr/local/lib/python3.6/dist-packages/ipykernel_launcher.py:39: FutureWarning: Method .as_matrix will be removed in a future version. Use .values instead.\n",
            "/usr/local/lib/python3.6/dist-packages/ipykernel_launcher.py:39: FutureWarning: Method .as_matrix will be removed in a future version. Use .values instead.\n"
          ],
          "name": "stderr"
        },
        {
          "output_type": "stream",
          "text": [
            "Epoch: 13, Batch: 10, Avg. Loss: 0.002027123585343361\n",
            "Epoch: 13, Batch: 20, Avg. Loss: 0.0013258815184235572\n",
            "Epoch: 13, Batch: 30, Avg. Loss: 0.001623762510716915\n",
            "Epoch: 13, Batch: 40, Avg. Loss: 0.0017844535112380982\n",
            "Epoch: 13, Batch: 50, Avg. Loss: 0.0013403660506010055\n",
            "Epoch: 13, Batch: 60, Avg. Loss: 0.0015337435379624367\n",
            "Epoch: 13, Batch: 70, Avg. Loss: 0.0014284057319164276\n",
            "Epoch: 13, Batch: 80, Avg. Loss: 0.0014084093049168587\n",
            "Epoch: 13, Batch: 90, Avg. Loss: 0.0013958927243947982\n",
            "Epoch: 13, Batch: 100, Avg. Loss: 0.0014294788800179958\n",
            "Epoch: 13, Batch: 110, Avg. Loss: 0.0015195315778255463\n",
            "Epoch: 13, Batch: 120, Avg. Loss: 0.0011965226531028747\n",
            "Epoch: 13, Batch: 130, Avg. Loss: 0.0013315389156341553\n",
            "Epoch: 13, Batch: 140, Avg. Loss: 0.0011999613717198372\n",
            "Epoch: 13, Batch: 150, Avg. Loss: 0.0013644608706235885\n",
            "Epoch: 13, Batch: 160, Avg. Loss: 0.0015080334171652793\n",
            "Epoch: 13, Batch: 170, Avg. Loss: 0.001619982399046421\n",
            "Epoch: 13, Batch: 180, Avg. Loss: 0.0012472406178712845\n",
            "Epoch: 13, Batch: 190, Avg. Loss: 0.0013139159604907036\n",
            "Epoch: 13, Batch: 200, Avg. Loss: 0.0013706456273794175\n",
            "Epoch: 13, Batch: 210, Avg. Loss: 0.0012627549991011619\n",
            "Epoch: 13, Batch: 220, Avg. Loss: 0.0013651621639728547\n",
            "Epoch: 13, Batch: 230, Avg. Loss: 0.0017484459728002548\n",
            "Epoch: 13, Batch: 240, Avg. Loss: 0.0012414692565798759\n",
            "Epoch: 13, Batch: 250, Avg. Loss: 0.001332894291728735\n",
            "Epoch: 13, Batch: 260, Avg. Loss: 0.0011861581578850747\n",
            "Epoch: 13, Batch: 270, Avg. Loss: 0.0016477063596248627\n",
            "Epoch: 13, Batch: 280, Avg. Loss: 0.0012935871183872222\n",
            "Epoch: 13, Batch: 290, Avg. Loss: 0.0014537796154618263\n",
            "Epoch: 13, Batch: 300, Avg. Loss: 0.00146706772595644\n",
            "Epoch: 13, Batch: 310, Avg. Loss: 0.0014821939319372176\n",
            "Epoch: 13, Batch: 320, Avg. Loss: 0.0014026236310601234\n",
            "Epoch: 13, Batch: 330, Avg. Loss: 0.001592281572520733\n",
            "Epoch: 13, Batch: 340, Avg. Loss: 0.0018265286535024644\n"
          ],
          "name": "stdout"
        },
        {
          "output_type": "stream",
          "text": [
            "/usr/local/lib/python3.6/dist-packages/ipykernel_launcher.py:39: FutureWarning: Method .as_matrix will be removed in a future version. Use .values instead.\n",
            "/usr/local/lib/python3.6/dist-packages/ipykernel_launcher.py:39: FutureWarning: Method .as_matrix will be removed in a future version. Use .values instead.\n",
            "/usr/local/lib/python3.6/dist-packages/ipykernel_launcher.py:39: FutureWarning: Method .as_matrix will be removed in a future version. Use .values instead.\n",
            "/usr/local/lib/python3.6/dist-packages/ipykernel_launcher.py:39: FutureWarning: Method .as_matrix will be removed in a future version. Use .values instead.\n"
          ],
          "name": "stderr"
        },
        {
          "output_type": "stream",
          "text": [
            "Epoch: 14, Batch: 10, Avg. Loss: 0.0013777461722493172\n",
            "Epoch: 14, Batch: 20, Avg. Loss: 0.001215352512896061\n",
            "Epoch: 14, Batch: 30, Avg. Loss: 0.0013660875633358955\n",
            "Epoch: 14, Batch: 40, Avg. Loss: 0.0013051254227757455\n",
            "Epoch: 14, Batch: 50, Avg. Loss: 0.0017395773008465768\n",
            "Epoch: 14, Batch: 60, Avg. Loss: 0.0016322064325213432\n",
            "Epoch: 14, Batch: 70, Avg. Loss: 0.0014481900222599506\n",
            "Epoch: 14, Batch: 80, Avg. Loss: 0.0014256702810525894\n",
            "Epoch: 14, Batch: 90, Avg. Loss: 0.0014548562094569206\n",
            "Epoch: 14, Batch: 100, Avg. Loss: 0.0014329036921262742\n",
            "Epoch: 14, Batch: 110, Avg. Loss: 0.001395003378391266\n",
            "Epoch: 14, Batch: 120, Avg. Loss: 0.0015709367692470552\n",
            "Epoch: 14, Batch: 130, Avg. Loss: 0.0014392806254327297\n",
            "Epoch: 14, Batch: 140, Avg. Loss: 0.0011363802030682564\n",
            "Epoch: 14, Batch: 150, Avg. Loss: 0.0015371113196015359\n",
            "Epoch: 14, Batch: 160, Avg. Loss: 0.0011878097653388977\n",
            "Epoch: 14, Batch: 170, Avg. Loss: 0.001466401681303978\n",
            "Epoch: 14, Batch: 180, Avg. Loss: 0.0017719733119010924\n",
            "Epoch: 14, Batch: 190, Avg. Loss: 0.0014472138360142708\n",
            "Epoch: 14, Batch: 200, Avg. Loss: 0.0015986178740859031\n",
            "Epoch: 14, Batch: 210, Avg. Loss: 0.0015961517244577408\n",
            "Epoch: 14, Batch: 220, Avg. Loss: 0.0012043478116393089\n",
            "Epoch: 14, Batch: 230, Avg. Loss: 0.001580041728913784\n",
            "Epoch: 14, Batch: 240, Avg. Loss: 0.0018704391494393348\n",
            "Epoch: 14, Batch: 250, Avg. Loss: 0.0013471400439739227\n",
            "Epoch: 14, Batch: 260, Avg. Loss: 0.0013687659502029418\n",
            "Epoch: 14, Batch: 270, Avg. Loss: 0.0019454155638813973\n",
            "Epoch: 14, Batch: 280, Avg. Loss: 0.0015135116577148437\n",
            "Epoch: 14, Batch: 290, Avg. Loss: 0.001520213644951582\n",
            "Epoch: 14, Batch: 300, Avg. Loss: 0.0013499474078416825\n",
            "Epoch: 14, Batch: 310, Avg. Loss: 0.0015651486814022065\n",
            "Epoch: 14, Batch: 320, Avg. Loss: 0.0016029544845223428\n",
            "Epoch: 14, Batch: 330, Avg. Loss: 0.0019324451312422752\n",
            "Epoch: 14, Batch: 340, Avg. Loss: 0.0016233051493763923\n"
          ],
          "name": "stdout"
        },
        {
          "output_type": "stream",
          "text": [
            "/usr/local/lib/python3.6/dist-packages/ipykernel_launcher.py:39: FutureWarning: Method .as_matrix will be removed in a future version. Use .values instead.\n",
            "/usr/local/lib/python3.6/dist-packages/ipykernel_launcher.py:39: FutureWarning: Method .as_matrix will be removed in a future version. Use .values instead.\n",
            "/usr/local/lib/python3.6/dist-packages/ipykernel_launcher.py:39: FutureWarning: Method .as_matrix will be removed in a future version. Use .values instead.\n",
            "/usr/local/lib/python3.6/dist-packages/ipykernel_launcher.py:39: FutureWarning: Method .as_matrix will be removed in a future version. Use .values instead.\n"
          ],
          "name": "stderr"
        },
        {
          "output_type": "stream",
          "text": [
            "Epoch: 15, Batch: 10, Avg. Loss: 0.001296373575925827\n",
            "Epoch: 15, Batch: 20, Avg. Loss: 0.001462969034910202\n",
            "Epoch: 15, Batch: 30, Avg. Loss: 0.0015319040417671203\n",
            "Epoch: 15, Batch: 40, Avg. Loss: 0.0017477021887898445\n",
            "Epoch: 15, Batch: 50, Avg. Loss: 0.0014221755191683768\n",
            "Epoch: 15, Batch: 60, Avg. Loss: 0.001287001021206379\n",
            "Epoch: 15, Batch: 70, Avg. Loss: 0.0016574960947036742\n",
            "Epoch: 15, Batch: 80, Avg. Loss: 0.0014249995946884156\n",
            "Epoch: 15, Batch: 90, Avg. Loss: 0.0013046282157301902\n",
            "Epoch: 15, Batch: 100, Avg. Loss: 0.0013564153090119362\n",
            "Epoch: 15, Batch: 110, Avg. Loss: 0.0020196631252765657\n",
            "Epoch: 15, Batch: 120, Avg. Loss: 0.0014504322484135627\n",
            "Epoch: 15, Batch: 130, Avg. Loss: 0.001380028411746025\n",
            "Epoch: 15, Batch: 140, Avg. Loss: 0.0013330504223704339\n",
            "Epoch: 15, Batch: 150, Avg. Loss: 0.0019042222499847411\n",
            "Epoch: 15, Batch: 160, Avg. Loss: 0.0019214190468192101\n",
            "Epoch: 15, Batch: 170, Avg. Loss: 0.0013651324957609176\n",
            "Epoch: 15, Batch: 180, Avg. Loss: 0.001606055960059166\n",
            "Epoch: 15, Batch: 190, Avg. Loss: 0.0013210126981139183\n",
            "Epoch: 15, Batch: 200, Avg. Loss: 0.0016379606202244759\n",
            "Epoch: 15, Batch: 210, Avg. Loss: 0.0017506124824285508\n",
            "Epoch: 15, Batch: 220, Avg. Loss: 0.0013454268127679825\n",
            "Epoch: 15, Batch: 230, Avg. Loss: 0.0012481313049793243\n",
            "Epoch: 15, Batch: 240, Avg. Loss: 0.0017129675149917603\n",
            "Epoch: 15, Batch: 250, Avg. Loss: 0.0020163659080862997\n",
            "Epoch: 15, Batch: 260, Avg. Loss: 0.0015018359906971454\n",
            "Epoch: 15, Batch: 270, Avg. Loss: 0.0016215201914310455\n",
            "Epoch: 15, Batch: 280, Avg. Loss: 0.0012465010657906532\n",
            "Epoch: 15, Batch: 290, Avg. Loss: 0.0016947128400206567\n",
            "Epoch: 15, Batch: 300, Avg. Loss: 0.001366013579070568\n",
            "Epoch: 15, Batch: 310, Avg. Loss: 0.0013657504469156265\n",
            "Epoch: 15, Batch: 320, Avg. Loss: 0.0012579778730869293\n",
            "Epoch: 15, Batch: 330, Avg. Loss: 0.0013010691627860069\n",
            "Epoch: 15, Batch: 340, Avg. Loss: 0.0016989483386278153\n"
          ],
          "name": "stdout"
        },
        {
          "output_type": "stream",
          "text": [
            "/usr/local/lib/python3.6/dist-packages/ipykernel_launcher.py:39: FutureWarning: Method .as_matrix will be removed in a future version. Use .values instead.\n",
            "/usr/local/lib/python3.6/dist-packages/ipykernel_launcher.py:39: FutureWarning: Method .as_matrix will be removed in a future version. Use .values instead.\n",
            "/usr/local/lib/python3.6/dist-packages/ipykernel_launcher.py:39: FutureWarning: Method .as_matrix will be removed in a future version. Use .values instead.\n",
            "/usr/local/lib/python3.6/dist-packages/ipykernel_launcher.py:39: FutureWarning: Method .as_matrix will be removed in a future version. Use .values instead.\n"
          ],
          "name": "stderr"
        },
        {
          "output_type": "stream",
          "text": [
            "Epoch: 16, Batch: 10, Avg. Loss: 0.0015834178775548935\n",
            "Epoch: 16, Batch: 20, Avg. Loss: 0.001212205894291401\n",
            "Epoch: 16, Batch: 30, Avg. Loss: 0.0018648515418171882\n",
            "Epoch: 16, Batch: 40, Avg. Loss: 0.0035522542670369146\n",
            "Epoch: 16, Batch: 50, Avg. Loss: 0.0013848823457956313\n",
            "Epoch: 16, Batch: 60, Avg. Loss: 0.0016205982863903045\n",
            "Epoch: 16, Batch: 70, Avg. Loss: 0.0012996180802583694\n",
            "Epoch: 16, Batch: 80, Avg. Loss: 0.0013279893547296525\n",
            "Epoch: 16, Batch: 90, Avg. Loss: 0.0016137002632021903\n",
            "Epoch: 16, Batch: 100, Avg. Loss: 0.0018672979846596717\n",
            "Epoch: 16, Batch: 110, Avg. Loss: 0.0013154802545905114\n",
            "Epoch: 16, Batch: 120, Avg. Loss: 0.0013338738866150379\n",
            "Epoch: 16, Batch: 130, Avg. Loss: 0.0011433942466974258\n",
            "Epoch: 16, Batch: 140, Avg. Loss: 0.0011844201236963273\n",
            "Epoch: 16, Batch: 150, Avg. Loss: 0.0013513348773121834\n",
            "Epoch: 16, Batch: 160, Avg. Loss: 0.0012792041450738908\n",
            "Epoch: 16, Batch: 170, Avg. Loss: 0.001326908178627491\n",
            "Epoch: 16, Batch: 180, Avg. Loss: 0.0016980027630925179\n",
            "Epoch: 16, Batch: 190, Avg. Loss: 0.0019314686059951783\n",
            "Epoch: 16, Batch: 200, Avg. Loss: 0.00149303912371397\n",
            "Epoch: 16, Batch: 210, Avg. Loss: 0.0018259339183568954\n",
            "Epoch: 16, Batch: 220, Avg. Loss: 0.0014057641327381134\n",
            "Epoch: 16, Batch: 230, Avg. Loss: 0.0017375398650765418\n",
            "Epoch: 16, Batch: 240, Avg. Loss: 0.0015535452365875245\n",
            "Epoch: 16, Batch: 250, Avg. Loss: 0.0012098394483327866\n",
            "Epoch: 16, Batch: 260, Avg. Loss: 0.0014338359609246253\n",
            "Epoch: 16, Batch: 270, Avg. Loss: 0.001574912577867508\n",
            "Epoch: 16, Batch: 280, Avg. Loss: 0.0014839651286602021\n",
            "Epoch: 16, Batch: 290, Avg. Loss: 0.0017644769772887229\n",
            "Epoch: 16, Batch: 300, Avg. Loss: 0.0013323116078972816\n",
            "Epoch: 16, Batch: 310, Avg. Loss: 0.0013210673332214355\n",
            "Epoch: 16, Batch: 320, Avg. Loss: 0.0011516952663660049\n",
            "Epoch: 16, Batch: 330, Avg. Loss: 0.0014951615408062935\n",
            "Epoch: 16, Batch: 340, Avg. Loss: 0.00147158370167017\n"
          ],
          "name": "stdout"
        },
        {
          "output_type": "stream",
          "text": [
            "/usr/local/lib/python3.6/dist-packages/ipykernel_launcher.py:39: FutureWarning: Method .as_matrix will be removed in a future version. Use .values instead.\n",
            "/usr/local/lib/python3.6/dist-packages/ipykernel_launcher.py:39: FutureWarning: Method .as_matrix will be removed in a future version. Use .values instead.\n",
            "/usr/local/lib/python3.6/dist-packages/ipykernel_launcher.py:39: FutureWarning: Method .as_matrix will be removed in a future version. Use .values instead.\n",
            "/usr/local/lib/python3.6/dist-packages/ipykernel_launcher.py:39: FutureWarning: Method .as_matrix will be removed in a future version. Use .values instead.\n"
          ],
          "name": "stderr"
        },
        {
          "output_type": "stream",
          "text": [
            "Epoch: 17, Batch: 10, Avg. Loss: 0.0011612517908215522\n",
            "Epoch: 17, Batch: 20, Avg. Loss: 0.001559741012752056\n",
            "Epoch: 17, Batch: 30, Avg. Loss: 0.0013241909816861153\n",
            "Epoch: 17, Batch: 40, Avg. Loss: 0.0017354488223791122\n",
            "Epoch: 17, Batch: 50, Avg. Loss: 0.0019148737862706184\n",
            "Epoch: 17, Batch: 60, Avg. Loss: 0.0018584314063191413\n",
            "Epoch: 17, Batch: 70, Avg. Loss: 0.0013196349591016769\n",
            "Epoch: 17, Batch: 80, Avg. Loss: 0.0014850128516554833\n",
            "Epoch: 17, Batch: 90, Avg. Loss: 0.0015877686515450478\n",
            "Epoch: 17, Batch: 100, Avg. Loss: 0.001210540931671858\n",
            "Epoch: 17, Batch: 110, Avg. Loss: 0.0017547550424933432\n",
            "Epoch: 17, Batch: 120, Avg. Loss: 0.0014401623830199242\n",
            "Epoch: 17, Batch: 130, Avg. Loss: 0.0014012842550873757\n",
            "Epoch: 17, Batch: 140, Avg. Loss: 0.0010677479207515717\n",
            "Epoch: 17, Batch: 150, Avg. Loss: 0.001494517371058464\n",
            "Epoch: 17, Batch: 160, Avg. Loss: 0.0017396439686417579\n",
            "Epoch: 17, Batch: 170, Avg. Loss: 0.0015374000817537307\n",
            "Epoch: 17, Batch: 180, Avg. Loss: 0.0019381814897060394\n",
            "Epoch: 17, Batch: 190, Avg. Loss: 0.0014895312786102294\n",
            "Epoch: 17, Batch: 200, Avg. Loss: 0.001449040364474058\n",
            "Epoch: 17, Batch: 210, Avg. Loss: 0.0017066521346569062\n",
            "Epoch: 17, Batch: 220, Avg. Loss: 0.0010847316421568394\n",
            "Epoch: 17, Batch: 230, Avg. Loss: 0.0013015831224620343\n",
            "Epoch: 17, Batch: 240, Avg. Loss: 0.0015237001925706864\n",
            "Epoch: 17, Batch: 250, Avg. Loss: 0.002021627463400364\n",
            "Epoch: 17, Batch: 260, Avg. Loss: 0.0023872317895293235\n",
            "Epoch: 17, Batch: 270, Avg. Loss: 0.0010784124508500098\n",
            "Epoch: 17, Batch: 280, Avg. Loss: 0.0014226024970412255\n",
            "Epoch: 17, Batch: 290, Avg. Loss: 0.0013214486986398697\n",
            "Epoch: 17, Batch: 300, Avg. Loss: 0.0012807286456227303\n",
            "Epoch: 17, Batch: 310, Avg. Loss: 0.0023331993967294694\n",
            "Epoch: 17, Batch: 320, Avg. Loss: 0.001535408891737461\n",
            "Epoch: 17, Batch: 330, Avg. Loss: 0.0013699092119932176\n",
            "Epoch: 17, Batch: 340, Avg. Loss: 0.0019181555584073067\n"
          ],
          "name": "stdout"
        },
        {
          "output_type": "stream",
          "text": [
            "/usr/local/lib/python3.6/dist-packages/ipykernel_launcher.py:39: FutureWarning: Method .as_matrix will be removed in a future version. Use .values instead.\n",
            "/usr/local/lib/python3.6/dist-packages/ipykernel_launcher.py:39: FutureWarning: Method .as_matrix will be removed in a future version. Use .values instead.\n",
            "/usr/local/lib/python3.6/dist-packages/ipykernel_launcher.py:39: FutureWarning: Method .as_matrix will be removed in a future version. Use .values instead.\n",
            "/usr/local/lib/python3.6/dist-packages/ipykernel_launcher.py:39: FutureWarning: Method .as_matrix will be removed in a future version. Use .values instead.\n"
          ],
          "name": "stderr"
        },
        {
          "output_type": "stream",
          "text": [
            "Epoch: 18, Batch: 10, Avg. Loss: 0.0012434830479323864\n",
            "Epoch: 18, Batch: 20, Avg. Loss: 0.001274802528321743\n",
            "Epoch: 18, Batch: 30, Avg. Loss: 0.0015149775072932244\n",
            "Epoch: 18, Batch: 40, Avg. Loss: 0.001452103279531002\n",
            "Epoch: 18, Batch: 50, Avg. Loss: 0.001415270559489727\n",
            "Epoch: 18, Batch: 60, Avg. Loss: 0.001523095816373825\n",
            "Epoch: 18, Batch: 70, Avg. Loss: 0.0012452669590711594\n",
            "Epoch: 18, Batch: 80, Avg. Loss: 0.0013616321608424186\n",
            "Epoch: 18, Batch: 90, Avg. Loss: 0.0013742449507117272\n",
            "Epoch: 18, Batch: 100, Avg. Loss: 0.0014813051596283913\n",
            "Epoch: 18, Batch: 110, Avg. Loss: 0.001796773746609688\n",
            "Epoch: 18, Batch: 120, Avg. Loss: 0.0013877403438091278\n",
            "Epoch: 18, Batch: 130, Avg. Loss: 0.0013155509531497956\n",
            "Epoch: 18, Batch: 140, Avg. Loss: 0.00130789764970541\n",
            "Epoch: 18, Batch: 150, Avg. Loss: 0.001278453528881073\n",
            "Epoch: 18, Batch: 160, Avg. Loss: 0.0015341998115181923\n",
            "Epoch: 18, Batch: 170, Avg. Loss: 0.001224584247916937\n",
            "Epoch: 18, Batch: 180, Avg. Loss: 0.0014553746581077575\n",
            "Epoch: 18, Batch: 190, Avg. Loss: 0.0014485286325216294\n",
            "Epoch: 18, Batch: 200, Avg. Loss: 0.001443358175456524\n",
            "Epoch: 18, Batch: 210, Avg. Loss: 0.0016922569498419762\n",
            "Epoch: 18, Batch: 220, Avg. Loss: 0.0016308162733912467\n",
            "Epoch: 18, Batch: 230, Avg. Loss: 0.0018335689902305604\n",
            "Epoch: 18, Batch: 240, Avg. Loss: 0.001275152862071991\n",
            "Epoch: 18, Batch: 250, Avg. Loss: 0.0011075097285211087\n",
            "Epoch: 18, Batch: 260, Avg. Loss: 0.0018072545006871223\n",
            "Epoch: 18, Batch: 270, Avg. Loss: 0.0011708848923444749\n",
            "Epoch: 18, Batch: 280, Avg. Loss: 0.0014533470049500465\n",
            "Epoch: 18, Batch: 290, Avg. Loss: 0.0017810932025313377\n",
            "Epoch: 18, Batch: 300, Avg. Loss: 0.0016345526799559592\n",
            "Epoch: 18, Batch: 310, Avg. Loss: 0.0017837825790047645\n",
            "Epoch: 18, Batch: 320, Avg. Loss: 0.0013653726801276208\n",
            "Epoch: 18, Batch: 330, Avg. Loss: 0.001616205707192421\n",
            "Epoch: 18, Batch: 340, Avg. Loss: 0.001104520082473755\n"
          ],
          "name": "stdout"
        },
        {
          "output_type": "stream",
          "text": [
            "/usr/local/lib/python3.6/dist-packages/ipykernel_launcher.py:39: FutureWarning: Method .as_matrix will be removed in a future version. Use .values instead.\n",
            "/usr/local/lib/python3.6/dist-packages/ipykernel_launcher.py:39: FutureWarning: Method .as_matrix will be removed in a future version. Use .values instead.\n",
            "/usr/local/lib/python3.6/dist-packages/ipykernel_launcher.py:39: FutureWarning: Method .as_matrix will be removed in a future version. Use .values instead.\n",
            "/usr/local/lib/python3.6/dist-packages/ipykernel_launcher.py:39: FutureWarning: Method .as_matrix will be removed in a future version. Use .values instead.\n"
          ],
          "name": "stderr"
        },
        {
          "output_type": "stream",
          "text": [
            "Epoch: 19, Batch: 10, Avg. Loss: 0.0012665133662521839\n",
            "Epoch: 19, Batch: 20, Avg. Loss: 0.0015287660509347915\n",
            "Epoch: 19, Batch: 30, Avg. Loss: 0.0014208365306258202\n",
            "Epoch: 19, Batch: 40, Avg. Loss: 0.0016994947493076324\n",
            "Epoch: 19, Batch: 50, Avg. Loss: 0.001692169524729252\n",
            "Epoch: 19, Batch: 60, Avg. Loss: 0.0013070388287305832\n",
            "Epoch: 19, Batch: 70, Avg. Loss: 0.0013307307958602905\n",
            "Epoch: 19, Batch: 80, Avg. Loss: 0.0016399652510881424\n",
            "Epoch: 19, Batch: 90, Avg. Loss: 0.002285011097788811\n",
            "Epoch: 19, Batch: 100, Avg. Loss: 0.0014228593781590462\n",
            "Epoch: 19, Batch: 110, Avg. Loss: 0.0013607279732823373\n",
            "Epoch: 19, Batch: 120, Avg. Loss: 0.0013923076018691064\n",
            "Epoch: 19, Batch: 130, Avg. Loss: 0.0016384160220623016\n",
            "Epoch: 19, Batch: 140, Avg. Loss: 0.0014385528042912482\n",
            "Epoch: 19, Batch: 150, Avg. Loss: 0.0017411393225193023\n",
            "Epoch: 19, Batch: 160, Avg. Loss: 0.0016026483476161957\n",
            "Epoch: 19, Batch: 170, Avg. Loss: 0.0015880672931671144\n",
            "Epoch: 19, Batch: 180, Avg. Loss: 0.0014886232763528823\n",
            "Epoch: 19, Batch: 190, Avg. Loss: 0.0013325236216187477\n",
            "Epoch: 19, Batch: 200, Avg. Loss: 0.0017726575508713721\n",
            "Epoch: 19, Batch: 210, Avg. Loss: 0.0017043087035417558\n",
            "Epoch: 19, Batch: 220, Avg. Loss: 0.0014196612313389777\n",
            "Epoch: 19, Batch: 230, Avg. Loss: 0.0015141400247812272\n",
            "Epoch: 19, Batch: 240, Avg. Loss: 0.0016113069579005242\n",
            "Epoch: 19, Batch: 250, Avg. Loss: 0.0013548746705055238\n",
            "Epoch: 19, Batch: 260, Avg. Loss: 0.0013671056106686593\n",
            "Epoch: 19, Batch: 270, Avg. Loss: 0.001757258340716362\n",
            "Epoch: 19, Batch: 280, Avg. Loss: 0.0015069644525647163\n",
            "Epoch: 19, Batch: 290, Avg. Loss: 0.0011539866775274277\n",
            "Epoch: 19, Batch: 300, Avg. Loss: 0.0016311592981219291\n",
            "Epoch: 19, Batch: 310, Avg. Loss: 0.001876536712050438\n",
            "Epoch: 19, Batch: 320, Avg. Loss: 0.001398826003074646\n",
            "Epoch: 19, Batch: 330, Avg. Loss: 0.0011907724589109421\n",
            "Epoch: 19, Batch: 340, Avg. Loss: 0.0013058606088161469\n"
          ],
          "name": "stdout"
        },
        {
          "output_type": "stream",
          "text": [
            "/usr/local/lib/python3.6/dist-packages/ipykernel_launcher.py:39: FutureWarning: Method .as_matrix will be removed in a future version. Use .values instead.\n",
            "/usr/local/lib/python3.6/dist-packages/ipykernel_launcher.py:39: FutureWarning: Method .as_matrix will be removed in a future version. Use .values instead.\n",
            "/usr/local/lib/python3.6/dist-packages/ipykernel_launcher.py:39: FutureWarning: Method .as_matrix will be removed in a future version. Use .values instead.\n",
            "/usr/local/lib/python3.6/dist-packages/ipykernel_launcher.py:39: FutureWarning: Method .as_matrix will be removed in a future version. Use .values instead.\n"
          ],
          "name": "stderr"
        },
        {
          "output_type": "stream",
          "text": [
            "Epoch: 20, Batch: 10, Avg. Loss: 0.0014768122993409633\n",
            "Epoch: 20, Batch: 20, Avg. Loss: 0.001675548292696476\n",
            "Epoch: 20, Batch: 30, Avg. Loss: 0.001580608293414116\n",
            "Epoch: 20, Batch: 40, Avg. Loss: 0.0013513884022831916\n",
            "Epoch: 20, Batch: 50, Avg. Loss: 0.0016288615986704827\n",
            "Epoch: 20, Batch: 60, Avg. Loss: 0.0013581970557570457\n",
            "Epoch: 20, Batch: 70, Avg. Loss: 0.0013394313305616378\n",
            "Epoch: 20, Batch: 80, Avg. Loss: 0.0012245070412755014\n",
            "Epoch: 20, Batch: 90, Avg. Loss: 0.0015273204743862152\n",
            "Epoch: 20, Batch: 100, Avg. Loss: 0.0012730423286557197\n",
            "Epoch: 20, Batch: 110, Avg. Loss: 0.0014149262756109238\n",
            "Epoch: 20, Batch: 120, Avg. Loss: 0.0016437405422329904\n",
            "Epoch: 20, Batch: 130, Avg. Loss: 0.0011865274012088775\n",
            "Epoch: 20, Batch: 140, Avg. Loss: 0.0011125815510749817\n",
            "Epoch: 20, Batch: 150, Avg. Loss: 0.0018368272110819816\n",
            "Epoch: 20, Batch: 160, Avg. Loss: 0.0012605080977082252\n",
            "Epoch: 20, Batch: 170, Avg. Loss: 0.0014616420567035676\n",
            "Epoch: 20, Batch: 180, Avg. Loss: 0.0014063190072774888\n",
            "Epoch: 20, Batch: 190, Avg. Loss: 0.001277795411646366\n",
            "Epoch: 20, Batch: 200, Avg. Loss: 0.0013982468396425247\n",
            "Epoch: 20, Batch: 210, Avg. Loss: 0.001703717328608036\n",
            "Epoch: 20, Batch: 220, Avg. Loss: 0.0013581170961260796\n",
            "Epoch: 20, Batch: 230, Avg. Loss: 0.001553757607936859\n",
            "Epoch: 20, Batch: 240, Avg. Loss: 0.0015522458031773567\n",
            "Epoch: 20, Batch: 250, Avg. Loss: 0.001295663259923458\n",
            "Epoch: 20, Batch: 260, Avg. Loss: 0.0014123309627175331\n",
            "Epoch: 20, Batch: 270, Avg. Loss: 0.0011959638372063637\n",
            "Epoch: 20, Batch: 280, Avg. Loss: 0.001332012254744768\n",
            "Epoch: 20, Batch: 290, Avg. Loss: 0.0014676452428102494\n",
            "Epoch: 20, Batch: 300, Avg. Loss: 0.0012227127626538276\n",
            "Epoch: 20, Batch: 310, Avg. Loss: 0.0015884780883789063\n",
            "Epoch: 20, Batch: 320, Avg. Loss: 0.0012834745980799197\n",
            "Epoch: 20, Batch: 330, Avg. Loss: 0.0013738192692399026\n",
            "Epoch: 20, Batch: 340, Avg. Loss: 0.0015443547666072845\n"
          ],
          "name": "stdout"
        },
        {
          "output_type": "stream",
          "text": [
            "/usr/local/lib/python3.6/dist-packages/ipykernel_launcher.py:39: FutureWarning: Method .as_matrix will be removed in a future version. Use .values instead.\n",
            "/usr/local/lib/python3.6/dist-packages/ipykernel_launcher.py:39: FutureWarning: Method .as_matrix will be removed in a future version. Use .values instead.\n",
            "/usr/local/lib/python3.6/dist-packages/ipykernel_launcher.py:39: FutureWarning: Method .as_matrix will be removed in a future version. Use .values instead.\n",
            "/usr/local/lib/python3.6/dist-packages/ipykernel_launcher.py:39: FutureWarning: Method .as_matrix will be removed in a future version. Use .values instead.\n"
          ],
          "name": "stderr"
        },
        {
          "output_type": "stream",
          "text": [
            "Epoch: 21, Batch: 10, Avg. Loss: 0.0012636006623506545\n",
            "Epoch: 21, Batch: 20, Avg. Loss: 0.0013249631747603416\n",
            "Epoch: 21, Batch: 30, Avg. Loss: 0.001238447330892086\n",
            "Epoch: 21, Batch: 40, Avg. Loss: 0.0013539002239704133\n",
            "Epoch: 21, Batch: 50, Avg. Loss: 0.0013054960891604424\n",
            "Epoch: 21, Batch: 60, Avg. Loss: 0.0014027129858732224\n",
            "Epoch: 21, Batch: 70, Avg. Loss: 0.001289090596139431\n",
            "Epoch: 21, Batch: 80, Avg. Loss: 0.0015799525752663612\n",
            "Epoch: 21, Batch: 90, Avg. Loss: 0.0014235903844237328\n",
            "Epoch: 21, Batch: 100, Avg. Loss: 0.0012357555478811264\n",
            "Epoch: 21, Batch: 110, Avg. Loss: 0.0014861980825662613\n",
            "Epoch: 21, Batch: 120, Avg. Loss: 0.0013904611989855767\n",
            "Epoch: 21, Batch: 130, Avg. Loss: 0.0010803620293736457\n",
            "Epoch: 21, Batch: 140, Avg. Loss: 0.0017452441081404685\n",
            "Epoch: 21, Batch: 150, Avg. Loss: 0.0013582246005535126\n",
            "Epoch: 21, Batch: 160, Avg. Loss: 0.0015849860981106759\n",
            "Epoch: 21, Batch: 170, Avg. Loss: 0.0015964343547821044\n",
            "Epoch: 21, Batch: 180, Avg. Loss: 0.001387005053460598\n",
            "Epoch: 21, Batch: 190, Avg. Loss: 0.0019770796298980713\n",
            "Epoch: 21, Batch: 200, Avg. Loss: 0.00178696358948946\n",
            "Epoch: 21, Batch: 210, Avg. Loss: 0.0013107731491327286\n",
            "Epoch: 21, Batch: 220, Avg. Loss: 0.0014793465211987496\n",
            "Epoch: 21, Batch: 230, Avg. Loss: 0.0013257716596126556\n",
            "Epoch: 21, Batch: 240, Avg. Loss: 0.0014529072493314743\n",
            "Epoch: 21, Batch: 250, Avg. Loss: 0.0011846052147448064\n",
            "Epoch: 21, Batch: 260, Avg. Loss: 0.0013626965954899788\n",
            "Epoch: 21, Batch: 270, Avg. Loss: 0.0014301403686404228\n",
            "Epoch: 21, Batch: 280, Avg. Loss: 0.0015413290560245515\n",
            "Epoch: 21, Batch: 290, Avg. Loss: 0.0011475011855363846\n",
            "Epoch: 21, Batch: 300, Avg. Loss: 0.0011509153246879577\n",
            "Epoch: 21, Batch: 310, Avg. Loss: 0.0017460281103849412\n",
            "Epoch: 21, Batch: 320, Avg. Loss: 0.0016863271445035934\n",
            "Epoch: 21, Batch: 330, Avg. Loss: 0.0010879068076610566\n",
            "Epoch: 21, Batch: 340, Avg. Loss: 0.0012328947335481643\n"
          ],
          "name": "stdout"
        },
        {
          "output_type": "stream",
          "text": [
            "/usr/local/lib/python3.6/dist-packages/ipykernel_launcher.py:39: FutureWarning: Method .as_matrix will be removed in a future version. Use .values instead.\n",
            "/usr/local/lib/python3.6/dist-packages/ipykernel_launcher.py:39: FutureWarning: Method .as_matrix will be removed in a future version. Use .values instead.\n",
            "/usr/local/lib/python3.6/dist-packages/ipykernel_launcher.py:39: FutureWarning: Method .as_matrix will be removed in a future version. Use .values instead.\n",
            "/usr/local/lib/python3.6/dist-packages/ipykernel_launcher.py:39: FutureWarning: Method .as_matrix will be removed in a future version. Use .values instead.\n"
          ],
          "name": "stderr"
        },
        {
          "output_type": "stream",
          "text": [
            "Epoch: 22, Batch: 10, Avg. Loss: 0.0011680511757731437\n",
            "Epoch: 22, Batch: 20, Avg. Loss: 0.0012010052055120468\n",
            "Epoch: 22, Batch: 30, Avg. Loss: 0.0013613474071025849\n",
            "Epoch: 22, Batch: 40, Avg. Loss: 0.0012748951688408851\n",
            "Epoch: 22, Batch: 50, Avg. Loss: 0.0017055928483605384\n",
            "Epoch: 22, Batch: 60, Avg. Loss: 0.0011379322186112404\n",
            "Epoch: 22, Batch: 70, Avg. Loss: 0.0015168845877051355\n",
            "Epoch: 22, Batch: 80, Avg. Loss: 0.0016423562467098236\n",
            "Epoch: 22, Batch: 90, Avg. Loss: 0.0019952442720532417\n",
            "Epoch: 22, Batch: 100, Avg. Loss: 0.0016036236733198166\n",
            "Epoch: 22, Batch: 110, Avg. Loss: 0.0012426564805209637\n",
            "Epoch: 22, Batch: 120, Avg. Loss: 0.0013600334897637368\n",
            "Epoch: 22, Batch: 130, Avg. Loss: 0.0013330375254154206\n",
            "Epoch: 22, Batch: 140, Avg. Loss: 0.0010815193653106688\n",
            "Epoch: 22, Batch: 150, Avg. Loss: 0.0013835418447852134\n",
            "Epoch: 22, Batch: 160, Avg. Loss: 0.001820911280810833\n",
            "Epoch: 22, Batch: 170, Avg. Loss: 0.0015974397212266923\n",
            "Epoch: 22, Batch: 180, Avg. Loss: 0.0015905046239495276\n",
            "Epoch: 22, Batch: 190, Avg. Loss: 0.0013334179893136025\n",
            "Epoch: 22, Batch: 200, Avg. Loss: 0.0013849524557590484\n",
            "Epoch: 22, Batch: 210, Avg. Loss: 0.0017944722175598144\n",
            "Epoch: 22, Batch: 220, Avg. Loss: 0.0018536014482378959\n",
            "Epoch: 22, Batch: 230, Avg. Loss: 0.001978763960301876\n",
            "Epoch: 22, Batch: 240, Avg. Loss: 0.0012921314910054207\n",
            "Epoch: 22, Batch: 250, Avg. Loss: 0.001548392690718174\n",
            "Epoch: 22, Batch: 260, Avg. Loss: 0.0010879622474312782\n",
            "Epoch: 22, Batch: 270, Avg. Loss: 0.0011391613185405731\n",
            "Epoch: 22, Batch: 280, Avg. Loss: 0.0013723374977707863\n",
            "Epoch: 22, Batch: 290, Avg. Loss: 0.0009573835954070091\n",
            "Epoch: 22, Batch: 300, Avg. Loss: 0.0016237979605793953\n",
            "Epoch: 22, Batch: 310, Avg. Loss: 0.0011561238840222358\n",
            "Epoch: 22, Batch: 320, Avg. Loss: 0.0012818259820342064\n",
            "Epoch: 22, Batch: 330, Avg. Loss: 0.0016264650821685791\n",
            "Epoch: 22, Batch: 340, Avg. Loss: 0.0011891362369060516\n"
          ],
          "name": "stdout"
        },
        {
          "output_type": "stream",
          "text": [
            "/usr/local/lib/python3.6/dist-packages/ipykernel_launcher.py:39: FutureWarning: Method .as_matrix will be removed in a future version. Use .values instead.\n",
            "/usr/local/lib/python3.6/dist-packages/ipykernel_launcher.py:39: FutureWarning: Method .as_matrix will be removed in a future version. Use .values instead.\n",
            "/usr/local/lib/python3.6/dist-packages/ipykernel_launcher.py:39: FutureWarning: Method .as_matrix will be removed in a future version. Use .values instead.\n",
            "/usr/local/lib/python3.6/dist-packages/ipykernel_launcher.py:39: FutureWarning: Method .as_matrix will be removed in a future version. Use .values instead.\n"
          ],
          "name": "stderr"
        },
        {
          "output_type": "stream",
          "text": [
            "Epoch: 23, Batch: 10, Avg. Loss: 0.001119956411421299\n",
            "Epoch: 23, Batch: 20, Avg. Loss: 0.0016383663043379785\n",
            "Epoch: 23, Batch: 30, Avg. Loss: 0.001663535438477993\n",
            "Epoch: 23, Batch: 40, Avg. Loss: 0.0013810345605015754\n",
            "Epoch: 23, Batch: 50, Avg. Loss: 0.0014356734678149224\n",
            "Epoch: 23, Batch: 60, Avg. Loss: 0.001997854918241501\n",
            "Epoch: 23, Batch: 70, Avg. Loss: 0.00162882399559021\n",
            "Epoch: 23, Batch: 80, Avg. Loss: 0.0014420638307929038\n",
            "Epoch: 23, Batch: 90, Avg. Loss: 0.001479719027876854\n",
            "Epoch: 23, Batch: 100, Avg. Loss: 0.001372055560350418\n",
            "Epoch: 23, Batch: 110, Avg. Loss: 0.0018039760403335094\n",
            "Epoch: 23, Batch: 120, Avg. Loss: 0.001240288533270359\n",
            "Epoch: 23, Batch: 130, Avg. Loss: 0.0012697148323059081\n",
            "Epoch: 23, Batch: 140, Avg. Loss: 0.0016256475821137429\n",
            "Epoch: 23, Batch: 150, Avg. Loss: 0.00119710947945714\n",
            "Epoch: 23, Batch: 160, Avg. Loss: 0.0013745728656649589\n",
            "Epoch: 23, Batch: 170, Avg. Loss: 0.0012268816828727722\n",
            "Epoch: 23, Batch: 180, Avg. Loss: 0.0018684324845671654\n",
            "Epoch: 23, Batch: 190, Avg. Loss: 0.001513645738363266\n",
            "Epoch: 23, Batch: 200, Avg. Loss: 0.0015103686451911926\n",
            "Epoch: 23, Batch: 210, Avg. Loss: 0.0012290767058730126\n",
            "Epoch: 23, Batch: 220, Avg. Loss: 0.0016943439729511737\n",
            "Epoch: 23, Batch: 230, Avg. Loss: 0.0019426820948719979\n",
            "Epoch: 23, Batch: 240, Avg. Loss: 0.0015839179381728172\n",
            "Epoch: 23, Batch: 250, Avg. Loss: 0.0012365917898714543\n",
            "Epoch: 23, Batch: 260, Avg. Loss: 0.001351631224155426\n",
            "Epoch: 23, Batch: 270, Avg. Loss: 0.001826424904167652\n",
            "Epoch: 23, Batch: 280, Avg. Loss: 0.0013445204719901085\n",
            "Epoch: 23, Batch: 290, Avg. Loss: 0.0013528371676802635\n",
            "Epoch: 23, Batch: 300, Avg. Loss: 0.0014404447712004186\n",
            "Epoch: 23, Batch: 310, Avg. Loss: 0.001512692041695118\n",
            "Epoch: 23, Batch: 320, Avg. Loss: 0.0013088001981377603\n",
            "Epoch: 23, Batch: 330, Avg. Loss: 0.001229901060461998\n",
            "Epoch: 23, Batch: 340, Avg. Loss: 0.0012686254382133484\n"
          ],
          "name": "stdout"
        },
        {
          "output_type": "stream",
          "text": [
            "/usr/local/lib/python3.6/dist-packages/ipykernel_launcher.py:39: FutureWarning: Method .as_matrix will be removed in a future version. Use .values instead.\n",
            "/usr/local/lib/python3.6/dist-packages/ipykernel_launcher.py:39: FutureWarning: Method .as_matrix will be removed in a future version. Use .values instead.\n",
            "/usr/local/lib/python3.6/dist-packages/ipykernel_launcher.py:39: FutureWarning: Method .as_matrix will be removed in a future version. Use .values instead.\n",
            "/usr/local/lib/python3.6/dist-packages/ipykernel_launcher.py:39: FutureWarning: Method .as_matrix will be removed in a future version. Use .values instead.\n"
          ],
          "name": "stderr"
        },
        {
          "output_type": "stream",
          "text": [
            "Epoch: 24, Batch: 10, Avg. Loss: 0.0013241967856884003\n",
            "Epoch: 24, Batch: 20, Avg. Loss: 0.001122178580611944\n",
            "Epoch: 24, Batch: 30, Avg. Loss: 0.001300434947013855\n",
            "Epoch: 24, Batch: 40, Avg. Loss: 0.0017426682189106942\n",
            "Epoch: 24, Batch: 50, Avg. Loss: 0.0021905738934874536\n",
            "Epoch: 24, Batch: 60, Avg. Loss: 0.0016614915654063224\n",
            "Epoch: 24, Batch: 70, Avg. Loss: 0.0016179406195878984\n",
            "Epoch: 24, Batch: 80, Avg. Loss: 0.001222588650882244\n",
            "Epoch: 24, Batch: 90, Avg. Loss: 0.0016315536201000215\n",
            "Epoch: 24, Batch: 100, Avg. Loss: 0.001561123639345169\n",
            "Epoch: 24, Batch: 110, Avg. Loss: 0.0014304135516285895\n",
            "Epoch: 24, Batch: 120, Avg. Loss: 0.0013112147822976112\n",
            "Epoch: 24, Batch: 130, Avg. Loss: 0.0013396366909146308\n",
            "Epoch: 24, Batch: 140, Avg. Loss: 0.0011563310325145722\n",
            "Epoch: 24, Batch: 150, Avg. Loss: 0.0014623465910553932\n",
            "Epoch: 24, Batch: 160, Avg. Loss: 0.0014062020257115365\n",
            "Epoch: 24, Batch: 170, Avg. Loss: 0.00122776560485363\n",
            "Epoch: 24, Batch: 180, Avg. Loss: 0.0009312885254621505\n",
            "Epoch: 24, Batch: 190, Avg. Loss: 0.0016493774950504304\n",
            "Epoch: 24, Batch: 200, Avg. Loss: 0.001491352453827858\n",
            "Epoch: 24, Batch: 210, Avg. Loss: 0.0012416885942220688\n",
            "Epoch: 24, Batch: 220, Avg. Loss: 0.0012114799916744232\n",
            "Epoch: 24, Batch: 230, Avg. Loss: 0.0019917652904987335\n",
            "Epoch: 24, Batch: 240, Avg. Loss: 0.0013124044165015222\n",
            "Epoch: 24, Batch: 250, Avg. Loss: 0.0013204672783613204\n",
            "Epoch: 24, Batch: 260, Avg. Loss: 0.0014903777912259103\n",
            "Epoch: 24, Batch: 270, Avg. Loss: 0.0017180415391921998\n",
            "Epoch: 24, Batch: 280, Avg. Loss: 0.0015358967408537864\n",
            "Epoch: 24, Batch: 290, Avg. Loss: 0.0015468271598219872\n",
            "Epoch: 24, Batch: 300, Avg. Loss: 0.001447628103196621\n",
            "Epoch: 24, Batch: 310, Avg. Loss: 0.001649664506316185\n",
            "Epoch: 24, Batch: 320, Avg. Loss: 0.0014174765944480897\n",
            "Epoch: 24, Batch: 330, Avg. Loss: 0.0015065678879618645\n",
            "Epoch: 24, Batch: 340, Avg. Loss: 0.0010343765765428543\n"
          ],
          "name": "stdout"
        },
        {
          "output_type": "stream",
          "text": [
            "/usr/local/lib/python3.6/dist-packages/ipykernel_launcher.py:39: FutureWarning: Method .as_matrix will be removed in a future version. Use .values instead.\n",
            "/usr/local/lib/python3.6/dist-packages/ipykernel_launcher.py:39: FutureWarning: Method .as_matrix will be removed in a future version. Use .values instead.\n",
            "/usr/local/lib/python3.6/dist-packages/ipykernel_launcher.py:39: FutureWarning: Method .as_matrix will be removed in a future version. Use .values instead.\n",
            "/usr/local/lib/python3.6/dist-packages/ipykernel_launcher.py:39: FutureWarning: Method .as_matrix will be removed in a future version. Use .values instead.\n"
          ],
          "name": "stderr"
        },
        {
          "output_type": "stream",
          "text": [
            "Epoch: 25, Batch: 10, Avg. Loss: 0.0009060561358928681\n",
            "Epoch: 25, Batch: 20, Avg. Loss: 0.0012244389951229096\n",
            "Epoch: 25, Batch: 30, Avg. Loss: 0.001332108736038208\n",
            "Epoch: 25, Batch: 40, Avg. Loss: 0.0012699127942323685\n",
            "Epoch: 25, Batch: 50, Avg. Loss: 0.002235031448304653\n",
            "Epoch: 25, Batch: 60, Avg. Loss: 0.0011609939485788345\n",
            "Epoch: 25, Batch: 70, Avg. Loss: 0.0015365994870662689\n",
            "Epoch: 25, Batch: 80, Avg. Loss: 0.0010419004261493683\n",
            "Epoch: 25, Batch: 90, Avg. Loss: 0.001668458640575409\n",
            "Epoch: 25, Batch: 100, Avg. Loss: 0.0012938611283898353\n",
            "Epoch: 25, Batch: 110, Avg. Loss: 0.0011238629966974258\n",
            "Epoch: 25, Batch: 120, Avg. Loss: 0.0011833619251847268\n",
            "Epoch: 25, Batch: 130, Avg. Loss: 0.0014310247898101807\n",
            "Epoch: 25, Batch: 140, Avg. Loss: 0.0011413708627223968\n",
            "Epoch: 25, Batch: 150, Avg. Loss: 0.0012961242720484734\n",
            "Epoch: 25, Batch: 160, Avg. Loss: 0.0018283994495868683\n",
            "Epoch: 25, Batch: 170, Avg. Loss: 0.0015375865772366524\n",
            "Epoch: 25, Batch: 180, Avg. Loss: 0.0015688869506120683\n",
            "Epoch: 25, Batch: 190, Avg. Loss: 0.0012637448534369468\n",
            "Epoch: 25, Batch: 200, Avg. Loss: 0.0010811587870121003\n",
            "Epoch: 25, Batch: 210, Avg. Loss: 0.0013514750525355339\n",
            "Epoch: 25, Batch: 220, Avg. Loss: 0.0017296952083706856\n",
            "Epoch: 25, Batch: 230, Avg. Loss: 0.0015898053720593453\n",
            "Epoch: 25, Batch: 240, Avg. Loss: 0.0016051521226763726\n",
            "Epoch: 25, Batch: 250, Avg. Loss: 0.0012284325957298279\n",
            "Epoch: 25, Batch: 260, Avg. Loss: 0.0018782491311430932\n",
            "Epoch: 25, Batch: 270, Avg. Loss: 0.0012367516309022904\n",
            "Epoch: 25, Batch: 280, Avg. Loss: 0.0012962939515709876\n",
            "Epoch: 25, Batch: 290, Avg. Loss: 0.0013379663676023484\n",
            "Epoch: 25, Batch: 300, Avg. Loss: 0.001195097878575325\n",
            "Epoch: 25, Batch: 310, Avg. Loss: 0.0025989461317658426\n",
            "Epoch: 25, Batch: 320, Avg. Loss: 0.0015666664764285088\n",
            "Epoch: 25, Batch: 330, Avg. Loss: 0.0013747166618704796\n",
            "Epoch: 25, Batch: 340, Avg. Loss: 0.0013029885217547418\n"
          ],
          "name": "stdout"
        },
        {
          "output_type": "stream",
          "text": [
            "/usr/local/lib/python3.6/dist-packages/ipykernel_launcher.py:39: FutureWarning: Method .as_matrix will be removed in a future version. Use .values instead.\n",
            "/usr/local/lib/python3.6/dist-packages/ipykernel_launcher.py:39: FutureWarning: Method .as_matrix will be removed in a future version. Use .values instead.\n",
            "/usr/local/lib/python3.6/dist-packages/ipykernel_launcher.py:39: FutureWarning: Method .as_matrix will be removed in a future version. Use .values instead.\n",
            "/usr/local/lib/python3.6/dist-packages/ipykernel_launcher.py:39: FutureWarning: Method .as_matrix will be removed in a future version. Use .values instead.\n"
          ],
          "name": "stderr"
        },
        {
          "output_type": "stream",
          "text": [
            "Epoch: 26, Batch: 10, Avg. Loss: 0.001381819725036621\n",
            "Epoch: 26, Batch: 20, Avg. Loss: 0.0015049217864871024\n",
            "Epoch: 26, Batch: 30, Avg. Loss: 0.0013357537388801574\n",
            "Epoch: 26, Batch: 40, Avg. Loss: 0.001466085061430931\n",
            "Epoch: 26, Batch: 50, Avg. Loss: 0.0021550087183713914\n",
            "Epoch: 26, Batch: 60, Avg. Loss: 0.0018721018061041831\n",
            "Epoch: 26, Batch: 70, Avg. Loss: 0.0012334713339805603\n",
            "Epoch: 26, Batch: 80, Avg. Loss: 0.0010187429971992969\n",
            "Epoch: 26, Batch: 90, Avg. Loss: 0.0014989430159330368\n",
            "Epoch: 26, Batch: 100, Avg. Loss: 0.0018365156129002572\n",
            "Epoch: 26, Batch: 110, Avg. Loss: 0.0012268486618995666\n",
            "Epoch: 26, Batch: 120, Avg. Loss: 0.0011804908141493798\n",
            "Epoch: 26, Batch: 130, Avg. Loss: 0.0014384605959057808\n",
            "Epoch: 26, Batch: 140, Avg. Loss: 0.001132928416132927\n",
            "Epoch: 26, Batch: 150, Avg. Loss: 0.0017941154092550279\n",
            "Epoch: 26, Batch: 160, Avg. Loss: 0.0014366639629006385\n",
            "Epoch: 26, Batch: 170, Avg. Loss: 0.0014637423902750016\n",
            "Epoch: 26, Batch: 180, Avg. Loss: 0.0012916060164570808\n",
            "Epoch: 26, Batch: 190, Avg. Loss: 0.0012700669467449188\n",
            "Epoch: 26, Batch: 200, Avg. Loss: 0.0011127248778939247\n",
            "Epoch: 26, Batch: 210, Avg. Loss: 0.0013324110507965089\n",
            "Epoch: 26, Batch: 220, Avg. Loss: 0.0010685345530509949\n",
            "Epoch: 26, Batch: 230, Avg. Loss: 0.0013004016801714897\n",
            "Epoch: 26, Batch: 240, Avg. Loss: 0.0016678854525089264\n",
            "Epoch: 26, Batch: 250, Avg. Loss: 0.0012263567000627518\n",
            "Epoch: 26, Batch: 260, Avg. Loss: 0.0018947304934263229\n",
            "Epoch: 26, Batch: 270, Avg. Loss: 0.0013751137107610703\n",
            "Epoch: 26, Batch: 280, Avg. Loss: 0.001569878913462162\n",
            "Epoch: 26, Batch: 290, Avg. Loss: 0.0013264511600136757\n",
            "Epoch: 26, Batch: 300, Avg. Loss: 0.0021638823002576827\n",
            "Epoch: 26, Batch: 310, Avg. Loss: 0.0013676741868257523\n",
            "Epoch: 26, Batch: 320, Avg. Loss: 0.00135321706533432\n",
            "Epoch: 26, Batch: 330, Avg. Loss: 0.001891760066151619\n",
            "Epoch: 26, Batch: 340, Avg. Loss: 0.0011177350394427777\n"
          ],
          "name": "stdout"
        },
        {
          "output_type": "stream",
          "text": [
            "/usr/local/lib/python3.6/dist-packages/ipykernel_launcher.py:39: FutureWarning: Method .as_matrix will be removed in a future version. Use .values instead.\n",
            "/usr/local/lib/python3.6/dist-packages/ipykernel_launcher.py:39: FutureWarning: Method .as_matrix will be removed in a future version. Use .values instead.\n",
            "/usr/local/lib/python3.6/dist-packages/ipykernel_launcher.py:39: FutureWarning: Method .as_matrix will be removed in a future version. Use .values instead.\n",
            "/usr/local/lib/python3.6/dist-packages/ipykernel_launcher.py:39: FutureWarning: Method .as_matrix will be removed in a future version. Use .values instead.\n"
          ],
          "name": "stderr"
        },
        {
          "output_type": "stream",
          "text": [
            "Epoch: 27, Batch: 10, Avg. Loss: 0.0014434080943465232\n",
            "Epoch: 27, Batch: 20, Avg. Loss: 0.0012547799423336982\n",
            "Epoch: 27, Batch: 30, Avg. Loss: 0.0014775868579745292\n",
            "Epoch: 27, Batch: 40, Avg. Loss: 0.0019395162984728812\n",
            "Epoch: 27, Batch: 50, Avg. Loss: 0.0015247326344251632\n",
            "Epoch: 27, Batch: 60, Avg. Loss: 0.0018622880280017853\n",
            "Epoch: 27, Batch: 70, Avg. Loss: 0.0028026105761528013\n",
            "Epoch: 27, Batch: 80, Avg. Loss: 0.0012852802909910678\n",
            "Epoch: 27, Batch: 90, Avg. Loss: 0.003031212463974953\n",
            "Epoch: 27, Batch: 100, Avg. Loss: 0.0012663012444972992\n",
            "Epoch: 27, Batch: 110, Avg. Loss: 0.001305234484374523\n",
            "Epoch: 27, Batch: 120, Avg. Loss: 0.001401975430548191\n",
            "Epoch: 27, Batch: 130, Avg. Loss: 0.0013323252946138382\n",
            "Epoch: 27, Batch: 140, Avg. Loss: 0.0016614454537630082\n",
            "Epoch: 27, Batch: 150, Avg. Loss: 0.0015423808842897416\n",
            "Epoch: 27, Batch: 160, Avg. Loss: 0.00125907938554883\n",
            "Epoch: 27, Batch: 170, Avg. Loss: 0.001318963296711445\n",
            "Epoch: 27, Batch: 180, Avg. Loss: 0.0012905680909752846\n",
            "Epoch: 27, Batch: 190, Avg. Loss: 0.0019187856391072273\n",
            "Epoch: 27, Batch: 200, Avg. Loss: 0.0010354975461959839\n",
            "Epoch: 27, Batch: 210, Avg. Loss: 0.0014839848130941392\n",
            "Epoch: 27, Batch: 220, Avg. Loss: 0.001573430709540844\n",
            "Epoch: 27, Batch: 230, Avg. Loss: 0.001052962765097618\n",
            "Epoch: 27, Batch: 240, Avg. Loss: 0.001286673530936241\n",
            "Epoch: 27, Batch: 250, Avg. Loss: 0.0012132285311818123\n",
            "Epoch: 27, Batch: 260, Avg. Loss: 0.001618450529873371\n",
            "Epoch: 27, Batch: 270, Avg. Loss: 0.0013444112911820412\n",
            "Epoch: 27, Batch: 280, Avg. Loss: 0.001754590891301632\n",
            "Epoch: 27, Batch: 290, Avg. Loss: 0.0015423421189188957\n",
            "Epoch: 27, Batch: 300, Avg. Loss: 0.002072626180946827\n",
            "Epoch: 27, Batch: 310, Avg. Loss: 0.0016026113629341125\n",
            "Epoch: 27, Batch: 320, Avg. Loss: 0.0014026504084467888\n",
            "Epoch: 27, Batch: 330, Avg. Loss: 0.0012399776466190816\n",
            "Epoch: 27, Batch: 340, Avg. Loss: 0.0020707800686359406\n"
          ],
          "name": "stdout"
        },
        {
          "output_type": "stream",
          "text": [
            "/usr/local/lib/python3.6/dist-packages/ipykernel_launcher.py:39: FutureWarning: Method .as_matrix will be removed in a future version. Use .values instead.\n",
            "/usr/local/lib/python3.6/dist-packages/ipykernel_launcher.py:39: FutureWarning: Method .as_matrix will be removed in a future version. Use .values instead.\n",
            "/usr/local/lib/python3.6/dist-packages/ipykernel_launcher.py:39: FutureWarning: Method .as_matrix will be removed in a future version. Use .values instead.\n",
            "/usr/local/lib/python3.6/dist-packages/ipykernel_launcher.py:39: FutureWarning: Method .as_matrix will be removed in a future version. Use .values instead.\n"
          ],
          "name": "stderr"
        },
        {
          "output_type": "stream",
          "text": [
            "Epoch: 28, Batch: 10, Avg. Loss: 0.0014492894634604455\n",
            "Epoch: 28, Batch: 20, Avg. Loss: 0.001128600500524044\n",
            "Epoch: 28, Batch: 30, Avg. Loss: 0.0015671154260635375\n",
            "Epoch: 28, Batch: 40, Avg. Loss: 0.001284284468740225\n",
            "Epoch: 28, Batch: 50, Avg. Loss: 0.0012820834740996361\n",
            "Epoch: 28, Batch: 60, Avg. Loss: 0.0016635762453079224\n",
            "Epoch: 28, Batch: 70, Avg. Loss: 0.0013819914907217026\n",
            "Epoch: 28, Batch: 80, Avg. Loss: 0.0014194874316453933\n",
            "Epoch: 28, Batch: 90, Avg. Loss: 0.001422951340675354\n",
            "Epoch: 28, Batch: 100, Avg. Loss: 0.0016468496471643448\n",
            "Epoch: 28, Batch: 110, Avg. Loss: 0.001716565988957882\n",
            "Epoch: 28, Batch: 120, Avg. Loss: 0.0011589231714606285\n",
            "Epoch: 28, Batch: 130, Avg. Loss: 0.001758186936378479\n",
            "Epoch: 28, Batch: 140, Avg. Loss: 0.0012316161915659905\n",
            "Epoch: 28, Batch: 150, Avg. Loss: 0.0010970580838620663\n",
            "Epoch: 28, Batch: 160, Avg. Loss: 0.001503963939845562\n",
            "Epoch: 28, Batch: 170, Avg. Loss: 0.001417374063283205\n",
            "Epoch: 28, Batch: 180, Avg. Loss: 0.0013809404745697975\n",
            "Epoch: 28, Batch: 190, Avg. Loss: 0.0025076861158013345\n",
            "Epoch: 28, Batch: 200, Avg. Loss: 0.0011666033864021301\n",
            "Epoch: 28, Batch: 210, Avg. Loss: 0.0014024729505181313\n",
            "Epoch: 28, Batch: 220, Avg. Loss: 0.0012177728824317455\n",
            "Epoch: 28, Batch: 230, Avg. Loss: 0.0012797719612717628\n",
            "Epoch: 28, Batch: 240, Avg. Loss: 0.0012879230752587318\n",
            "Epoch: 28, Batch: 250, Avg. Loss: 0.002024880103766918\n",
            "Epoch: 28, Batch: 260, Avg. Loss: 0.0016654701307415962\n",
            "Epoch: 28, Batch: 270, Avg. Loss: 0.0015018911734223366\n",
            "Epoch: 28, Batch: 280, Avg. Loss: 0.0012880477979779243\n",
            "Epoch: 28, Batch: 290, Avg. Loss: 0.001198251560330391\n",
            "Epoch: 28, Batch: 300, Avg. Loss: 0.001534710891544819\n",
            "Epoch: 28, Batch: 310, Avg. Loss: 0.0012151739597320557\n",
            "Epoch: 28, Batch: 320, Avg. Loss: 0.0013405313417315483\n",
            "Epoch: 28, Batch: 330, Avg. Loss: 0.00151898330450058\n",
            "Epoch: 28, Batch: 340, Avg. Loss: 0.001341437578201294\n"
          ],
          "name": "stdout"
        },
        {
          "output_type": "stream",
          "text": [
            "/usr/local/lib/python3.6/dist-packages/ipykernel_launcher.py:39: FutureWarning: Method .as_matrix will be removed in a future version. Use .values instead.\n",
            "/usr/local/lib/python3.6/dist-packages/ipykernel_launcher.py:39: FutureWarning: Method .as_matrix will be removed in a future version. Use .values instead.\n",
            "/usr/local/lib/python3.6/dist-packages/ipykernel_launcher.py:39: FutureWarning: Method .as_matrix will be removed in a future version. Use .values instead.\n",
            "/usr/local/lib/python3.6/dist-packages/ipykernel_launcher.py:39: FutureWarning: Method .as_matrix will be removed in a future version. Use .values instead.\n"
          ],
          "name": "stderr"
        },
        {
          "output_type": "stream",
          "text": [
            "Epoch: 29, Batch: 10, Avg. Loss: 0.001355020895600319\n",
            "Epoch: 29, Batch: 20, Avg. Loss: 0.0013627825826406479\n",
            "Epoch: 29, Batch: 30, Avg. Loss: 0.0012864226922392845\n",
            "Epoch: 29, Batch: 40, Avg. Loss: 0.0014253669269382954\n",
            "Epoch: 29, Batch: 50, Avg. Loss: 0.0014381454586982728\n",
            "Epoch: 29, Batch: 60, Avg. Loss: 0.001735506407916546\n",
            "Epoch: 29, Batch: 70, Avg. Loss: 0.0011745042204856873\n",
            "Epoch: 29, Batch: 80, Avg. Loss: 0.0010948110222816468\n",
            "Epoch: 29, Batch: 90, Avg. Loss: 0.001449732504785061\n",
            "Epoch: 29, Batch: 100, Avg. Loss: 0.001618779495358467\n",
            "Epoch: 29, Batch: 110, Avg. Loss: 0.0010342453084886073\n",
            "Epoch: 29, Batch: 120, Avg. Loss: 0.0013660456091165543\n",
            "Epoch: 29, Batch: 130, Avg. Loss: 0.0010551577359437943\n",
            "Epoch: 29, Batch: 140, Avg. Loss: 0.001586710460484028\n",
            "Epoch: 29, Batch: 150, Avg. Loss: 0.0009857363365590572\n",
            "Epoch: 29, Batch: 160, Avg. Loss: 0.001327883180230856\n",
            "Epoch: 29, Batch: 170, Avg. Loss: 0.0017422190830111504\n",
            "Epoch: 29, Batch: 180, Avg. Loss: 0.0015239562653005124\n",
            "Epoch: 29, Batch: 190, Avg. Loss: 0.0024686444997787478\n",
            "Epoch: 29, Batch: 200, Avg. Loss: 0.0009436002448201179\n",
            "Epoch: 29, Batch: 210, Avg. Loss: 0.0012716092765331268\n",
            "Epoch: 29, Batch: 220, Avg. Loss: 0.0015008033141493797\n",
            "Epoch: 29, Batch: 230, Avg. Loss: 0.0016347640231251716\n",
            "Epoch: 29, Batch: 240, Avg. Loss: 0.003101210743188858\n",
            "Epoch: 29, Batch: 250, Avg. Loss: 0.001565208077430725\n",
            "Epoch: 29, Batch: 260, Avg. Loss: 0.0014613182991743087\n",
            "Epoch: 29, Batch: 270, Avg. Loss: 0.0020236536748707294\n",
            "Epoch: 29, Batch: 280, Avg. Loss: 0.0011870242953300476\n",
            "Epoch: 29, Batch: 290, Avg. Loss: 0.001590637929737568\n",
            "Epoch: 29, Batch: 300, Avg. Loss: 0.0014590210914611817\n",
            "Epoch: 29, Batch: 310, Avg. Loss: 0.0011581810787320136\n",
            "Epoch: 29, Batch: 320, Avg. Loss: 0.0016813220754265785\n",
            "Epoch: 29, Batch: 330, Avg. Loss: 0.001881403513252735\n",
            "Epoch: 29, Batch: 340, Avg. Loss: 0.0011328276321291924\n"
          ],
          "name": "stdout"
        },
        {
          "output_type": "stream",
          "text": [
            "/usr/local/lib/python3.6/dist-packages/ipykernel_launcher.py:39: FutureWarning: Method .as_matrix will be removed in a future version. Use .values instead.\n",
            "/usr/local/lib/python3.6/dist-packages/ipykernel_launcher.py:39: FutureWarning: Method .as_matrix will be removed in a future version. Use .values instead.\n",
            "/usr/local/lib/python3.6/dist-packages/ipykernel_launcher.py:39: FutureWarning: Method .as_matrix will be removed in a future version. Use .values instead.\n",
            "/usr/local/lib/python3.6/dist-packages/ipykernel_launcher.py:39: FutureWarning: Method .as_matrix will be removed in a future version. Use .values instead.\n"
          ],
          "name": "stderr"
        },
        {
          "output_type": "stream",
          "text": [
            "Epoch: 30, Batch: 10, Avg. Loss: 0.001917152337729931\n",
            "Epoch: 30, Batch: 20, Avg. Loss: 0.000990837723016739\n",
            "Epoch: 30, Batch: 30, Avg. Loss: 0.001326906144618988\n",
            "Epoch: 30, Batch: 40, Avg. Loss: 0.001765900693833828\n",
            "Epoch: 30, Batch: 50, Avg. Loss: 0.0015104104056954384\n",
            "Epoch: 30, Batch: 60, Avg. Loss: 0.0014615667909383774\n",
            "Epoch: 30, Batch: 70, Avg. Loss: 0.0015011024996638299\n",
            "Epoch: 30, Batch: 80, Avg. Loss: 0.0013413952961564065\n",
            "Epoch: 30, Batch: 90, Avg. Loss: 0.0013521909452974797\n",
            "Epoch: 30, Batch: 100, Avg. Loss: 0.0013199561238288878\n",
            "Epoch: 30, Batch: 110, Avg. Loss: 0.001284298799932003\n",
            "Epoch: 30, Batch: 120, Avg. Loss: 0.0014691712409257889\n",
            "Epoch: 30, Batch: 130, Avg. Loss: 0.0014562000036239624\n",
            "Epoch: 30, Batch: 140, Avg. Loss: 0.0017105568572878837\n",
            "Epoch: 30, Batch: 150, Avg. Loss: 0.0015221122168004512\n",
            "Epoch: 30, Batch: 160, Avg. Loss: 0.0013153206631541252\n",
            "Epoch: 30, Batch: 170, Avg. Loss: 0.001279259592294693\n",
            "Epoch: 30, Batch: 180, Avg. Loss: 0.0013503600805997848\n",
            "Epoch: 30, Batch: 190, Avg. Loss: 0.0015844125524163246\n",
            "Epoch: 30, Batch: 200, Avg. Loss: 0.001474593549966812\n",
            "Epoch: 30, Batch: 210, Avg. Loss: 0.0012357378751039504\n",
            "Epoch: 30, Batch: 220, Avg. Loss: 0.001225088808685541\n",
            "Epoch: 30, Batch: 230, Avg. Loss: 0.0011807020083069802\n",
            "Epoch: 30, Batch: 240, Avg. Loss: 0.0011868445500731468\n",
            "Epoch: 30, Batch: 250, Avg. Loss: 0.0012726982980966568\n",
            "Epoch: 30, Batch: 260, Avg. Loss: 0.0012953166402876377\n",
            "Epoch: 30, Batch: 270, Avg. Loss: 0.0019468316733837127\n",
            "Epoch: 30, Batch: 280, Avg. Loss: 0.001263798974454403\n",
            "Epoch: 30, Batch: 290, Avg. Loss: 0.001316354751586914\n",
            "Epoch: 30, Batch: 300, Avg. Loss: 0.0014732730835676194\n",
            "Epoch: 30, Batch: 310, Avg. Loss: 0.001213495571166277\n",
            "Epoch: 30, Batch: 320, Avg. Loss: 0.0016977300345897674\n",
            "Epoch: 30, Batch: 330, Avg. Loss: 0.0019164475649595262\n",
            "Epoch: 30, Batch: 340, Avg. Loss: 0.0018284088000655174\n"
          ],
          "name": "stdout"
        },
        {
          "output_type": "stream",
          "text": [
            "/usr/local/lib/python3.6/dist-packages/ipykernel_launcher.py:39: FutureWarning: Method .as_matrix will be removed in a future version. Use .values instead.\n",
            "/usr/local/lib/python3.6/dist-packages/ipykernel_launcher.py:39: FutureWarning: Method .as_matrix will be removed in a future version. Use .values instead.\n",
            "/usr/local/lib/python3.6/dist-packages/ipykernel_launcher.py:39: FutureWarning: Method .as_matrix will be removed in a future version. Use .values instead.\n",
            "/usr/local/lib/python3.6/dist-packages/ipykernel_launcher.py:39: FutureWarning: Method .as_matrix will be removed in a future version. Use .values instead.\n"
          ],
          "name": "stderr"
        },
        {
          "output_type": "stream",
          "text": [
            "Epoch: 31, Batch: 10, Avg. Loss: 0.0012153397798538208\n",
            "Epoch: 31, Batch: 20, Avg. Loss: 0.0015197739899158477\n",
            "Epoch: 31, Batch: 30, Avg. Loss: 0.0013930554315447806\n",
            "Epoch: 31, Batch: 40, Avg. Loss: 0.0014373440891504287\n",
            "Epoch: 31, Batch: 50, Avg. Loss: 0.0013140510767698289\n",
            "Epoch: 31, Batch: 60, Avg. Loss: 0.0013922504559159279\n",
            "Epoch: 31, Batch: 70, Avg. Loss: 0.0012266390286386013\n",
            "Epoch: 31, Batch: 80, Avg. Loss: 0.0012399763762950898\n",
            "Epoch: 31, Batch: 90, Avg. Loss: 0.0029399082846939565\n",
            "Epoch: 31, Batch: 100, Avg. Loss: 0.0012210932672023773\n",
            "Epoch: 31, Batch: 110, Avg. Loss: 0.0011455336473882199\n",
            "Epoch: 31, Batch: 120, Avg. Loss: 0.0013514294251799584\n",
            "Epoch: 31, Batch: 130, Avg. Loss: 0.001439103089272976\n",
            "Epoch: 31, Batch: 140, Avg. Loss: 0.0011782088987529278\n",
            "Epoch: 31, Batch: 150, Avg. Loss: 0.0012859806269407271\n",
            "Epoch: 31, Batch: 160, Avg. Loss: 0.001522936873137951\n",
            "Epoch: 31, Batch: 170, Avg. Loss: 0.0012851216197013854\n",
            "Epoch: 31, Batch: 180, Avg. Loss: 0.0023393827453255652\n",
            "Epoch: 31, Batch: 190, Avg. Loss: 0.0015995211973786354\n",
            "Epoch: 31, Batch: 200, Avg. Loss: 0.0012882191315293312\n",
            "Epoch: 31, Batch: 210, Avg. Loss: 0.0015567080006003379\n",
            "Epoch: 31, Batch: 220, Avg. Loss: 0.0014435623735189439\n",
            "Epoch: 31, Batch: 230, Avg. Loss: 0.001521881215274334\n",
            "Epoch: 31, Batch: 240, Avg. Loss: 0.0016430921629071236\n",
            "Epoch: 31, Batch: 250, Avg. Loss: 0.0011914962232112884\n",
            "Epoch: 31, Batch: 260, Avg. Loss: 0.0016512604281306268\n",
            "Epoch: 31, Batch: 270, Avg. Loss: 0.0015198613479733467\n",
            "Epoch: 31, Batch: 280, Avg. Loss: 0.0014598868191242219\n",
            "Epoch: 31, Batch: 290, Avg. Loss: 0.001404638573527336\n",
            "Epoch: 31, Batch: 300, Avg. Loss: 0.0014423013031482697\n",
            "Epoch: 31, Batch: 310, Avg. Loss: 0.0012001921497285365\n",
            "Epoch: 31, Batch: 320, Avg. Loss: 0.0013502430319786071\n",
            "Epoch: 31, Batch: 330, Avg. Loss: 0.0013725192621350287\n",
            "Epoch: 31, Batch: 340, Avg. Loss: 0.0010951907746493815\n"
          ],
          "name": "stdout"
        },
        {
          "output_type": "stream",
          "text": [
            "/usr/local/lib/python3.6/dist-packages/ipykernel_launcher.py:39: FutureWarning: Method .as_matrix will be removed in a future version. Use .values instead.\n",
            "/usr/local/lib/python3.6/dist-packages/ipykernel_launcher.py:39: FutureWarning: Method .as_matrix will be removed in a future version. Use .values instead.\n",
            "/usr/local/lib/python3.6/dist-packages/ipykernel_launcher.py:39: FutureWarning: Method .as_matrix will be removed in a future version. Use .values instead.\n",
            "/usr/local/lib/python3.6/dist-packages/ipykernel_launcher.py:39: FutureWarning: Method .as_matrix will be removed in a future version. Use .values instead.\n"
          ],
          "name": "stderr"
        },
        {
          "output_type": "stream",
          "text": [
            "Epoch: 32, Batch: 10, Avg. Loss: 0.0013919062167406081\n",
            "Epoch: 32, Batch: 20, Avg. Loss: 0.0026706300899386405\n",
            "Epoch: 32, Batch: 30, Avg. Loss: 0.0017215484753251077\n",
            "Epoch: 32, Batch: 40, Avg. Loss: 0.0013698048070073128\n",
            "Epoch: 32, Batch: 50, Avg. Loss: 0.0015931341275572776\n",
            "Epoch: 32, Batch: 60, Avg. Loss: 0.0009612352102994919\n",
            "Epoch: 32, Batch: 70, Avg. Loss: 0.0010970103368163108\n",
            "Epoch: 32, Batch: 80, Avg. Loss: 0.001661379247903824\n",
            "Epoch: 32, Batch: 90, Avg. Loss: 0.0012265385910868645\n",
            "Epoch: 32, Batch: 100, Avg. Loss: 0.0011928145289421082\n",
            "Epoch: 32, Batch: 110, Avg. Loss: 0.0011743751615285872\n",
            "Epoch: 32, Batch: 120, Avg. Loss: 0.0015290841236710547\n",
            "Epoch: 32, Batch: 130, Avg. Loss: 0.0015492552965879441\n",
            "Epoch: 32, Batch: 140, Avg. Loss: 0.0013850753121078013\n",
            "Epoch: 32, Batch: 150, Avg. Loss: 0.00139132197573781\n",
            "Epoch: 32, Batch: 160, Avg. Loss: 0.0014690466076135635\n",
            "Epoch: 32, Batch: 170, Avg. Loss: 0.0013549862876534463\n",
            "Epoch: 32, Batch: 180, Avg. Loss: 0.0011379160135984421\n",
            "Epoch: 32, Batch: 190, Avg. Loss: 0.0016034359335899352\n",
            "Epoch: 32, Batch: 200, Avg. Loss: 0.0018949618190526962\n",
            "Epoch: 32, Batch: 210, Avg. Loss: 0.0013795054852962494\n",
            "Epoch: 32, Batch: 220, Avg. Loss: 0.0012228904142975807\n",
            "Epoch: 32, Batch: 230, Avg. Loss: 0.001367163486778736\n",
            "Epoch: 32, Batch: 240, Avg. Loss: 0.001379594050347805\n",
            "Epoch: 32, Batch: 250, Avg. Loss: 0.0010917220786213874\n",
            "Epoch: 32, Batch: 260, Avg. Loss: 0.001276399940252304\n",
            "Epoch: 32, Batch: 270, Avg. Loss: 0.001255131796002388\n",
            "Epoch: 32, Batch: 280, Avg. Loss: 0.0013045576810836793\n",
            "Epoch: 32, Batch: 290, Avg. Loss: 0.0012809958346188068\n",
            "Epoch: 32, Batch: 300, Avg. Loss: 0.001093671940267086\n",
            "Epoch: 32, Batch: 310, Avg. Loss: 0.001994590923190117\n",
            "Epoch: 32, Batch: 320, Avg. Loss: 0.0016183637976646423\n",
            "Epoch: 32, Batch: 330, Avg. Loss: 0.0017191922217607498\n",
            "Epoch: 32, Batch: 340, Avg. Loss: 0.002016417805105448\n"
          ],
          "name": "stdout"
        },
        {
          "output_type": "stream",
          "text": [
            "/usr/local/lib/python3.6/dist-packages/ipykernel_launcher.py:39: FutureWarning: Method .as_matrix will be removed in a future version. Use .values instead.\n",
            "/usr/local/lib/python3.6/dist-packages/ipykernel_launcher.py:39: FutureWarning: Method .as_matrix will be removed in a future version. Use .values instead.\n",
            "/usr/local/lib/python3.6/dist-packages/ipykernel_launcher.py:39: FutureWarning: Method .as_matrix will be removed in a future version. Use .values instead.\n",
            "/usr/local/lib/python3.6/dist-packages/ipykernel_launcher.py:39: FutureWarning: Method .as_matrix will be removed in a future version. Use .values instead.\n"
          ],
          "name": "stderr"
        },
        {
          "output_type": "stream",
          "text": [
            "Epoch: 33, Batch: 10, Avg. Loss: 0.0011943656913936138\n",
            "Epoch: 33, Batch: 20, Avg. Loss: 0.0016319037973880769\n",
            "Epoch: 33, Batch: 30, Avg. Loss: 0.0022975070774555206\n",
            "Epoch: 33, Batch: 40, Avg. Loss: 0.0019271366521716117\n",
            "Epoch: 33, Batch: 50, Avg. Loss: 0.0015824558213353157\n",
            "Epoch: 33, Batch: 60, Avg. Loss: 0.001234300758689642\n",
            "Epoch: 33, Batch: 70, Avg. Loss: 0.0010877207666635514\n",
            "Epoch: 33, Batch: 80, Avg. Loss: 0.001148241676390171\n",
            "Epoch: 33, Batch: 90, Avg. Loss: 0.001597503125667572\n",
            "Epoch: 33, Batch: 100, Avg. Loss: 0.0012249515727162361\n",
            "Epoch: 33, Batch: 110, Avg. Loss: 0.0017932943142950535\n",
            "Epoch: 33, Batch: 120, Avg. Loss: 0.0012129900306463242\n",
            "Epoch: 33, Batch: 130, Avg. Loss: 0.00154219701141119\n",
            "Epoch: 33, Batch: 140, Avg. Loss: 0.0012332584708929061\n",
            "Epoch: 33, Batch: 150, Avg. Loss: 0.0011682750359177589\n",
            "Epoch: 33, Batch: 160, Avg. Loss: 0.001242560401558876\n",
            "Epoch: 33, Batch: 170, Avg. Loss: 0.0014397798031568526\n",
            "Epoch: 33, Batch: 180, Avg. Loss: 0.00130026975274086\n",
            "Epoch: 33, Batch: 190, Avg. Loss: 0.0012571046017110347\n",
            "Epoch: 33, Batch: 200, Avg. Loss: 0.001344652719795704\n",
            "Epoch: 33, Batch: 210, Avg. Loss: 0.001199742142111063\n",
            "Epoch: 33, Batch: 220, Avg. Loss: 0.0016160681657493114\n",
            "Epoch: 33, Batch: 230, Avg. Loss: 0.0013850534558296204\n",
            "Epoch: 33, Batch: 240, Avg. Loss: 0.0018508398160338403\n",
            "Epoch: 33, Batch: 250, Avg. Loss: 0.0008768761903047562\n",
            "Epoch: 33, Batch: 260, Avg. Loss: 0.0014625045284628868\n",
            "Epoch: 33, Batch: 270, Avg. Loss: 0.0014285701029002667\n",
            "Epoch: 33, Batch: 280, Avg. Loss: 0.0013368433713912963\n",
            "Epoch: 33, Batch: 290, Avg. Loss: 0.0012042144611477852\n",
            "Epoch: 33, Batch: 300, Avg. Loss: 0.0012128445133566855\n",
            "Epoch: 33, Batch: 310, Avg. Loss: 0.0011765814274549485\n",
            "Epoch: 33, Batch: 320, Avg. Loss: 0.0011196466200053693\n",
            "Epoch: 33, Batch: 330, Avg. Loss: 0.0011145847924053669\n",
            "Epoch: 33, Batch: 340, Avg. Loss: 0.0011984159201383592\n"
          ],
          "name": "stdout"
        },
        {
          "output_type": "stream",
          "text": [
            "/usr/local/lib/python3.6/dist-packages/ipykernel_launcher.py:39: FutureWarning: Method .as_matrix will be removed in a future version. Use .values instead.\n",
            "/usr/local/lib/python3.6/dist-packages/ipykernel_launcher.py:39: FutureWarning: Method .as_matrix will be removed in a future version. Use .values instead.\n",
            "/usr/local/lib/python3.6/dist-packages/ipykernel_launcher.py:39: FutureWarning: Method .as_matrix will be removed in a future version. Use .values instead.\n",
            "/usr/local/lib/python3.6/dist-packages/ipykernel_launcher.py:39: FutureWarning: Method .as_matrix will be removed in a future version. Use .values instead.\n"
          ],
          "name": "stderr"
        },
        {
          "output_type": "stream",
          "text": [
            "Epoch: 34, Batch: 10, Avg. Loss: 0.0013619609251618386\n",
            "Epoch: 34, Batch: 20, Avg. Loss: 0.0011104399636387824\n",
            "Epoch: 34, Batch: 30, Avg. Loss: 0.0013083127513527871\n",
            "Epoch: 34, Batch: 40, Avg. Loss: 0.0013349881134927272\n",
            "Epoch: 34, Batch: 50, Avg. Loss: 0.0018491706252098084\n",
            "Epoch: 34, Batch: 60, Avg. Loss: 0.0011940474286675454\n",
            "Epoch: 34, Batch: 70, Avg. Loss: 0.0015601996332406999\n",
            "Epoch: 34, Batch: 80, Avg. Loss: 0.001756395310163498\n",
            "Epoch: 34, Batch: 90, Avg. Loss: 0.0016589394882321358\n",
            "Epoch: 34, Batch: 100, Avg. Loss: 0.0014525827243924141\n",
            "Epoch: 34, Batch: 110, Avg. Loss: 0.0013581258803606034\n",
            "Epoch: 34, Batch: 120, Avg. Loss: 0.0010687912106513977\n",
            "Epoch: 34, Batch: 130, Avg. Loss: 0.0011031914725899697\n",
            "Epoch: 34, Batch: 140, Avg. Loss: 0.001015492994338274\n",
            "Epoch: 34, Batch: 150, Avg. Loss: 0.001308308705687523\n",
            "Epoch: 34, Batch: 160, Avg. Loss: 0.0014776867851614953\n",
            "Epoch: 34, Batch: 170, Avg. Loss: 0.0013504167050123214\n",
            "Epoch: 34, Batch: 180, Avg. Loss: 0.0026288478299975396\n",
            "Epoch: 34, Batch: 190, Avg. Loss: 0.001221526674926281\n",
            "Epoch: 34, Batch: 200, Avg. Loss: 0.001323969278484583\n",
            "Epoch: 34, Batch: 210, Avg. Loss: 0.0011981230229139328\n",
            "Epoch: 34, Batch: 220, Avg. Loss: 0.0012759856581687928\n",
            "Epoch: 34, Batch: 230, Avg. Loss: 0.0015180588476359845\n",
            "Epoch: 34, Batch: 240, Avg. Loss: 0.002242115780711174\n",
            "Epoch: 34, Batch: 250, Avg. Loss: 0.0012307351864874363\n",
            "Epoch: 34, Batch: 260, Avg. Loss: 0.0013252913802862167\n",
            "Epoch: 34, Batch: 270, Avg. Loss: 0.0012978122755885125\n",
            "Epoch: 34, Batch: 280, Avg. Loss: 0.0011370410472154617\n",
            "Epoch: 34, Batch: 290, Avg. Loss: 0.0011045298650860787\n",
            "Epoch: 34, Batch: 300, Avg. Loss: 0.0015424514561891555\n",
            "Epoch: 34, Batch: 310, Avg. Loss: 0.001028256431221962\n",
            "Epoch: 34, Batch: 320, Avg. Loss: 0.001439310096204281\n",
            "Epoch: 34, Batch: 330, Avg. Loss: 0.0017817329317331315\n",
            "Epoch: 34, Batch: 340, Avg. Loss: 0.001543930158019066\n"
          ],
          "name": "stdout"
        },
        {
          "output_type": "stream",
          "text": [
            "/usr/local/lib/python3.6/dist-packages/ipykernel_launcher.py:39: FutureWarning: Method .as_matrix will be removed in a future version. Use .values instead.\n",
            "/usr/local/lib/python3.6/dist-packages/ipykernel_launcher.py:39: FutureWarning: Method .as_matrix will be removed in a future version. Use .values instead.\n",
            "/usr/local/lib/python3.6/dist-packages/ipykernel_launcher.py:39: FutureWarning: Method .as_matrix will be removed in a future version. Use .values instead.\n",
            "/usr/local/lib/python3.6/dist-packages/ipykernel_launcher.py:39: FutureWarning: Method .as_matrix will be removed in a future version. Use .values instead.\n"
          ],
          "name": "stderr"
        },
        {
          "output_type": "stream",
          "text": [
            "Epoch: 35, Batch: 10, Avg. Loss: 0.0017106646597385407\n",
            "Epoch: 35, Batch: 20, Avg. Loss: 0.0016988404020667077\n",
            "Epoch: 35, Batch: 30, Avg. Loss: 0.0018526694551110267\n",
            "Epoch: 35, Batch: 40, Avg. Loss: 0.0013354398235678672\n",
            "Epoch: 35, Batch: 50, Avg. Loss: 0.0014386611320078373\n",
            "Epoch: 35, Batch: 60, Avg. Loss: 0.0011617596745491028\n",
            "Epoch: 35, Batch: 70, Avg. Loss: 0.0017551329731941223\n",
            "Epoch: 35, Batch: 80, Avg. Loss: 0.0011880654841661454\n",
            "Epoch: 35, Batch: 90, Avg. Loss: 0.0019792234152555465\n",
            "Epoch: 35, Batch: 100, Avg. Loss: 0.0015245585888624192\n",
            "Epoch: 35, Batch: 110, Avg. Loss: 0.0015266620367765426\n",
            "Epoch: 35, Batch: 120, Avg. Loss: 0.0016186358779668808\n",
            "Epoch: 35, Batch: 130, Avg. Loss: 0.0019626285433769226\n",
            "Epoch: 35, Batch: 140, Avg. Loss: 0.0010156775005161762\n",
            "Epoch: 35, Batch: 150, Avg. Loss: 0.001396897502243519\n",
            "Epoch: 35, Batch: 160, Avg. Loss: 0.0010154990181326865\n",
            "Epoch: 35, Batch: 170, Avg. Loss: 0.0014548200815916062\n",
            "Epoch: 35, Batch: 180, Avg. Loss: 0.0012886928543448448\n",
            "Epoch: 35, Batch: 190, Avg. Loss: 0.0012847841009497644\n",
            "Epoch: 35, Batch: 200, Avg. Loss: 0.0010053493082523347\n",
            "Epoch: 35, Batch: 210, Avg. Loss: 0.002046910621225834\n",
            "Epoch: 35, Batch: 220, Avg. Loss: 0.0013954569511115552\n",
            "Epoch: 35, Batch: 230, Avg. Loss: 0.002110378846526146\n",
            "Epoch: 35, Batch: 240, Avg. Loss: 0.0021066961959004403\n",
            "Epoch: 35, Batch: 250, Avg. Loss: 0.0014141931682825088\n",
            "Epoch: 35, Batch: 260, Avg. Loss: 0.0011989755891263485\n",
            "Epoch: 35, Batch: 270, Avg. Loss: 0.00259644690528512\n",
            "Epoch: 35, Batch: 280, Avg. Loss: 0.0014978110864758492\n",
            "Epoch: 35, Batch: 290, Avg. Loss: 0.0010083448626101016\n",
            "Epoch: 35, Batch: 300, Avg. Loss: 0.0012647594213485718\n",
            "Epoch: 35, Batch: 310, Avg. Loss: 0.0014920836836099624\n",
            "Epoch: 35, Batch: 320, Avg. Loss: 0.0011556976065039634\n",
            "Epoch: 35, Batch: 330, Avg. Loss: 0.0011953086256980897\n",
            "Epoch: 35, Batch: 340, Avg. Loss: 0.0012391119301319122\n"
          ],
          "name": "stdout"
        },
        {
          "output_type": "stream",
          "text": [
            "/usr/local/lib/python3.6/dist-packages/ipykernel_launcher.py:39: FutureWarning: Method .as_matrix will be removed in a future version. Use .values instead.\n",
            "/usr/local/lib/python3.6/dist-packages/ipykernel_launcher.py:39: FutureWarning: Method .as_matrix will be removed in a future version. Use .values instead.\n",
            "/usr/local/lib/python3.6/dist-packages/ipykernel_launcher.py:39: FutureWarning: Method .as_matrix will be removed in a future version. Use .values instead.\n",
            "/usr/local/lib/python3.6/dist-packages/ipykernel_launcher.py:39: FutureWarning: Method .as_matrix will be removed in a future version. Use .values instead.\n"
          ],
          "name": "stderr"
        },
        {
          "output_type": "stream",
          "text": [
            "Epoch: 36, Batch: 10, Avg. Loss: 0.0013053669333457946\n",
            "Epoch: 36, Batch: 20, Avg. Loss: 0.0013315213695168494\n",
            "Epoch: 36, Batch: 30, Avg. Loss: 0.002105277106165886\n",
            "Epoch: 36, Batch: 40, Avg. Loss: 0.001592407301068306\n",
            "Epoch: 36, Batch: 50, Avg. Loss: 0.0015205261260271073\n",
            "Epoch: 36, Batch: 60, Avg. Loss: 0.0022897539138793947\n",
            "Epoch: 36, Batch: 70, Avg. Loss: 0.0013143943175673485\n",
            "Epoch: 36, Batch: 80, Avg. Loss: 0.0014813756644725799\n",
            "Epoch: 36, Batch: 90, Avg. Loss: 0.001403699539601803\n",
            "Epoch: 36, Batch: 100, Avg. Loss: 0.0012480787634849548\n",
            "Epoch: 36, Batch: 110, Avg. Loss: 0.001960822723805904\n",
            "Epoch: 36, Batch: 120, Avg. Loss: 0.0014040830098092556\n",
            "Epoch: 36, Batch: 130, Avg. Loss: 0.0010612309984862804\n",
            "Epoch: 36, Batch: 140, Avg. Loss: 0.0011743613258004188\n",
            "Epoch: 36, Batch: 150, Avg. Loss: 0.0014754744358360767\n",
            "Epoch: 36, Batch: 160, Avg. Loss: 0.0014193787276744843\n",
            "Epoch: 36, Batch: 170, Avg. Loss: 0.0015340181067585944\n",
            "Epoch: 36, Batch: 180, Avg. Loss: 0.0011931694522500037\n",
            "Epoch: 36, Batch: 190, Avg. Loss: 0.0010801047757267952\n",
            "Epoch: 36, Batch: 200, Avg. Loss: 0.0014162727594375611\n",
            "Epoch: 36, Batch: 210, Avg. Loss: 0.0012573445290327073\n",
            "Epoch: 36, Batch: 220, Avg. Loss: 0.0011488059461116792\n",
            "Epoch: 36, Batch: 230, Avg. Loss: 0.0011180045381188393\n",
            "Epoch: 36, Batch: 240, Avg. Loss: 0.0014659314602613448\n",
            "Epoch: 36, Batch: 250, Avg. Loss: 0.0010043774209916592\n",
            "Epoch: 36, Batch: 260, Avg. Loss: 0.0011419188007712364\n",
            "Epoch: 36, Batch: 270, Avg. Loss: 0.0009927473217248917\n",
            "Epoch: 36, Batch: 280, Avg. Loss: 0.0018265632539987565\n",
            "Epoch: 36, Batch: 290, Avg. Loss: 0.0012025918513536454\n",
            "Epoch: 36, Batch: 300, Avg. Loss: 0.001222082793712616\n",
            "Epoch: 36, Batch: 310, Avg. Loss: 0.0015002012699842453\n",
            "Epoch: 36, Batch: 320, Avg. Loss: 0.0011573745682835579\n",
            "Epoch: 36, Batch: 330, Avg. Loss: 0.001615508895367384\n",
            "Epoch: 36, Batch: 340, Avg. Loss: 0.0013010845705866813\n"
          ],
          "name": "stdout"
        },
        {
          "output_type": "stream",
          "text": [
            "/usr/local/lib/python3.6/dist-packages/ipykernel_launcher.py:39: FutureWarning: Method .as_matrix will be removed in a future version. Use .values instead.\n",
            "/usr/local/lib/python3.6/dist-packages/ipykernel_launcher.py:39: FutureWarning: Method .as_matrix will be removed in a future version. Use .values instead.\n",
            "/usr/local/lib/python3.6/dist-packages/ipykernel_launcher.py:39: FutureWarning: Method .as_matrix will be removed in a future version. Use .values instead.\n",
            "/usr/local/lib/python3.6/dist-packages/ipykernel_launcher.py:39: FutureWarning: Method .as_matrix will be removed in a future version. Use .values instead.\n"
          ],
          "name": "stderr"
        },
        {
          "output_type": "stream",
          "text": [
            "Epoch: 37, Batch: 10, Avg. Loss: 0.0015385345667600632\n",
            "Epoch: 37, Batch: 20, Avg. Loss: 0.0010447774752974511\n",
            "Epoch: 37, Batch: 30, Avg. Loss: 0.0009880324378609658\n",
            "Epoch: 37, Batch: 40, Avg. Loss: 0.0014914725050330163\n",
            "Epoch: 37, Batch: 50, Avg. Loss: 0.0021174999587237836\n",
            "Epoch: 37, Batch: 60, Avg. Loss: 0.0013901438675820827\n",
            "Epoch: 37, Batch: 70, Avg. Loss: 0.0012125074490904808\n",
            "Epoch: 37, Batch: 80, Avg. Loss: 0.0012228196114301682\n",
            "Epoch: 37, Batch: 90, Avg. Loss: 0.0014101559221744537\n",
            "Epoch: 37, Batch: 100, Avg. Loss: 0.0016200705394148827\n",
            "Epoch: 37, Batch: 110, Avg. Loss: 0.0014045555479824544\n",
            "Epoch: 37, Batch: 120, Avg. Loss: 0.0011903118528425695\n",
            "Epoch: 37, Batch: 130, Avg. Loss: 0.0014807884842157363\n",
            "Epoch: 37, Batch: 140, Avg. Loss: 0.001484570749104023\n",
            "Epoch: 37, Batch: 150, Avg. Loss: 0.001176719792187214\n",
            "Epoch: 37, Batch: 160, Avg. Loss: 0.0012916191145777702\n",
            "Epoch: 37, Batch: 170, Avg. Loss: 0.0014533972442150116\n",
            "Epoch: 37, Batch: 180, Avg. Loss: 0.0012545780912041665\n",
            "Epoch: 37, Batch: 190, Avg. Loss: 0.0017210091017186642\n",
            "Epoch: 37, Batch: 200, Avg. Loss: 0.0010882762633264065\n",
            "Epoch: 37, Batch: 210, Avg. Loss: 0.0014593379348516464\n",
            "Epoch: 37, Batch: 220, Avg. Loss: 0.0012327615022659302\n",
            "Epoch: 37, Batch: 230, Avg. Loss: 0.0012983388416469097\n",
            "Epoch: 37, Batch: 240, Avg. Loss: 0.0014329288378357888\n",
            "Epoch: 37, Batch: 250, Avg. Loss: 0.0013267379626631737\n",
            "Epoch: 37, Batch: 260, Avg. Loss: 0.0013748704493045808\n",
            "Epoch: 37, Batch: 270, Avg. Loss: 0.0014814291335642337\n",
            "Epoch: 37, Batch: 280, Avg. Loss: 0.0016197044998407363\n",
            "Epoch: 37, Batch: 290, Avg. Loss: 0.001234952375292778\n",
            "Epoch: 37, Batch: 300, Avg. Loss: 0.0014140380695462228\n",
            "Epoch: 37, Batch: 310, Avg. Loss: 0.0014042703658342362\n",
            "Epoch: 37, Batch: 320, Avg. Loss: 0.0012235757485032082\n",
            "Epoch: 37, Batch: 330, Avg. Loss: 0.0013984506502747536\n",
            "Epoch: 37, Batch: 340, Avg. Loss: 0.0015313391536474227\n"
          ],
          "name": "stdout"
        },
        {
          "output_type": "stream",
          "text": [
            "/usr/local/lib/python3.6/dist-packages/ipykernel_launcher.py:39: FutureWarning: Method .as_matrix will be removed in a future version. Use .values instead.\n",
            "/usr/local/lib/python3.6/dist-packages/ipykernel_launcher.py:39: FutureWarning: Method .as_matrix will be removed in a future version. Use .values instead.\n",
            "/usr/local/lib/python3.6/dist-packages/ipykernel_launcher.py:39: FutureWarning: Method .as_matrix will be removed in a future version. Use .values instead.\n",
            "/usr/local/lib/python3.6/dist-packages/ipykernel_launcher.py:39: FutureWarning: Method .as_matrix will be removed in a future version. Use .values instead.\n"
          ],
          "name": "stderr"
        },
        {
          "output_type": "stream",
          "text": [
            "Epoch: 38, Batch: 10, Avg. Loss: 0.0012176567539572715\n",
            "Epoch: 38, Batch: 20, Avg. Loss: 0.0013072497397661209\n",
            "Epoch: 38, Batch: 30, Avg. Loss: 0.0015873268470168113\n",
            "Epoch: 38, Batch: 40, Avg. Loss: 0.0011214156821370124\n",
            "Epoch: 38, Batch: 50, Avg. Loss: 0.001370347421616316\n",
            "Epoch: 38, Batch: 60, Avg. Loss: 0.001367359608411789\n",
            "Epoch: 38, Batch: 70, Avg. Loss: 0.0012845719642937184\n",
            "Epoch: 38, Batch: 80, Avg. Loss: 0.0012755640894174577\n",
            "Epoch: 38, Batch: 90, Avg. Loss: 0.0010305270478129388\n",
            "Epoch: 38, Batch: 100, Avg. Loss: 0.0012960757389664649\n",
            "Epoch: 38, Batch: 110, Avg. Loss: 0.0010233389846980572\n",
            "Epoch: 38, Batch: 120, Avg. Loss: 0.001150949738919735\n",
            "Epoch: 38, Batch: 130, Avg. Loss: 0.0011665495559573173\n",
            "Epoch: 38, Batch: 140, Avg. Loss: 0.0017035954967141152\n",
            "Epoch: 38, Batch: 150, Avg. Loss: 0.0012422778196632862\n",
            "Epoch: 38, Batch: 160, Avg. Loss: 0.0012453443333506585\n",
            "Epoch: 38, Batch: 170, Avg. Loss: 0.0012403567507863044\n",
            "Epoch: 38, Batch: 180, Avg. Loss: 0.0011971387192606926\n",
            "Epoch: 38, Batch: 190, Avg. Loss: 0.0014925197586417199\n",
            "Epoch: 38, Batch: 200, Avg. Loss: 0.0014781411364674568\n",
            "Epoch: 38, Batch: 210, Avg. Loss: 0.0011923027634620667\n",
            "Epoch: 38, Batch: 220, Avg. Loss: 0.0018949632681906224\n",
            "Epoch: 38, Batch: 230, Avg. Loss: 0.0013162337318062783\n",
            "Epoch: 38, Batch: 240, Avg. Loss: 0.0012936254814267158\n",
            "Epoch: 38, Batch: 250, Avg. Loss: 0.0012287589088082313\n",
            "Epoch: 38, Batch: 260, Avg. Loss: 0.001514660321176052\n",
            "Epoch: 38, Batch: 270, Avg. Loss: 0.0012872294150292874\n",
            "Epoch: 38, Batch: 280, Avg. Loss: 0.0013870525509119033\n",
            "Epoch: 38, Batch: 290, Avg. Loss: 0.0013190492242574692\n",
            "Epoch: 38, Batch: 300, Avg. Loss: 0.0014617742002010345\n",
            "Epoch: 38, Batch: 310, Avg. Loss: 0.0014509275630116463\n",
            "Epoch: 38, Batch: 320, Avg. Loss: 0.0011144421026110648\n",
            "Epoch: 38, Batch: 330, Avg. Loss: 0.0011700685359537601\n",
            "Epoch: 38, Batch: 340, Avg. Loss: 0.001351843886077404\n"
          ],
          "name": "stdout"
        },
        {
          "output_type": "stream",
          "text": [
            "/usr/local/lib/python3.6/dist-packages/ipykernel_launcher.py:39: FutureWarning: Method .as_matrix will be removed in a future version. Use .values instead.\n",
            "/usr/local/lib/python3.6/dist-packages/ipykernel_launcher.py:39: FutureWarning: Method .as_matrix will be removed in a future version. Use .values instead.\n",
            "/usr/local/lib/python3.6/dist-packages/ipykernel_launcher.py:39: FutureWarning: Method .as_matrix will be removed in a future version. Use .values instead.\n",
            "/usr/local/lib/python3.6/dist-packages/ipykernel_launcher.py:39: FutureWarning: Method .as_matrix will be removed in a future version. Use .values instead.\n"
          ],
          "name": "stderr"
        },
        {
          "output_type": "stream",
          "text": [
            "Epoch: 39, Batch: 10, Avg. Loss: 0.0014889687672257424\n",
            "Epoch: 39, Batch: 20, Avg. Loss: 0.0015908854752779008\n",
            "Epoch: 39, Batch: 30, Avg. Loss: 0.0013135588355362416\n",
            "Epoch: 39, Batch: 40, Avg. Loss: 0.0010142367705702781\n",
            "Epoch: 39, Batch: 50, Avg. Loss: 0.0013900007605552674\n",
            "Epoch: 39, Batch: 60, Avg. Loss: 0.0014756657779216766\n",
            "Epoch: 39, Batch: 70, Avg. Loss: 0.001342111125588417\n",
            "Epoch: 39, Batch: 80, Avg. Loss: 0.0012976006045937538\n",
            "Epoch: 39, Batch: 90, Avg. Loss: 0.0011861345916986466\n",
            "Epoch: 39, Batch: 100, Avg. Loss: 0.0018372363783419133\n",
            "Epoch: 39, Batch: 110, Avg. Loss: 0.0014217308275401592\n",
            "Epoch: 39, Batch: 120, Avg. Loss: 0.0012668308690190315\n",
            "Epoch: 39, Batch: 130, Avg. Loss: 0.0014082876853644848\n",
            "Epoch: 39, Batch: 140, Avg. Loss: 0.0011775385662913323\n",
            "Epoch: 39, Batch: 150, Avg. Loss: 0.001187934298068285\n",
            "Epoch: 39, Batch: 160, Avg. Loss: 0.0010364947840571404\n",
            "Epoch: 39, Batch: 170, Avg. Loss: 0.001461167648434639\n",
            "Epoch: 39, Batch: 180, Avg. Loss: 0.0009826242811977863\n",
            "Epoch: 39, Batch: 190, Avg. Loss: 0.0014274081811308861\n",
            "Epoch: 39, Batch: 200, Avg. Loss: 0.0010240367390215396\n",
            "Epoch: 39, Batch: 210, Avg. Loss: 0.0015405311360955239\n",
            "Epoch: 39, Batch: 220, Avg. Loss: 0.0014163736552000046\n",
            "Epoch: 39, Batch: 230, Avg. Loss: 0.0011030869409441948\n",
            "Epoch: 39, Batch: 240, Avg. Loss: 0.0013771665543317795\n",
            "Epoch: 39, Batch: 250, Avg. Loss: 0.001249797448515892\n",
            "Epoch: 39, Batch: 260, Avg. Loss: 0.0011683357954025268\n",
            "Epoch: 39, Batch: 270, Avg. Loss: 0.0016115865856409072\n",
            "Epoch: 39, Batch: 280, Avg. Loss: 0.0011028396636247634\n",
            "Epoch: 39, Batch: 290, Avg. Loss: 0.0023489081189036367\n",
            "Epoch: 39, Batch: 300, Avg. Loss: 0.0010833813324570656\n",
            "Epoch: 39, Batch: 310, Avg. Loss: 0.0017039951607584953\n",
            "Epoch: 39, Batch: 320, Avg. Loss: 0.0010957061648368836\n",
            "Epoch: 39, Batch: 330, Avg. Loss: 0.0014075185656547546\n",
            "Epoch: 39, Batch: 340, Avg. Loss: 0.001186044119298458\n"
          ],
          "name": "stdout"
        },
        {
          "output_type": "stream",
          "text": [
            "/usr/local/lib/python3.6/dist-packages/ipykernel_launcher.py:39: FutureWarning: Method .as_matrix will be removed in a future version. Use .values instead.\n",
            "/usr/local/lib/python3.6/dist-packages/ipykernel_launcher.py:39: FutureWarning: Method .as_matrix will be removed in a future version. Use .values instead.\n",
            "/usr/local/lib/python3.6/dist-packages/ipykernel_launcher.py:39: FutureWarning: Method .as_matrix will be removed in a future version. Use .values instead.\n",
            "/usr/local/lib/python3.6/dist-packages/ipykernel_launcher.py:39: FutureWarning: Method .as_matrix will be removed in a future version. Use .values instead.\n"
          ],
          "name": "stderr"
        },
        {
          "output_type": "stream",
          "text": [
            "Epoch: 40, Batch: 10, Avg. Loss: 0.0009075327329337596\n",
            "Epoch: 40, Batch: 20, Avg. Loss: 0.0010072305724024772\n",
            "Epoch: 40, Batch: 30, Avg. Loss: 0.0014810079596936703\n",
            "Epoch: 40, Batch: 40, Avg. Loss: 0.003200136337429285\n",
            "Epoch: 40, Batch: 50, Avg. Loss: 0.001266546055674553\n",
            "Epoch: 40, Batch: 60, Avg. Loss: 0.001758908323943615\n",
            "Epoch: 40, Batch: 70, Avg. Loss: 0.0013179629631340504\n",
            "Epoch: 40, Batch: 80, Avg. Loss: 0.002734625477343798\n",
            "Epoch: 40, Batch: 90, Avg. Loss: 0.001165954180061817\n",
            "Epoch: 40, Batch: 100, Avg. Loss: 0.0012315718457102775\n",
            "Epoch: 40, Batch: 110, Avg. Loss: 0.001846638523042202\n",
            "Epoch: 40, Batch: 120, Avg. Loss: 0.0014556619375944138\n",
            "Epoch: 40, Batch: 130, Avg. Loss: 0.0013841296546161174\n",
            "Epoch: 40, Batch: 140, Avg. Loss: 0.0010138833597302438\n",
            "Epoch: 40, Batch: 150, Avg. Loss: 0.0011474261730909348\n",
            "Epoch: 40, Batch: 160, Avg. Loss: 0.0011814288944005965\n",
            "Epoch: 40, Batch: 170, Avg. Loss: 0.0012315870895981788\n",
            "Epoch: 40, Batch: 180, Avg. Loss: 0.0012205193489789963\n",
            "Epoch: 40, Batch: 190, Avg. Loss: 0.001320283330976963\n",
            "Epoch: 40, Batch: 200, Avg. Loss: 0.0013098810762166976\n",
            "Epoch: 40, Batch: 210, Avg. Loss: 0.0012421428933739663\n",
            "Epoch: 40, Batch: 220, Avg. Loss: 0.00108014564961195\n",
            "Epoch: 40, Batch: 230, Avg. Loss: 0.0013388057500123977\n",
            "Epoch: 40, Batch: 240, Avg. Loss: 0.001044188603758812\n",
            "Epoch: 40, Batch: 250, Avg. Loss: 0.0012773655280470847\n",
            "Epoch: 40, Batch: 260, Avg. Loss: 0.0020574045702815057\n",
            "Epoch: 40, Batch: 270, Avg. Loss: 0.0013200613223016261\n",
            "Epoch: 40, Batch: 280, Avg. Loss: 0.0011723235473036766\n",
            "Epoch: 40, Batch: 290, Avg. Loss: 0.0013429187312722205\n",
            "Epoch: 40, Batch: 300, Avg. Loss: 0.0011860166937112807\n",
            "Epoch: 40, Batch: 310, Avg. Loss: 0.0017929069101810455\n",
            "Epoch: 40, Batch: 320, Avg. Loss: 0.00133831088244915\n",
            "Epoch: 40, Batch: 330, Avg. Loss: 0.0010582666471600532\n",
            "Epoch: 40, Batch: 340, Avg. Loss: 0.0015426282063126565\n"
          ],
          "name": "stdout"
        },
        {
          "output_type": "stream",
          "text": [
            "/usr/local/lib/python3.6/dist-packages/ipykernel_launcher.py:39: FutureWarning: Method .as_matrix will be removed in a future version. Use .values instead.\n",
            "/usr/local/lib/python3.6/dist-packages/ipykernel_launcher.py:39: FutureWarning: Method .as_matrix will be removed in a future version. Use .values instead.\n",
            "/usr/local/lib/python3.6/dist-packages/ipykernel_launcher.py:39: FutureWarning: Method .as_matrix will be removed in a future version. Use .values instead.\n",
            "/usr/local/lib/python3.6/dist-packages/ipykernel_launcher.py:39: FutureWarning: Method .as_matrix will be removed in a future version. Use .values instead.\n"
          ],
          "name": "stderr"
        },
        {
          "output_type": "stream",
          "text": [
            "Epoch: 41, Batch: 10, Avg. Loss: 0.0010610043928027152\n",
            "Epoch: 41, Batch: 20, Avg. Loss: 0.000875106230378151\n",
            "Epoch: 41, Batch: 30, Avg. Loss: 0.0014766503572463988\n",
            "Epoch: 41, Batch: 40, Avg. Loss: 0.0013112016469240188\n",
            "Epoch: 41, Batch: 50, Avg. Loss: 0.0019620042592287065\n",
            "Epoch: 41, Batch: 60, Avg. Loss: 0.0013982267379760742\n",
            "Epoch: 41, Batch: 70, Avg. Loss: 0.0011144152507185936\n",
            "Epoch: 41, Batch: 80, Avg. Loss: 0.00145598079636693\n",
            "Epoch: 41, Batch: 90, Avg. Loss: 0.0015000296458601951\n",
            "Epoch: 41, Batch: 100, Avg. Loss: 0.00125339625030756\n",
            "Epoch: 41, Batch: 110, Avg. Loss: 0.0015403122007846832\n",
            "Epoch: 41, Batch: 120, Avg. Loss: 0.0026383411437273024\n",
            "Epoch: 41, Batch: 130, Avg. Loss: 0.001135107606649399\n",
            "Epoch: 41, Batch: 140, Avg. Loss: 0.0015966716669499875\n",
            "Epoch: 41, Batch: 150, Avg. Loss: 0.0013038950227200986\n",
            "Epoch: 41, Batch: 160, Avg. Loss: 0.0029752384200692175\n",
            "Epoch: 41, Batch: 170, Avg. Loss: 0.001244742762297392\n",
            "Epoch: 41, Batch: 180, Avg. Loss: 0.0012799075767397881\n",
            "Epoch: 41, Batch: 190, Avg. Loss: 0.0013206688836216926\n",
            "Epoch: 41, Batch: 200, Avg. Loss: 0.0012764709666371345\n",
            "Epoch: 41, Batch: 210, Avg. Loss: 0.0010251232385635376\n",
            "Epoch: 41, Batch: 220, Avg. Loss: 0.0011693643368780612\n",
            "Epoch: 41, Batch: 230, Avg. Loss: 0.0010495087876915932\n",
            "Epoch: 41, Batch: 240, Avg. Loss: 0.0012618122175335883\n",
            "Epoch: 41, Batch: 250, Avg. Loss: 0.0010910255759954452\n",
            "Epoch: 41, Batch: 260, Avg. Loss: 0.0011599707305431366\n",
            "Epoch: 41, Batch: 270, Avg. Loss: 0.0011987560093402862\n",
            "Epoch: 41, Batch: 280, Avg. Loss: 0.001349821824580431\n",
            "Epoch: 41, Batch: 290, Avg. Loss: 0.002955749601125717\n",
            "Epoch: 41, Batch: 300, Avg. Loss: 0.0013169086948037147\n",
            "Epoch: 41, Batch: 310, Avg. Loss: 0.001243605986237526\n",
            "Epoch: 41, Batch: 320, Avg. Loss: 0.0014625445567071438\n",
            "Epoch: 41, Batch: 330, Avg. Loss: 0.0013861447945237159\n",
            "Epoch: 41, Batch: 340, Avg. Loss: 0.00146791473031044\n"
          ],
          "name": "stdout"
        },
        {
          "output_type": "stream",
          "text": [
            "/usr/local/lib/python3.6/dist-packages/ipykernel_launcher.py:39: FutureWarning: Method .as_matrix will be removed in a future version. Use .values instead.\n",
            "/usr/local/lib/python3.6/dist-packages/ipykernel_launcher.py:39: FutureWarning: Method .as_matrix will be removed in a future version. Use .values instead.\n",
            "/usr/local/lib/python3.6/dist-packages/ipykernel_launcher.py:39: FutureWarning: Method .as_matrix will be removed in a future version. Use .values instead.\n",
            "/usr/local/lib/python3.6/dist-packages/ipykernel_launcher.py:39: FutureWarning: Method .as_matrix will be removed in a future version. Use .values instead.\n"
          ],
          "name": "stderr"
        },
        {
          "output_type": "stream",
          "text": [
            "Epoch: 42, Batch: 10, Avg. Loss: 0.0013041188567876815\n",
            "Epoch: 42, Batch: 20, Avg. Loss: 0.0012996415868401527\n",
            "Epoch: 42, Batch: 30, Avg. Loss: 0.0015361178517341613\n",
            "Epoch: 42, Batch: 40, Avg. Loss: 0.0014137191399931908\n",
            "Epoch: 42, Batch: 50, Avg. Loss: 0.0014496806040406227\n",
            "Epoch: 42, Batch: 60, Avg. Loss: 0.0011926728822290898\n",
            "Epoch: 42, Batch: 70, Avg. Loss: 0.0011746035739779472\n",
            "Epoch: 42, Batch: 80, Avg. Loss: 0.0009456663355231285\n",
            "Epoch: 42, Batch: 90, Avg. Loss: 0.0015335320085287094\n",
            "Epoch: 42, Batch: 100, Avg. Loss: 0.0015122377164661885\n",
            "Epoch: 42, Batch: 110, Avg. Loss: 0.0013323553577065468\n",
            "Epoch: 42, Batch: 120, Avg. Loss: 0.0011403793096542358\n",
            "Epoch: 42, Batch: 130, Avg. Loss: 0.0011274315267801286\n",
            "Epoch: 42, Batch: 140, Avg. Loss: 0.0010908038094639778\n",
            "Epoch: 42, Batch: 150, Avg. Loss: 0.0017220047563314437\n",
            "Epoch: 42, Batch: 160, Avg. Loss: 0.0014078035205602646\n",
            "Epoch: 42, Batch: 170, Avg. Loss: 0.0011838130801916122\n",
            "Epoch: 42, Batch: 180, Avg. Loss: 0.0012457439117133618\n",
            "Epoch: 42, Batch: 190, Avg. Loss: 0.0016817778386175632\n",
            "Epoch: 42, Batch: 200, Avg. Loss: 0.0017134184911847114\n",
            "Epoch: 42, Batch: 210, Avg. Loss: 0.0010123787000775337\n",
            "Epoch: 42, Batch: 220, Avg. Loss: 0.0014483975693583488\n",
            "Epoch: 42, Batch: 230, Avg. Loss: 0.0011980782896280288\n",
            "Epoch: 42, Batch: 240, Avg. Loss: 0.0016942480728030205\n",
            "Epoch: 42, Batch: 250, Avg. Loss: 0.0025471695512533188\n",
            "Epoch: 42, Batch: 260, Avg. Loss: 0.0012459824159741402\n",
            "Epoch: 42, Batch: 270, Avg. Loss: 0.0019125723615288734\n",
            "Epoch: 42, Batch: 280, Avg. Loss: 0.001137128494679928\n",
            "Epoch: 42, Batch: 290, Avg. Loss: 0.0014002753645181655\n",
            "Epoch: 42, Batch: 300, Avg. Loss: 0.0014544132351875306\n",
            "Epoch: 42, Batch: 310, Avg. Loss: 0.001595736138522625\n",
            "Epoch: 42, Batch: 320, Avg. Loss: 0.0010997307933866979\n",
            "Epoch: 42, Batch: 330, Avg. Loss: 0.0011863538026809692\n",
            "Epoch: 42, Batch: 340, Avg. Loss: 0.002249918542802334\n"
          ],
          "name": "stdout"
        },
        {
          "output_type": "stream",
          "text": [
            "/usr/local/lib/python3.6/dist-packages/ipykernel_launcher.py:39: FutureWarning: Method .as_matrix will be removed in a future version. Use .values instead.\n",
            "/usr/local/lib/python3.6/dist-packages/ipykernel_launcher.py:39: FutureWarning: Method .as_matrix will be removed in a future version. Use .values instead.\n",
            "/usr/local/lib/python3.6/dist-packages/ipykernel_launcher.py:39: FutureWarning: Method .as_matrix will be removed in a future version. Use .values instead.\n",
            "/usr/local/lib/python3.6/dist-packages/ipykernel_launcher.py:39: FutureWarning: Method .as_matrix will be removed in a future version. Use .values instead.\n"
          ],
          "name": "stderr"
        },
        {
          "output_type": "stream",
          "text": [
            "Epoch: 43, Batch: 10, Avg. Loss: 0.0013792563453316688\n",
            "Epoch: 43, Batch: 20, Avg. Loss: 0.000989765651524067\n",
            "Epoch: 43, Batch: 30, Avg. Loss: 0.001175878543406725\n",
            "Epoch: 43, Batch: 40, Avg. Loss: 0.0013511924371123313\n",
            "Epoch: 43, Batch: 50, Avg. Loss: 0.0013120666295289994\n",
            "Epoch: 43, Batch: 60, Avg. Loss: 0.0013248797208070754\n",
            "Epoch: 43, Batch: 70, Avg. Loss: 0.0013719124048948287\n",
            "Epoch: 43, Batch: 80, Avg. Loss: 0.0010436183884739876\n",
            "Epoch: 43, Batch: 90, Avg. Loss: 0.0013947032690048218\n",
            "Epoch: 43, Batch: 100, Avg. Loss: 0.0013878596872091294\n",
            "Epoch: 43, Batch: 110, Avg. Loss: 0.0019237383268773556\n",
            "Epoch: 43, Batch: 120, Avg. Loss: 0.0015569243878126144\n",
            "Epoch: 43, Batch: 130, Avg. Loss: 0.0009945531897246837\n",
            "Epoch: 43, Batch: 140, Avg. Loss: 0.002424569323658943\n",
            "Epoch: 43, Batch: 150, Avg. Loss: 0.00148624786734581\n",
            "Epoch: 43, Batch: 160, Avg. Loss: 0.0009854679182171823\n",
            "Epoch: 43, Batch: 170, Avg. Loss: 0.0016980258747935294\n",
            "Epoch: 43, Batch: 180, Avg. Loss: 0.0010058876350522042\n",
            "Epoch: 43, Batch: 190, Avg. Loss: 0.0017523718290030957\n",
            "Epoch: 43, Batch: 200, Avg. Loss: 0.0011159316562116147\n",
            "Epoch: 43, Batch: 210, Avg. Loss: 0.0010851750262081622\n",
            "Epoch: 43, Batch: 220, Avg. Loss: 0.0016532959789037705\n",
            "Epoch: 43, Batch: 230, Avg. Loss: 0.001129703514277935\n",
            "Epoch: 43, Batch: 240, Avg. Loss: 0.0016242157220840454\n",
            "Epoch: 43, Batch: 250, Avg. Loss: 0.0012948226742446423\n",
            "Epoch: 43, Batch: 260, Avg. Loss: 0.0011616354435682297\n",
            "Epoch: 43, Batch: 270, Avg. Loss: 0.001169966034591198\n",
            "Epoch: 43, Batch: 280, Avg. Loss: 0.0010409382432699204\n",
            "Epoch: 43, Batch: 290, Avg. Loss: 0.001106544341892004\n",
            "Epoch: 43, Batch: 300, Avg. Loss: 0.0011648230031132698\n",
            "Epoch: 43, Batch: 310, Avg. Loss: 0.001350179336965084\n",
            "Epoch: 43, Batch: 320, Avg. Loss: 0.0014349502101540566\n",
            "Epoch: 43, Batch: 330, Avg. Loss: 0.0015724498927593231\n",
            "Epoch: 43, Batch: 340, Avg. Loss: 0.0012092907652258872\n"
          ],
          "name": "stdout"
        },
        {
          "output_type": "stream",
          "text": [
            "/usr/local/lib/python3.6/dist-packages/ipykernel_launcher.py:39: FutureWarning: Method .as_matrix will be removed in a future version. Use .values instead.\n",
            "/usr/local/lib/python3.6/dist-packages/ipykernel_launcher.py:39: FutureWarning: Method .as_matrix will be removed in a future version. Use .values instead.\n",
            "/usr/local/lib/python3.6/dist-packages/ipykernel_launcher.py:39: FutureWarning: Method .as_matrix will be removed in a future version. Use .values instead.\n",
            "/usr/local/lib/python3.6/dist-packages/ipykernel_launcher.py:39: FutureWarning: Method .as_matrix will be removed in a future version. Use .values instead.\n"
          ],
          "name": "stderr"
        },
        {
          "output_type": "stream",
          "text": [
            "Epoch: 44, Batch: 10, Avg. Loss: 0.0013651792779564857\n",
            "Epoch: 44, Batch: 20, Avg. Loss: 0.0009515255391597748\n",
            "Epoch: 44, Batch: 30, Avg. Loss: 0.001430615857243538\n",
            "Epoch: 44, Batch: 40, Avg. Loss: 0.0012696395851671696\n",
            "Epoch: 44, Batch: 50, Avg. Loss: 0.001292727567255497\n",
            "Epoch: 44, Batch: 60, Avg. Loss: 0.0014890078343451022\n",
            "Epoch: 44, Batch: 70, Avg. Loss: 0.0012686581164598465\n",
            "Epoch: 44, Batch: 80, Avg. Loss: 0.0011249555349349975\n",
            "Epoch: 44, Batch: 90, Avg. Loss: 0.0011939780563116073\n",
            "Epoch: 44, Batch: 100, Avg. Loss: 0.001089645866304636\n",
            "Epoch: 44, Batch: 110, Avg. Loss: 0.0011511786803603172\n",
            "Epoch: 44, Batch: 120, Avg. Loss: 0.0012873141914606094\n",
            "Epoch: 44, Batch: 130, Avg. Loss: 0.001331294409930706\n",
            "Epoch: 44, Batch: 140, Avg. Loss: 0.0011662146896123885\n",
            "Epoch: 44, Batch: 150, Avg. Loss: 0.0010220171511173249\n",
            "Epoch: 44, Batch: 160, Avg. Loss: 0.0011542701348662377\n",
            "Epoch: 44, Batch: 170, Avg. Loss: 0.0010308878980576992\n",
            "Epoch: 44, Batch: 180, Avg. Loss: 0.0012143558003008365\n",
            "Epoch: 44, Batch: 190, Avg. Loss: 0.0008367585092782974\n",
            "Epoch: 44, Batch: 200, Avg. Loss: 0.0010370930209755898\n",
            "Epoch: 44, Batch: 210, Avg. Loss: 0.0014111620336771011\n",
            "Epoch: 44, Batch: 220, Avg. Loss: 0.0016783526241779328\n",
            "Epoch: 44, Batch: 230, Avg. Loss: 0.0015605819672346115\n",
            "Epoch: 44, Batch: 240, Avg. Loss: 0.0014334723353385925\n",
            "Epoch: 44, Batch: 250, Avg. Loss: 0.0010453730449080467\n",
            "Epoch: 44, Batch: 260, Avg. Loss: 0.0015356903299689293\n",
            "Epoch: 44, Batch: 270, Avg. Loss: 0.0016331944242119788\n",
            "Epoch: 44, Batch: 280, Avg. Loss: 0.0011692268475890159\n",
            "Epoch: 44, Batch: 290, Avg. Loss: 0.001331141270697117\n",
            "Epoch: 44, Batch: 300, Avg. Loss: 0.0015846300572156906\n",
            "Epoch: 44, Batch: 310, Avg. Loss: 0.0012979630380868911\n",
            "Epoch: 44, Batch: 320, Avg. Loss: 0.0009552640914916992\n",
            "Epoch: 44, Batch: 330, Avg. Loss: 0.0026202803924679757\n",
            "Epoch: 44, Batch: 340, Avg. Loss: 0.002125283442437649\n"
          ],
          "name": "stdout"
        },
        {
          "output_type": "stream",
          "text": [
            "/usr/local/lib/python3.6/dist-packages/ipykernel_launcher.py:39: FutureWarning: Method .as_matrix will be removed in a future version. Use .values instead.\n",
            "/usr/local/lib/python3.6/dist-packages/ipykernel_launcher.py:39: FutureWarning: Method .as_matrix will be removed in a future version. Use .values instead.\n",
            "/usr/local/lib/python3.6/dist-packages/ipykernel_launcher.py:39: FutureWarning: Method .as_matrix will be removed in a future version. Use .values instead.\n",
            "/usr/local/lib/python3.6/dist-packages/ipykernel_launcher.py:39: FutureWarning: Method .as_matrix will be removed in a future version. Use .values instead.\n"
          ],
          "name": "stderr"
        },
        {
          "output_type": "stream",
          "text": [
            "Epoch: 45, Batch: 10, Avg. Loss: 0.0019662858098745345\n",
            "Epoch: 45, Batch: 20, Avg. Loss: 0.0008803969025611878\n",
            "Epoch: 45, Batch: 30, Avg. Loss: 0.0011473592333495616\n",
            "Epoch: 45, Batch: 40, Avg. Loss: 0.0012704158388078214\n",
            "Epoch: 45, Batch: 50, Avg. Loss: 0.001255492892116308\n",
            "Epoch: 45, Batch: 60, Avg. Loss: 0.0016808262057602405\n",
            "Epoch: 45, Batch: 70, Avg. Loss: 0.001269839946180582\n",
            "Epoch: 45, Batch: 80, Avg. Loss: 0.0013511008620262146\n",
            "Epoch: 45, Batch: 90, Avg. Loss: 0.0013499521277844906\n",
            "Epoch: 45, Batch: 100, Avg. Loss: 0.0011086466535925865\n",
            "Epoch: 45, Batch: 110, Avg. Loss: 0.0012616932950913907\n",
            "Epoch: 45, Batch: 120, Avg. Loss: 0.0009819508641958237\n",
            "Epoch: 45, Batch: 130, Avg. Loss: 0.0016193500533699988\n",
            "Epoch: 45, Batch: 140, Avg. Loss: 0.0011623881347477437\n",
            "Epoch: 45, Batch: 150, Avg. Loss: 0.0012120203003287316\n",
            "Epoch: 45, Batch: 160, Avg. Loss: 0.0013251262418925763\n",
            "Epoch: 45, Batch: 170, Avg. Loss: 0.0011244128607213496\n",
            "Epoch: 45, Batch: 180, Avg. Loss: 0.0016377395242452623\n",
            "Epoch: 45, Batch: 190, Avg. Loss: 0.0012346221655607224\n",
            "Epoch: 45, Batch: 200, Avg. Loss: 0.001368125431239605\n",
            "Epoch: 45, Batch: 210, Avg. Loss: 0.001248044215142727\n",
            "Epoch: 45, Batch: 220, Avg. Loss: 0.0010539665296673774\n",
            "Epoch: 45, Batch: 230, Avg. Loss: 0.0013262540474534034\n",
            "Epoch: 45, Batch: 240, Avg. Loss: 0.0017866627126932144\n",
            "Epoch: 45, Batch: 250, Avg. Loss: 0.0013718990311026573\n",
            "Epoch: 45, Batch: 260, Avg. Loss: 0.0009245946407318115\n",
            "Epoch: 45, Batch: 270, Avg. Loss: 0.0013885622210800647\n",
            "Epoch: 45, Batch: 280, Avg. Loss: 0.0013816626965999603\n",
            "Epoch: 45, Batch: 290, Avg. Loss: 0.0013613869063556195\n",
            "Epoch: 45, Batch: 300, Avg. Loss: 0.0010986704975366592\n",
            "Epoch: 45, Batch: 310, Avg. Loss: 0.0014487752914428712\n",
            "Epoch: 45, Batch: 320, Avg. Loss: 0.0012993337213993072\n",
            "Epoch: 45, Batch: 330, Avg. Loss: 0.0011271088309586048\n",
            "Epoch: 45, Batch: 340, Avg. Loss: 0.0013952229879796506\n"
          ],
          "name": "stdout"
        },
        {
          "output_type": "stream",
          "text": [
            "/usr/local/lib/python3.6/dist-packages/ipykernel_launcher.py:39: FutureWarning: Method .as_matrix will be removed in a future version. Use .values instead.\n",
            "/usr/local/lib/python3.6/dist-packages/ipykernel_launcher.py:39: FutureWarning: Method .as_matrix will be removed in a future version. Use .values instead.\n",
            "/usr/local/lib/python3.6/dist-packages/ipykernel_launcher.py:39: FutureWarning: Method .as_matrix will be removed in a future version. Use .values instead.\n",
            "/usr/local/lib/python3.6/dist-packages/ipykernel_launcher.py:39: FutureWarning: Method .as_matrix will be removed in a future version. Use .values instead.\n"
          ],
          "name": "stderr"
        },
        {
          "output_type": "stream",
          "text": [
            "Epoch: 46, Batch: 10, Avg. Loss: 0.0011906544640660286\n",
            "Epoch: 46, Batch: 20, Avg. Loss: 0.0015487860217690468\n",
            "Epoch: 46, Batch: 30, Avg. Loss: 0.0028853195756673813\n",
            "Epoch: 46, Batch: 40, Avg. Loss: 0.0017193730100989342\n",
            "Epoch: 46, Batch: 50, Avg. Loss: 0.0011150117181241512\n",
            "Epoch: 46, Batch: 60, Avg. Loss: 0.0011952944695949555\n",
            "Epoch: 46, Batch: 70, Avg. Loss: 0.0011719754710793496\n",
            "Epoch: 46, Batch: 80, Avg. Loss: 0.0013510330021381377\n",
            "Epoch: 46, Batch: 90, Avg. Loss: 0.0012493868246674538\n",
            "Epoch: 46, Batch: 100, Avg. Loss: 0.0012405278384685517\n",
            "Epoch: 46, Batch: 110, Avg. Loss: 0.0015449753552675247\n",
            "Epoch: 46, Batch: 120, Avg. Loss: 0.0012593858391046523\n",
            "Epoch: 46, Batch: 130, Avg. Loss: 0.0009944026470184327\n",
            "Epoch: 46, Batch: 140, Avg. Loss: 0.0009193591848015786\n",
            "Epoch: 46, Batch: 150, Avg. Loss: 0.0011352092251181603\n",
            "Epoch: 46, Batch: 160, Avg. Loss: 0.0011011033207178117\n",
            "Epoch: 46, Batch: 170, Avg. Loss: 0.0012684544771909714\n",
            "Epoch: 46, Batch: 180, Avg. Loss: 0.0011739151626825332\n",
            "Epoch: 46, Batch: 190, Avg. Loss: 0.0011849095076322555\n",
            "Epoch: 46, Batch: 200, Avg. Loss: 0.0015528142414987086\n",
            "Epoch: 46, Batch: 210, Avg. Loss: 0.0012983787506818771\n",
            "Epoch: 46, Batch: 220, Avg. Loss: 0.0016180198565125465\n",
            "Epoch: 46, Batch: 230, Avg. Loss: 0.0010239015258848667\n",
            "Epoch: 46, Batch: 240, Avg. Loss: 0.0012646737694740296\n",
            "Epoch: 46, Batch: 250, Avg. Loss: 0.001218333411961794\n",
            "Epoch: 46, Batch: 260, Avg. Loss: 0.0014130413196980953\n",
            "Epoch: 46, Batch: 270, Avg. Loss: 0.0013127541691064836\n",
            "Epoch: 46, Batch: 280, Avg. Loss: 0.0014316904433071614\n",
            "Epoch: 46, Batch: 290, Avg. Loss: 0.0024115898162126543\n",
            "Epoch: 46, Batch: 300, Avg. Loss: 0.0016941806934773923\n",
            "Epoch: 46, Batch: 310, Avg. Loss: 0.001216831050813198\n",
            "Epoch: 46, Batch: 320, Avg. Loss: 0.0014549150988459587\n",
            "Epoch: 46, Batch: 330, Avg. Loss: 0.001818173386156559\n",
            "Epoch: 46, Batch: 340, Avg. Loss: 0.0010660300478339195\n"
          ],
          "name": "stdout"
        },
        {
          "output_type": "stream",
          "text": [
            "/usr/local/lib/python3.6/dist-packages/ipykernel_launcher.py:39: FutureWarning: Method .as_matrix will be removed in a future version. Use .values instead.\n",
            "/usr/local/lib/python3.6/dist-packages/ipykernel_launcher.py:39: FutureWarning: Method .as_matrix will be removed in a future version. Use .values instead.\n",
            "/usr/local/lib/python3.6/dist-packages/ipykernel_launcher.py:39: FutureWarning: Method .as_matrix will be removed in a future version. Use .values instead.\n",
            "/usr/local/lib/python3.6/dist-packages/ipykernel_launcher.py:39: FutureWarning: Method .as_matrix will be removed in a future version. Use .values instead.\n"
          ],
          "name": "stderr"
        },
        {
          "output_type": "stream",
          "text": [
            "Epoch: 47, Batch: 10, Avg. Loss: 0.0011086914390325546\n",
            "Epoch: 47, Batch: 20, Avg. Loss: 0.0009987853989005088\n",
            "Epoch: 47, Batch: 30, Avg. Loss: 0.0027263018265366555\n",
            "Epoch: 47, Batch: 40, Avg. Loss: 0.0011383624821901322\n",
            "Epoch: 47, Batch: 50, Avg. Loss: 0.001197369374334812\n",
            "Epoch: 47, Batch: 60, Avg. Loss: 0.001174046479165554\n",
            "Epoch: 47, Batch: 70, Avg. Loss: 0.0012142734378576278\n",
            "Epoch: 47, Batch: 80, Avg. Loss: 0.0010102789774537086\n",
            "Epoch: 47, Batch: 90, Avg. Loss: 0.0016867049224674703\n",
            "Epoch: 47, Batch: 100, Avg. Loss: 0.0012652345225214958\n",
            "Epoch: 47, Batch: 110, Avg. Loss: 0.0015035503841936589\n",
            "Epoch: 47, Batch: 120, Avg. Loss: 0.0011860030293464662\n",
            "Epoch: 47, Batch: 130, Avg. Loss: 0.0008699390515685082\n",
            "Epoch: 47, Batch: 140, Avg. Loss: 0.0010146589800715446\n",
            "Epoch: 47, Batch: 150, Avg. Loss: 0.0013944258391857148\n",
            "Epoch: 47, Batch: 160, Avg. Loss: 0.0013307940810918808\n",
            "Epoch: 47, Batch: 170, Avg. Loss: 0.0011686310842633247\n",
            "Epoch: 47, Batch: 180, Avg. Loss: 0.0012131083831191064\n",
            "Epoch: 47, Batch: 190, Avg. Loss: 0.0014094553738832473\n",
            "Epoch: 47, Batch: 200, Avg. Loss: 0.0013806685507297516\n",
            "Epoch: 47, Batch: 210, Avg. Loss: 0.0010519786961376667\n",
            "Epoch: 47, Batch: 220, Avg. Loss: 0.00104123180732131\n",
            "Epoch: 47, Batch: 230, Avg. Loss: 0.001163619562983513\n",
            "Epoch: 47, Batch: 240, Avg. Loss: 0.0018276805803179742\n",
            "Epoch: 47, Batch: 250, Avg. Loss: 0.0013447334766387938\n",
            "Epoch: 47, Batch: 260, Avg. Loss: 0.0012258973047137261\n",
            "Epoch: 47, Batch: 270, Avg. Loss: 0.001027131050825119\n",
            "Epoch: 47, Batch: 280, Avg. Loss: 0.0010665212348103523\n",
            "Epoch: 47, Batch: 290, Avg. Loss: 0.001162499099969864\n",
            "Epoch: 47, Batch: 300, Avg. Loss: 0.0014082199856638908\n",
            "Epoch: 47, Batch: 310, Avg. Loss: 0.0015937008336186409\n",
            "Epoch: 47, Batch: 320, Avg. Loss: 0.0013824589811265468\n",
            "Epoch: 47, Batch: 330, Avg. Loss: 0.0015474007949233056\n",
            "Epoch: 47, Batch: 340, Avg. Loss: 0.0013822880797088146\n"
          ],
          "name": "stdout"
        },
        {
          "output_type": "stream",
          "text": [
            "/usr/local/lib/python3.6/dist-packages/ipykernel_launcher.py:39: FutureWarning: Method .as_matrix will be removed in a future version. Use .values instead.\n",
            "/usr/local/lib/python3.6/dist-packages/ipykernel_launcher.py:39: FutureWarning: Method .as_matrix will be removed in a future version. Use .values instead.\n",
            "/usr/local/lib/python3.6/dist-packages/ipykernel_launcher.py:39: FutureWarning: Method .as_matrix will be removed in a future version. Use .values instead.\n",
            "/usr/local/lib/python3.6/dist-packages/ipykernel_launcher.py:39: FutureWarning: Method .as_matrix will be removed in a future version. Use .values instead.\n"
          ],
          "name": "stderr"
        },
        {
          "output_type": "stream",
          "text": [
            "Epoch: 48, Batch: 10, Avg. Loss: 0.0012130700685083866\n",
            "Epoch: 48, Batch: 20, Avg. Loss: 0.0011468508280813694\n",
            "Epoch: 48, Batch: 30, Avg. Loss: 0.0012179349437355996\n",
            "Epoch: 48, Batch: 40, Avg. Loss: 0.0014062521085143088\n",
            "Epoch: 48, Batch: 50, Avg. Loss: 0.0011874531470239163\n",
            "Epoch: 48, Batch: 60, Avg. Loss: 0.0013994347900152207\n",
            "Epoch: 48, Batch: 70, Avg. Loss: 0.0009533366188406944\n",
            "Epoch: 48, Batch: 80, Avg. Loss: 0.0013528252691030502\n",
            "Epoch: 48, Batch: 90, Avg. Loss: 0.0013946760594844819\n",
            "Epoch: 48, Batch: 100, Avg. Loss: 0.0009950125850737095\n",
            "Epoch: 48, Batch: 110, Avg. Loss: 0.001114879075437784\n",
            "Epoch: 48, Batch: 120, Avg. Loss: 0.0012263958863914014\n",
            "Epoch: 48, Batch: 130, Avg. Loss: 0.0010686563923954964\n",
            "Epoch: 48, Batch: 140, Avg. Loss: 0.0010716402754187583\n",
            "Epoch: 48, Batch: 150, Avg. Loss: 0.0012046648003160953\n",
            "Epoch: 48, Batch: 160, Avg. Loss: 0.001159885138273239\n",
            "Epoch: 48, Batch: 170, Avg. Loss: 0.001474282257258892\n",
            "Epoch: 48, Batch: 180, Avg. Loss: 0.0014313418194651603\n",
            "Epoch: 48, Batch: 190, Avg. Loss: 0.0010776782110333443\n",
            "Epoch: 48, Batch: 200, Avg. Loss: 0.0011613877527415753\n",
            "Epoch: 48, Batch: 210, Avg. Loss: 0.0013526451401412486\n",
            "Epoch: 48, Batch: 220, Avg. Loss: 0.0015082529857754707\n",
            "Epoch: 48, Batch: 230, Avg. Loss: 0.00162953632324934\n",
            "Epoch: 48, Batch: 240, Avg. Loss: 0.001129873126745224\n",
            "Epoch: 48, Batch: 250, Avg. Loss: 0.001443376138806343\n",
            "Epoch: 48, Batch: 260, Avg. Loss: 0.0012744121626019477\n",
            "Epoch: 48, Batch: 270, Avg. Loss: 0.001306811861693859\n",
            "Epoch: 48, Batch: 280, Avg. Loss: 0.001698249690234661\n",
            "Epoch: 48, Batch: 290, Avg. Loss: 0.0011799958385527135\n",
            "Epoch: 48, Batch: 300, Avg. Loss: 0.002645731035619974\n",
            "Epoch: 48, Batch: 310, Avg. Loss: 0.001153443843126297\n",
            "Epoch: 48, Batch: 320, Avg. Loss: 0.0014325677491724492\n",
            "Epoch: 48, Batch: 330, Avg. Loss: 0.001607737772166729\n",
            "Epoch: 48, Batch: 340, Avg. Loss: 0.0013069780990481376\n"
          ],
          "name": "stdout"
        },
        {
          "output_type": "stream",
          "text": [
            "/usr/local/lib/python3.6/dist-packages/ipykernel_launcher.py:39: FutureWarning: Method .as_matrix will be removed in a future version. Use .values instead.\n",
            "/usr/local/lib/python3.6/dist-packages/ipykernel_launcher.py:39: FutureWarning: Method .as_matrix will be removed in a future version. Use .values instead.\n",
            "/usr/local/lib/python3.6/dist-packages/ipykernel_launcher.py:39: FutureWarning: Method .as_matrix will be removed in a future version. Use .values instead.\n",
            "/usr/local/lib/python3.6/dist-packages/ipykernel_launcher.py:39: FutureWarning: Method .as_matrix will be removed in a future version. Use .values instead.\n"
          ],
          "name": "stderr"
        },
        {
          "output_type": "stream",
          "text": [
            "Epoch: 49, Batch: 10, Avg. Loss: 0.0010593447834253312\n",
            "Epoch: 49, Batch: 20, Avg. Loss: 0.0016760377697646617\n",
            "Epoch: 49, Batch: 30, Avg. Loss: 0.0015069117620587348\n",
            "Epoch: 49, Batch: 40, Avg. Loss: 0.001287119135260582\n",
            "Epoch: 49, Batch: 50, Avg. Loss: 0.0011114006973803043\n",
            "Epoch: 49, Batch: 60, Avg. Loss: 0.0016429869011044503\n",
            "Epoch: 49, Batch: 70, Avg. Loss: 0.001302235335111618\n",
            "Epoch: 49, Batch: 80, Avg. Loss: 0.0015948108658194542\n",
            "Epoch: 49, Batch: 90, Avg. Loss: 0.0012452633008360862\n",
            "Epoch: 49, Batch: 100, Avg. Loss: 0.001361783966422081\n",
            "Epoch: 49, Batch: 110, Avg. Loss: 0.0012061508521437644\n",
            "Epoch: 49, Batch: 120, Avg. Loss: 0.0011365601494908333\n",
            "Epoch: 49, Batch: 130, Avg. Loss: 0.0014982107989490031\n",
            "Epoch: 49, Batch: 140, Avg. Loss: 0.0010155722461640834\n",
            "Epoch: 49, Batch: 150, Avg. Loss: 0.001097516804933548\n",
            "Epoch: 49, Batch: 160, Avg. Loss: 0.0024165911227464676\n",
            "Epoch: 49, Batch: 170, Avg. Loss: 0.0018952749073505401\n",
            "Epoch: 49, Batch: 180, Avg. Loss: 0.0015366906337440013\n",
            "Epoch: 49, Batch: 190, Avg. Loss: 0.0010871401429176331\n",
            "Epoch: 49, Batch: 200, Avg. Loss: 0.0011317139938473702\n",
            "Epoch: 49, Batch: 210, Avg. Loss: 0.0011073359474539756\n",
            "Epoch: 49, Batch: 220, Avg. Loss: 0.001405844297260046\n",
            "Epoch: 49, Batch: 230, Avg. Loss: 0.001124219611287117\n",
            "Epoch: 49, Batch: 240, Avg. Loss: 0.0011529408916831016\n",
            "Epoch: 49, Batch: 250, Avg. Loss: 0.0012838074527680874\n",
            "Epoch: 49, Batch: 260, Avg. Loss: 0.0010925105698406695\n",
            "Epoch: 49, Batch: 270, Avg. Loss: 0.0012948362194001675\n",
            "Epoch: 49, Batch: 280, Avg. Loss: 0.0013687909841537476\n",
            "Epoch: 49, Batch: 290, Avg. Loss: 0.0012065094597637654\n",
            "Epoch: 49, Batch: 300, Avg. Loss: 0.001222817599773407\n",
            "Epoch: 49, Batch: 310, Avg. Loss: 0.0012472914978861808\n",
            "Epoch: 49, Batch: 320, Avg. Loss: 0.0011323731653392316\n",
            "Epoch: 49, Batch: 330, Avg. Loss: 0.0011711466200649738\n",
            "Epoch: 49, Batch: 340, Avg. Loss: 0.0009581639282405377\n"
          ],
          "name": "stdout"
        },
        {
          "output_type": "stream",
          "text": [
            "/usr/local/lib/python3.6/dist-packages/ipykernel_launcher.py:39: FutureWarning: Method .as_matrix will be removed in a future version. Use .values instead.\n",
            "/usr/local/lib/python3.6/dist-packages/ipykernel_launcher.py:39: FutureWarning: Method .as_matrix will be removed in a future version. Use .values instead.\n",
            "/usr/local/lib/python3.6/dist-packages/ipykernel_launcher.py:39: FutureWarning: Method .as_matrix will be removed in a future version. Use .values instead.\n",
            "/usr/local/lib/python3.6/dist-packages/ipykernel_launcher.py:39: FutureWarning: Method .as_matrix will be removed in a future version. Use .values instead.\n"
          ],
          "name": "stderr"
        },
        {
          "output_type": "stream",
          "text": [
            "Epoch: 50, Batch: 10, Avg. Loss: 0.002029864016920328\n",
            "Epoch: 50, Batch: 20, Avg. Loss: 0.0015346263498067856\n",
            "Epoch: 50, Batch: 30, Avg. Loss: 0.0022897716648876665\n",
            "Epoch: 50, Batch: 40, Avg. Loss: 0.0010337002724409104\n",
            "Epoch: 50, Batch: 50, Avg. Loss: 0.0015134469047188759\n",
            "Epoch: 50, Batch: 60, Avg. Loss: 0.0012362269163131714\n",
            "Epoch: 50, Batch: 70, Avg. Loss: 0.00091521055996418\n",
            "Epoch: 50, Batch: 80, Avg. Loss: 0.0015781649500131608\n",
            "Epoch: 50, Batch: 90, Avg. Loss: 0.0009340748153626919\n",
            "Epoch: 50, Batch: 100, Avg. Loss: 0.0008845291547477245\n",
            "Epoch: 50, Batch: 110, Avg. Loss: 0.0010416481867432594\n",
            "Epoch: 50, Batch: 120, Avg. Loss: 0.0014880782775580884\n",
            "Epoch: 50, Batch: 130, Avg. Loss: 0.0011190728358924389\n",
            "Epoch: 50, Batch: 140, Avg. Loss: 0.0010517938770353793\n",
            "Epoch: 50, Batch: 150, Avg. Loss: 0.0012379161715507507\n",
            "Epoch: 50, Batch: 160, Avg. Loss: 0.0030456154495477677\n",
            "Epoch: 50, Batch: 170, Avg. Loss: 0.0013881465122103692\n",
            "Epoch: 50, Batch: 180, Avg. Loss: 0.0009940256997942926\n",
            "Epoch: 50, Batch: 190, Avg. Loss: 0.0011350670047104358\n",
            "Epoch: 50, Batch: 200, Avg. Loss: 0.0008721454702317714\n",
            "Epoch: 50, Batch: 210, Avg. Loss: 0.0015888604670763016\n",
            "Epoch: 50, Batch: 220, Avg. Loss: 0.0013227028995752336\n",
            "Epoch: 50, Batch: 230, Avg. Loss: 0.001122082807123661\n",
            "Epoch: 50, Batch: 240, Avg. Loss: 0.0007915238849818707\n",
            "Epoch: 50, Batch: 250, Avg. Loss: 0.0010643837749958038\n",
            "Epoch: 50, Batch: 260, Avg. Loss: 0.0012354445531964301\n",
            "Epoch: 50, Batch: 270, Avg. Loss: 0.001471753381192684\n",
            "Epoch: 50, Batch: 280, Avg. Loss: 0.0013398066647350789\n",
            "Epoch: 50, Batch: 290, Avg. Loss: 0.0017652553841471673\n",
            "Epoch: 50, Batch: 300, Avg. Loss: 0.0011739318743348123\n",
            "Epoch: 50, Batch: 310, Avg. Loss: 0.001196016326546669\n",
            "Epoch: 50, Batch: 320, Avg. Loss: 0.001244539625942707\n",
            "Epoch: 50, Batch: 330, Avg. Loss: 0.001019494216889143\n",
            "Epoch: 50, Batch: 340, Avg. Loss: 0.0010922687202692032\n",
            "Finished Training\n"
          ],
          "name": "stdout"
        }
      ]
    },
    {
      "cell_type": "markdown",
      "metadata": {
        "id": "KEaz1kZYVLuR",
        "colab_type": "text"
      },
      "source": [
        "## Test data\n",
        "\n",
        "See how your model performs on previously unseen, test data. We've already loaded and transformed this data, similar to the training data. Next, run your trained model on these images to see what kind of keypoints are produced. You should be able to see if your model is fitting each new face it sees, if the points are distributed randomly, or if the points have actually overfitted the training data and do not generalize."
      ]
    },
    {
      "cell_type": "code",
      "metadata": {
        "id": "wQYdpqcEVLuS",
        "colab_type": "code",
        "colab": {
          "base_uri": "https://localhost:8080/",
          "height": 141
        },
        "outputId": "23a66b06-5d9f-41ed-b5a1-1fac14def21c"
      },
      "source": [
        "# get a sample of test data again\n",
        "test_images, test_outputs, gt_pts = net_sample_output()\n",
        "\n",
        "print(test_images.data.size())\n",
        "print(test_outputs.data.size())\n",
        "print(gt_pts.size())"
      ],
      "execution_count": 24,
      "outputs": [
        {
          "output_type": "stream",
          "text": [
            "/usr/local/lib/python3.6/dist-packages/ipykernel_launcher.py:39: FutureWarning: Method .as_matrix will be removed in a future version. Use .values instead.\n",
            "/usr/local/lib/python3.6/dist-packages/ipykernel_launcher.py:39: FutureWarning: Method .as_matrix will be removed in a future version. Use .values instead.\n",
            "/usr/local/lib/python3.6/dist-packages/ipykernel_launcher.py:39: FutureWarning: Method .as_matrix will be removed in a future version. Use .values instead.\n",
            "/usr/local/lib/python3.6/dist-packages/ipykernel_launcher.py:39: FutureWarning: Method .as_matrix will be removed in a future version. Use .values instead.\n"
          ],
          "name": "stderr"
        },
        {
          "output_type": "stream",
          "text": [
            "torch.Size([10, 1, 224, 224])\n",
            "torch.Size([10, 68, 2])\n",
            "torch.Size([10, 68, 2])\n"
          ],
          "name": "stdout"
        }
      ]
    },
    {
      "cell_type": "code",
      "metadata": {
        "id": "FtLN4kotVLuV",
        "colab_type": "code",
        "colab": {
          "base_uri": "https://localhost:8080/",
          "height": 1000
        },
        "outputId": "a5f83956-a140-4309-ee07-b01e90b9c6e7"
      },
      "source": [
        "## TODO: visualize your test output\n",
        "# you can use the same function as before, by un-commenting the line below:\n",
        "\n",
        "visualize_output(test_images, test_outputs, gt_pts)\n"
      ],
      "execution_count": 25,
      "outputs": [
        {
          "output_type": "display_data",
          "data": {
            "image/png": "[encoded data removed]",
            "text/plain": [
              "<Figure size 1440x720 with 1 Axes>"
            ]
          },
          "metadata": {
            "tags": []
          }
        },
        {
          "output_type": "display_data",
          "data": {
            "image/png": "[encoded data removed]",
            "text/plain": [
              "<Figure size 1440x720 with 1 Axes>"
            ]
          },
          "metadata": {
            "tags": []
          }
        },
        {
          "output_type": "display_data",
          "data": {
            "image/png": "[encoded data removed]",
            "text/plain": [
              "<Figure size 1440x720 with 1 Axes>"
            ]
          },
          "metadata": {
            "tags": []
          }
        },
        {
          "output_type": "display_data",
          "data": {
            "image/png": "[encoded data removed]",
            "text/plain": [
              "<Figure size 1440x720 with 1 Axes>"
            ]
          },
          "metadata": {
            "tags": []
          }
        },
        {
          "output_type": "display_data",
          "data": {
            "image/png": "[encoded data removed]",
            "text/plain": [
              "<Figure size 1440x720 with 1 Axes>"
            ]
          },
          "metadata": {
            "tags": []
          }
        },
        {
          "output_type": "display_data",
          "data": {
            "image/png": "[encoded data removed]",
            "text/plain": [
              "<Figure size 1440x720 with 1 Axes>"
            ]
          },
          "metadata": {
            "tags": []
          }
        },
        {
          "output_type": "display_data",
          "data": {
            "image/png": "[encoded data removed]",
            "text/plain": [
              "<Figure size 1440x720 with 1 Axes>"
            ]
          },
          "metadata": {
            "tags": []
          }
        },
        {
          "output_type": "display_data",
          "data": {
            "image/png": "[encoded data removed]",
            "text/plain": [
              "<Figure size 1440x720 with 1 Axes>"
            ]
          },
          "metadata": {
            "tags": []
          }
        },
        {
          "output_type": "display_data",
          "data": {
            "image/png": "[encoded data removed]",
            "text/plain": [
              "<Figure size 1440x720 with 1 Axes>"
            ]
          },
          "metadata": {
            "tags": []
          }
        },
        {
          "output_type": "display_data",
          "data": {
            "image/png": "[encoded data removed]",
            "text/plain": [
              "<Figure size 1440x720 with 1 Axes>"
            ]
          },
          "metadata": {
            "tags": []
          }
        }
      ]
    },
    {
      "cell_type": "markdown",
      "metadata": {
        "id": "x5oqls9JVLua",
        "colab_type": "text"
      },
      "source": [
        "Once you've found a good model (or two), save your model so you can load it and use it later!"
      ]
    },
    {
      "cell_type": "code",
      "metadata": {
        "id": "Hz0Bj257VLua",
        "colab_type": "code",
        "colab": {}
      },
      "source": [
        "## TODO: change the name to something uniqe for each new model\n",
        "model_dir = '/content/drive/My Drive/P1_Facial_Keypoints-master/saved_models'\n",
        "model_name = 'keypoints_model_1.pt'\n",
        "\n",
        "# after training, save your model parameters in the dir 'saved_models'\n",
        "torch.save(net.state_dict(), model_dir+model_name)"
      ],
      "execution_count": 0,
      "outputs": []
    },
    {
      "cell_type": "markdown",
      "metadata": {
        "id": "pANcfG76VLuc",
        "colab_type": "text"
      },
      "source": [
        "After you've trained a well-performing model, answer the following questions so that we have some insight into your training and architecture selection process. Answering all questions is required to pass this project."
      ]
    },
    {
      "cell_type": "markdown",
      "metadata": {
        "id": "FUggZfEzVLuc",
        "colab_type": "text"
      },
      "source": [
        "### Question 1: What optimization and loss functions did you choose and why?\n"
      ]
    },
    {
      "cell_type": "markdown",
      "metadata": {
        "id": "iYwMIL4qVLud",
        "colab_type": "text"
      },
      "source": [
        "**Answer**: Loss Function used:  is Mean Squared Error Loss (MSE_Loss) for regression as the problem require continuous or real values not discrete.\n",
        "\n",
        "Optimizer Used : is Stochiastic Gradient Descent(SGDOptimizer ) for descending toward final wieghts fast as possible, As training instances are in thousands. And in long run time taken by SGD is comparatively low, and results on  test instance is good ."
      ]
    },
    {
      "cell_type": "markdown",
      "metadata": {
        "id": "J26kAMDFVLud",
        "colab_type": "text"
      },
      "source": [
        "### Question 2: What kind of network architecture did you start with and how did it change as you tried different architectures? Did you decide to add more convolutional layers or any layers to avoid overfitting the data?"
      ]
    },
    {
      "cell_type": "markdown",
      "metadata": {
        "id": "5_x6p2m_VLue",
        "colab_type": "text"
      },
      "source": [
        "**Answer**: **Initial Architecture**\n",
        "\n",
        " Net(\n",
        "  (conv1): Conv2d(1, 3, kernel_size=(5, 5), stride=(1, 1), padding=(2, 2))\n",
        "  (conv2): Conv2d(3, 16, kernel_size=(5, 5), stride=(1, 1), padding=(2, 2))\n",
        "  (conv2): Conv2d(16, 32, kernel_size=(5, 5), stride=(1, 1), padding=(2, 2))\n",
        "  (pool): MaxPool2d(kernel_size=2, stride=2, padding=0, dilation=1, ceil_mode=False)\n",
        "  (fc1): Linear(in_features=28224, out_features=300, bias=True)\n",
        "  (fc2): Linear(in_features=300, out_features=136, bias=True)\n",
        "  (dropout): Dropout(p=0.2, inplace=False)\n",
        ")\n",
        "\n",
        "Dropped this archetecture Because Architecture is quite heavy for the task as in last layer depth is 32 that is 32 wieght matrix Therefore model was taking too long to train and infer.\n",
        "\n",
        "**In** between, I tried many different architectures tweaked hyperparameters for whole day and night. At last I get to this final architecture which worked just fine with GPU support.\n",
        "\n",
        "\n",
        "\n",
        "**Final Architecture**\n",
        "\n",
        "\n",
        "Net(\n",
        "  (conv1): Conv2d(1, 3, kernel_size=(5, 5), stride=(1, 1), padding=(2, 2))\n",
        "  (conv2): Conv2d(3, 9, kernel_size=(5, 5), stride=(1, 1), padding=(2, 2))\n",
        "  (pool): MaxPool2d(kernel_size=2, stride=2, padding=0, dilation=1, ceil_mode=False)\n",
        "  (fc1): Linear(in_features=28224, out_features=300, bias=True)\n",
        "  (fc2): Linear(in_features=300, out_features=136, bias=True)\n",
        "  (dropout): Dropout(p=0.2, inplace=False)\n",
        ")\n",
        "\n",
        "\n",
        "This architecture worked because depth in convolving layers are 3 and 9 which is far less then 32 and seem to capture all the relevant wieght matrix as filters which in response is fast and in 50th epoch Average loss decreased to **Avg. Loss: 0.0010922687202692032** and trained network work pretty well on test data.\n",
        "\n",
        "\n",
        "**Yeah**, for this final architecture I dropped layers and also tuned hyper-parameters i.e epochs,batch_size, depth(no. of filters) to avoid overfitting."
      ]
    },
    {
      "cell_type": "markdown",
      "metadata": {
        "id": "KlmAvPswVLue",
        "colab_type": "text"
      },
      "source": [
        "### Question 3: How did you decide on the number of epochs and batch_size to train your model?"
      ]
    },
    {
      "cell_type": "markdown",
      "metadata": {
        "id": "ElNqXyT2VLuf",
        "colab_type": "text"
      },
      "source": [
        "**Answer**: It was simple in this case, I just followed Average training loss to minimum possible with increasing number of epochs. And checked for over-fitting by checking result of facial landmarks on test images comparative to idol or given facial landmarks."
      ]
    },
    {
      "cell_type": "markdown",
      "metadata": {
        "id": "wATfW-BvVLuf",
        "colab_type": "text"
      },
      "source": [
        "## Feature Visualization\n",
        "\n",
        "Sometimes, neural networks are thought of as a black box, given some input, they learn to produce some output. CNN's are actually learning to recognize a variety of spatial patterns and you can visualize what each convolutional layer has been trained to recognize by looking at the weights that make up each convolutional kernel and applying those one at a time to a sample image. This technique is called feature visualization and it's useful for understanding the inner workings of a CNN."
      ]
    },
    {
      "cell_type": "markdown",
      "metadata": {
        "id": "euefb7TGVLug",
        "colab_type": "text"
      },
      "source": [
        "In the cell below, you can see how to extract a single filter (by index) from your first convolutional layer. The filter should appear as a grayscale grid."
      ]
    },
    {
      "cell_type": "code",
      "metadata": {
        "id": "I87EtTT9VLuh",
        "colab_type": "code",
        "colab": {
          "base_uri": "https://localhost:8080/",
          "height": 394
        },
        "outputId": "b8a9960a-bab7-4f71-9c6e-ea9eea1ba293"
      },
      "source": [
        "# Get the weights in the first conv layer, \"conv1\"\n",
        "# if necessary, change this to reflect the name of your first conv layer\n",
        "weights1 = net.conv1.weight.data\n",
        "\n",
        "w = weights1.cpu().numpy()\n",
        "\n",
        "filter_index = 0\n",
        "\n",
        "print(w[filter_index][0])\n",
        "print(w[filter_index][0].shape)\n",
        "filter = w[filter_index][0]\n",
        "# display the filter weights\n",
        "plt.imshow(w[filter_index][0], cmap='gray')\n"
      ],
      "execution_count": 48,
      "outputs": [
        {
          "output_type": "stream",
          "text": [
            "[[-0.04295286 -0.11549288  0.00184732 -0.00871773  0.09544803]\n",
            " [-0.05294241 -0.12678091  0.03625398  0.06043987 -0.11596397]\n",
            " [-0.11847709  0.1874966  -0.1415935  -0.17334446 -0.01228555]\n",
            " [ 0.0143793   0.12594406  0.16696809 -0.10548301 -0.03947644]\n",
            " [ 0.20186317  0.2084457  -0.01496045 -0.0922098  -0.03371769]]\n",
            "(5, 5)\n"
          ],
          "name": "stdout"
        },
        {
          "output_type": "execute_result",
          "data": {
            "text/plain": [
              "<matplotlib.image.AxesImage at 0x7fc1bcdc7470>"
            ]
          },
          "metadata": {
            "tags": []
          },
          "execution_count": 48
        },
        {
          "output_type": "display_data",
          "data": {
            "image/png": "[encoded data removed]",
            "text/plain": [
              "<Figure size 432x288 with 1 Axes>"
            ]
          },
          "metadata": {
            "tags": []
          }
        }
      ]
    },
    {
      "cell_type": "markdown",
      "metadata": {
        "id": "VbSkdIUmVLuk",
        "colab_type": "text"
      },
      "source": [
        "## Feature maps\n",
        "\n",
        "Each CNN has at least one convolutional layer that is composed of stacked filters (also known as convolutional kernels). As a CNN trains, it learns what weights to include in it's convolutional kernels and when these kernels are applied to some input image, they produce a set of **feature maps**. So, feature maps are just sets of filtered images; they are the images produced by applying a convolutional kernel to an input image. These maps show us the features that the different layers of the neural network learn to extract. For example, you might imagine a convolutional kernel that detects the vertical edges of a face or another one that detects the corners of eyes. You can see what kind of features each of these kernels detects by applying them to an image. One such example is shown below; from the way it brings out the lines in an the image, you might characterize this as an edge detection filter.\n",
        "\n",
        "<img src='images/feature_map_ex.png' width=50% height=50%/>\n",
        "\n",
        "\n",
        "Next, choose a test image and filter it with one of the convolutional kernels in your trained CNN; look at the filtered output to get an idea what that particular kernel detects.\n",
        "\n",
        "### TODO: Filter an image to see the effect of a convolutional kernel\n",
        "---"
      ]
    },
    {
      "cell_type": "code",
      "metadata": {
        "id": "2isxrYfKVLuk",
        "colab_type": "code",
        "colab": {
          "base_uri": "https://localhost:8080/",
          "height": 588
        },
        "outputId": "25d568a9-ecd8-4623-a197-fb69a43720e7"
      },
      "source": [
        "##TODO: load in and display any image from the transformed test dataset\n",
        "imag =np.squeeze(test_images[2])\n",
        "#plt.imshow(imag,cmap = 'gray')\n",
        "ima = imag.numpy()\n",
        "\n",
        "## TODO: Using cv's filter2D function,\n",
        "## apply a specific set of filter weights (like the one displayed above) to the test image\n",
        "filtered_image = cv2.filter2D(ima, -1, filter)\n",
        "#plt.imshow(filtered_image,cmap = 'gray')\n",
        "f, (ax1, ax2) = plt.subplots(1, 2, figsize=(20,10))\n",
        "\n",
        "ax1.set_title('Original')\n",
        "ax1.imshow(imag, cmap='gray')\n",
        "\n",
        "ax2.set_title('Filtered')\n",
        "ax2.imshow(filtered_image, cmap='gray')"
      ],
      "execution_count": 57,
      "outputs": [
        {
          "output_type": "execute_result",
          "data": {
            "text/plain": [
              "<matplotlib.image.AxesImage at 0x7fc1bc9bf320>"
            ]
          },
          "metadata": {
            "tags": []
          },
          "execution_count": 57
        },
        {
          "output_type": "display_data",
          "data": {
            "image/png": "[encoded data removed]",
            "text/plain": [
              "<Figure size 1440x720 with 2 Axes>"
            ]
          },
          "metadata": {
            "tags": []
          }
        }
      ]
    },
    {
      "cell_type": "markdown",
      "metadata": {
        "id": "DyB6t5XfVLum",
        "colab_type": "text"
      },
      "source": [
        "### Question 4: Choose one filter from your trained CNN and apply it to a test image; what purpose do you think it plays? What kind of feature do you think it detects?\n"
      ]
    },
    {
      "cell_type": "markdown",
      "metadata": {
        "id": "aZswhiK3VLum",
        "colab_type": "text"
      },
      "source": [
        "**Answer**: This filter detects horizontal edges and looks like it doesn't blur image as facial stucture defining thin lines are still visible."
      ]
    },
    {
      "cell_type": "markdown",
      "metadata": {
        "id": "edVwsFV8VLum",
        "colab_type": "text"
      },
      "source": [
        "---\n",
        "## Moving on!\n",
        "\n",
        "Now that you've defined and trained your model (and saved the best model), you are ready to move on to the last notebook, which combines a face detector with your saved model to create a facial keypoint detection system that can predict the keypoints on *any* face in an image!"
      ]
    }
  ]
}